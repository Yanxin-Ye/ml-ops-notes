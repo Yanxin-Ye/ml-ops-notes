{
 "cells": [
  {
   "cell_type": "markdown",
   "id": "3c5b0bfa",
   "metadata": {},
   "source": [
    "# EDA/Insights/Analytics Questions\n",
    "\n",
    "The dataset is from Kaggle [Retail Transaction Dataset](https://www.kaggle.com/datasets/fahadrehman07/retail-transaction-dataset)"
   ]
  },
  {
   "cell_type": "code",
   "execution_count": 1,
   "id": "5956577a",
   "metadata": {},
   "outputs": [],
   "source": [
    "import pandas as pd\n",
    "import numpy as np\n",
    "from datetime import datetime, timedelta"
   ]
  },
  {
   "cell_type": "code",
   "execution_count": 2,
   "id": "6bd19002",
   "metadata": {},
   "outputs": [
    {
     "data": {
      "text/html": [
       "<div>\n",
       "<style scoped>\n",
       "    .dataframe tbody tr th:only-of-type {\n",
       "        vertical-align: middle;\n",
       "    }\n",
       "\n",
       "    .dataframe tbody tr th {\n",
       "        vertical-align: top;\n",
       "    }\n",
       "\n",
       "    .dataframe thead th {\n",
       "        text-align: right;\n",
       "    }\n",
       "</style>\n",
       "<table border=\"1\" class=\"dataframe\">\n",
       "  <thead>\n",
       "    <tr style=\"text-align: right;\">\n",
       "      <th></th>\n",
       "      <th>CustomerID</th>\n",
       "      <th>ProductID</th>\n",
       "      <th>Quantity</th>\n",
       "      <th>Price</th>\n",
       "      <th>TransactionDate</th>\n",
       "      <th>PaymentMethod</th>\n",
       "      <th>StoreLocation</th>\n",
       "      <th>ProductCategory</th>\n",
       "      <th>DiscountApplied(%)</th>\n",
       "      <th>TotalAmount</th>\n",
       "    </tr>\n",
       "  </thead>\n",
       "  <tbody>\n",
       "    <tr>\n",
       "      <th>0</th>\n",
       "      <td>109318</td>\n",
       "      <td>C</td>\n",
       "      <td>7</td>\n",
       "      <td>80.079844</td>\n",
       "      <td>12/26/2023 12:32</td>\n",
       "      <td>Cash</td>\n",
       "      <td>176 Andrew Cliffs\\nBaileyfort, HI 93354</td>\n",
       "      <td>Books</td>\n",
       "      <td>18.677100</td>\n",
       "      <td>455.862764</td>\n",
       "    </tr>\n",
       "    <tr>\n",
       "      <th>1</th>\n",
       "      <td>993229</td>\n",
       "      <td>C</td>\n",
       "      <td>4</td>\n",
       "      <td>75.195229</td>\n",
       "      <td>8/5/2023 0:00</td>\n",
       "      <td>Cash</td>\n",
       "      <td>11635 William Well Suite 809\\nEast Kara, MT 19483</td>\n",
       "      <td>Home Decor</td>\n",
       "      <td>14.121365</td>\n",
       "      <td>258.306546</td>\n",
       "    </tr>\n",
       "    <tr>\n",
       "      <th>2</th>\n",
       "      <td>579675</td>\n",
       "      <td>A</td>\n",
       "      <td>8</td>\n",
       "      <td>31.528816</td>\n",
       "      <td>3/11/2024 18:51</td>\n",
       "      <td>Cash</td>\n",
       "      <td>910 Mendez Ville Suite 909\\nPort Lauraland, MO...</td>\n",
       "      <td>Books</td>\n",
       "      <td>15.943701</td>\n",
       "      <td>212.015651</td>\n",
       "    </tr>\n",
       "    <tr>\n",
       "      <th>3</th>\n",
       "      <td>799826</td>\n",
       "      <td>D</td>\n",
       "      <td>5</td>\n",
       "      <td>98.880218</td>\n",
       "      <td>10/27/2023 22:00</td>\n",
       "      <td>PayPal</td>\n",
       "      <td>87522 Sharon Corners Suite 500\\nLake Tammy, MO...</td>\n",
       "      <td>Books</td>\n",
       "      <td>6.686337</td>\n",
       "      <td>461.343769</td>\n",
       "    </tr>\n",
       "    <tr>\n",
       "      <th>4</th>\n",
       "      <td>121413</td>\n",
       "      <td>A</td>\n",
       "      <td>7</td>\n",
       "      <td>93.188512</td>\n",
       "      <td>12/22/2023 11:38</td>\n",
       "      <td>Cash</td>\n",
       "      <td>0070 Michelle Island Suite 143\\nHoland, VA 80142</td>\n",
       "      <td>Electronics</td>\n",
       "      <td>4.030096</td>\n",
       "      <td>626.030484</td>\n",
       "    </tr>\n",
       "  </tbody>\n",
       "</table>\n",
       "</div>"
      ],
      "text/plain": [
       "   CustomerID ProductID  Quantity      Price   TransactionDate PaymentMethod  \\\n",
       "0      109318         C         7  80.079844  12/26/2023 12:32          Cash   \n",
       "1      993229         C         4  75.195229     8/5/2023 0:00          Cash   \n",
       "2      579675         A         8  31.528816   3/11/2024 18:51          Cash   \n",
       "3      799826         D         5  98.880218  10/27/2023 22:00        PayPal   \n",
       "4      121413         A         7  93.188512  12/22/2023 11:38          Cash   \n",
       "\n",
       "                                       StoreLocation ProductCategory  \\\n",
       "0            176 Andrew Cliffs\\nBaileyfort, HI 93354           Books   \n",
       "1  11635 William Well Suite 809\\nEast Kara, MT 19483      Home Decor   \n",
       "2  910 Mendez Ville Suite 909\\nPort Lauraland, MO...           Books   \n",
       "3  87522 Sharon Corners Suite 500\\nLake Tammy, MO...           Books   \n",
       "4   0070 Michelle Island Suite 143\\nHoland, VA 80142     Electronics   \n",
       "\n",
       "   DiscountApplied(%)  TotalAmount  \n",
       "0           18.677100   455.862764  \n",
       "1           14.121365   258.306546  \n",
       "2           15.943701   212.015651  \n",
       "3            6.686337   461.343769  \n",
       "4            4.030096   626.030484  "
      ]
     },
     "execution_count": 2,
     "metadata": {},
     "output_type": "execute_result"
    }
   ],
   "source": [
    "raw_data = pd.read_csv(\"data/Retail_Transaction_Dataset.csv\")\n",
    "raw_data.head()"
   ]
  },
  {
   "cell_type": "code",
   "execution_count": 3,
   "id": "338d4af3",
   "metadata": {},
   "outputs": [
    {
     "data": {
      "text/plain": [
       "CustomerID              int64\n",
       "ProductID              object\n",
       "Quantity                int64\n",
       "Price                 float64\n",
       "TransactionDate        object\n",
       "PaymentMethod          object\n",
       "StoreLocation          object\n",
       "ProductCategory        object\n",
       "DiscountApplied(%)    float64\n",
       "TotalAmount           float64\n",
       "dtype: object"
      ]
     },
     "execution_count": 3,
     "metadata": {},
     "output_type": "execute_result"
    }
   ],
   "source": [
    "df = raw_data.copy()\n",
    "\n",
    "df.dtypes"
   ]
  },
  {
   "cell_type": "code",
   "execution_count": 4,
   "id": "ceae92a8",
   "metadata": {},
   "outputs": [],
   "source": [
    "# Convert TransactionDate to datetime items\n",
    "\n",
    "convert_dt = lambda x: datetime.strptime(x, \"%m/%d/%Y %H:%M\")\n",
    "df[\"trans_time\"] = df[\"TransactionDate\"].apply(convert_dt)\n",
    "df[\"trans_date\"] = df[\"trans_time\"].apply(lambda x: x.date())\n",
    "\n",
    "\n",
    "# Promo penetration\n",
    "df[\"promo_pen\"] = df[\"DiscountApplied(%)\"]/( df[\"DiscountApplied(%)\"] + df[\"TotalAmount\"])"
   ]
  },
  {
   "cell_type": "code",
   "execution_count": 5,
   "id": "52366d4e",
   "metadata": {},
   "outputs": [
    {
     "data": {
      "text/html": [
       "<div>\n",
       "<style scoped>\n",
       "    .dataframe tbody tr th:only-of-type {\n",
       "        vertical-align: middle;\n",
       "    }\n",
       "\n",
       "    .dataframe tbody tr th {\n",
       "        vertical-align: top;\n",
       "    }\n",
       "\n",
       "    .dataframe thead th {\n",
       "        text-align: right;\n",
       "    }\n",
       "</style>\n",
       "<table border=\"1\" class=\"dataframe\">\n",
       "  <thead>\n",
       "    <tr style=\"text-align: right;\">\n",
       "      <th></th>\n",
       "      <th>CustomerID</th>\n",
       "      <th>ProductID</th>\n",
       "      <th>Quantity</th>\n",
       "      <th>Price</th>\n",
       "      <th>TransactionDate</th>\n",
       "      <th>PaymentMethod</th>\n",
       "      <th>StoreLocation</th>\n",
       "      <th>ProductCategory</th>\n",
       "      <th>DiscountApplied(%)</th>\n",
       "      <th>TotalAmount</th>\n",
       "      <th>trans_time</th>\n",
       "      <th>trans_date</th>\n",
       "      <th>promo_pen</th>\n",
       "    </tr>\n",
       "  </thead>\n",
       "  <tbody>\n",
       "    <tr>\n",
       "      <th>0</th>\n",
       "      <td>109318</td>\n",
       "      <td>C</td>\n",
       "      <td>7</td>\n",
       "      <td>80.079844</td>\n",
       "      <td>12/26/2023 12:32</td>\n",
       "      <td>Cash</td>\n",
       "      <td>176 Andrew Cliffs\\nBaileyfort, HI 93354</td>\n",
       "      <td>Books</td>\n",
       "      <td>18.677100</td>\n",
       "      <td>455.862764</td>\n",
       "      <td>2023-12-26 12:32:00</td>\n",
       "      <td>2023-12-26</td>\n",
       "      <td>0.039358</td>\n",
       "    </tr>\n",
       "    <tr>\n",
       "      <th>1</th>\n",
       "      <td>993229</td>\n",
       "      <td>C</td>\n",
       "      <td>4</td>\n",
       "      <td>75.195229</td>\n",
       "      <td>8/5/2023 0:00</td>\n",
       "      <td>Cash</td>\n",
       "      <td>11635 William Well Suite 809\\nEast Kara, MT 19483</td>\n",
       "      <td>Home Decor</td>\n",
       "      <td>14.121365</td>\n",
       "      <td>258.306546</td>\n",
       "      <td>2023-08-05 00:00:00</td>\n",
       "      <td>2023-08-05</td>\n",
       "      <td>0.051835</td>\n",
       "    </tr>\n",
       "    <tr>\n",
       "      <th>2</th>\n",
       "      <td>579675</td>\n",
       "      <td>A</td>\n",
       "      <td>8</td>\n",
       "      <td>31.528816</td>\n",
       "      <td>3/11/2024 18:51</td>\n",
       "      <td>Cash</td>\n",
       "      <td>910 Mendez Ville Suite 909\\nPort Lauraland, MO...</td>\n",
       "      <td>Books</td>\n",
       "      <td>15.943701</td>\n",
       "      <td>212.015651</td>\n",
       "      <td>2024-03-11 18:51:00</td>\n",
       "      <td>2024-03-11</td>\n",
       "      <td>0.069941</td>\n",
       "    </tr>\n",
       "    <tr>\n",
       "      <th>3</th>\n",
       "      <td>799826</td>\n",
       "      <td>D</td>\n",
       "      <td>5</td>\n",
       "      <td>98.880218</td>\n",
       "      <td>10/27/2023 22:00</td>\n",
       "      <td>PayPal</td>\n",
       "      <td>87522 Sharon Corners Suite 500\\nLake Tammy, MO...</td>\n",
       "      <td>Books</td>\n",
       "      <td>6.686337</td>\n",
       "      <td>461.343769</td>\n",
       "      <td>2023-10-27 22:00:00</td>\n",
       "      <td>2023-10-27</td>\n",
       "      <td>0.014286</td>\n",
       "    </tr>\n",
       "    <tr>\n",
       "      <th>4</th>\n",
       "      <td>121413</td>\n",
       "      <td>A</td>\n",
       "      <td>7</td>\n",
       "      <td>93.188512</td>\n",
       "      <td>12/22/2023 11:38</td>\n",
       "      <td>Cash</td>\n",
       "      <td>0070 Michelle Island Suite 143\\nHoland, VA 80142</td>\n",
       "      <td>Electronics</td>\n",
       "      <td>4.030096</td>\n",
       "      <td>626.030484</td>\n",
       "      <td>2023-12-22 11:38:00</td>\n",
       "      <td>2023-12-22</td>\n",
       "      <td>0.006396</td>\n",
       "    </tr>\n",
       "  </tbody>\n",
       "</table>\n",
       "</div>"
      ],
      "text/plain": [
       "   CustomerID ProductID  Quantity      Price   TransactionDate PaymentMethod  \\\n",
       "0      109318         C         7  80.079844  12/26/2023 12:32          Cash   \n",
       "1      993229         C         4  75.195229     8/5/2023 0:00          Cash   \n",
       "2      579675         A         8  31.528816   3/11/2024 18:51          Cash   \n",
       "3      799826         D         5  98.880218  10/27/2023 22:00        PayPal   \n",
       "4      121413         A         7  93.188512  12/22/2023 11:38          Cash   \n",
       "\n",
       "                                       StoreLocation ProductCategory  \\\n",
       "0            176 Andrew Cliffs\\nBaileyfort, HI 93354           Books   \n",
       "1  11635 William Well Suite 809\\nEast Kara, MT 19483      Home Decor   \n",
       "2  910 Mendez Ville Suite 909\\nPort Lauraland, MO...           Books   \n",
       "3  87522 Sharon Corners Suite 500\\nLake Tammy, MO...           Books   \n",
       "4   0070 Michelle Island Suite 143\\nHoland, VA 80142     Electronics   \n",
       "\n",
       "   DiscountApplied(%)  TotalAmount          trans_time  trans_date  promo_pen  \n",
       "0           18.677100   455.862764 2023-12-26 12:32:00  2023-12-26   0.039358  \n",
       "1           14.121365   258.306546 2023-08-05 00:00:00  2023-08-05   0.051835  \n",
       "2           15.943701   212.015651 2024-03-11 18:51:00  2024-03-11   0.069941  \n",
       "3            6.686337   461.343769 2023-10-27 22:00:00  2023-10-27   0.014286  \n",
       "4            4.030096   626.030484 2023-12-22 11:38:00  2023-12-22   0.006396  "
      ]
     },
     "execution_count": 5,
     "metadata": {},
     "output_type": "execute_result"
    }
   ],
   "source": [
    "df.head()"
   ]
  },
  {
   "cell_type": "markdown",
   "id": "4144e891",
   "metadata": {},
   "source": [
    "# 1. Exploratory DataSet\n",
    "\n",
    "## 1.1 Revenue\n",
    "\n",
    "\n"
   ]
  },
  {
   "cell_type": "code",
   "execution_count": 6,
   "id": "65544a4d",
   "metadata": {},
   "outputs": [],
   "source": [
    "import matplotlib.pyplot as plt"
   ]
  },
  {
   "cell_type": "code",
   "execution_count": 7,
   "id": "579970ac",
   "metadata": {},
   "outputs": [
    {
     "data": {
      "text/plain": [
       "<Axes: xlabel='trans_month'>"
      ]
     },
     "execution_count": 7,
     "metadata": {},
     "output_type": "execute_result"
    },
    {
     "data": {
      "image/png": "[encoded data removed]",
      "text/plain": [
       "<Figure size 640x480 with 1 Axes>"
      ]
     },
     "metadata": {},
     "output_type": "display_data"
    }
   ],
   "source": [
    "# Revenue by month\n",
    "df[\"trans_month\"] = df[\"trans_time\"].apply(lambda x: x.strftime(\"%Y-%m\"))\n",
    "df_by_month = df[[\"TotalAmount\", \"trans_month\"]].groupby(\"trans_month\").sum()\n",
    "\n",
    "df_by_month.plot(kind=\"bar\", legend=False)\n"
   ]
  },
  {
   "cell_type": "markdown",
   "id": "b403e648",
   "metadata": {},
   "source": [
    "Wieldly steady monthly transactions. No seasonality. No trend. No growth."
   ]
  },
  {
   "cell_type": "code",
   "execution_count": 8,
   "id": "93c98b5e",
   "metadata": {},
   "outputs": [
    {
     "data": {
      "text/plain": [
       "<Axes: xlabel='ProductCategory'>"
      ]
     },
     "execution_count": 8,
     "metadata": {},
     "output_type": "execute_result"
    },
    {
     "data": {
      "image/png": "[encoded data removed]",
      "text/plain": [
       "<Figure size 640x480 with 1 Axes>"
      ]
     },
     "metadata": {},
     "output_type": "display_data"
    }
   ],
   "source": [
    "# Revenue by category\n",
    "df_by_cat = df[[\"TotalAmount\", \"ProductCategory\"]].groupby(\"ProductCategory\").sum()\n",
    "\n",
    "df_by_cat.plot(kind=\"bar\", legend=False)\n"
   ]
  },
  {
   "cell_type": "markdown",
   "id": "a73f99d8",
   "metadata": {},
   "source": [
    "## 1.2 Customer\n",
    "\n",
    "### 1.2.1 Customer_cnt by month"
   ]
  },
  {
   "cell_type": "code",
   "execution_count": 9,
   "id": "ec349095",
   "metadata": {},
   "outputs": [
    {
     "data": {
      "text/plain": [
       "<Axes: xlabel='trans_month'>"
      ]
     },
     "execution_count": 9,
     "metadata": {},
     "output_type": "execute_result"
    },
    {
     "data": {
      "image/png": "[encoded data removed]",
      "text/plain": [
       "<Figure size 640x480 with 1 Axes>"
      ]
     },
     "metadata": {},
     "output_type": "display_data"
    }
   ],
   "source": [
    "monthly_cnt = df[[\"trans_month\", \"CustomerID\"]].groupby(\"trans_month\").size()\n",
    "\n",
    "monthly_cnt.plot(kind=\"bar\", legend=False)"
   ]
  },
  {
   "cell_type": "markdown",
   "id": "8bdcf328",
   "metadata": {},
   "source": [
    "### 1.2.2 New customer count"
   ]
  },
  {
   "cell_type": "code",
   "execution_count": 10,
   "id": "98ba0710",
   "metadata": {},
   "outputs": [
    {
     "data": {
      "text/plain": [
       "<Axes: xlabel='trans_month'>"
      ]
     },
     "execution_count": 10,
     "metadata": {},
     "output_type": "execute_result"
    },
    {
     "data": {
      "image/png": "[encoded data removed]",
      "text/plain": [
       "<Figure size 640x480 with 1 Axes>"
      ]
     },
     "metadata": {},
     "output_type": "display_data"
    }
   ],
   "source": [
    "first_time_purchase = df[[\"CustomerID\", \"trans_month\"]].groupby([\"CustomerID\"]).min()\n",
    "new_customer_aquisition = first_time_purchase.groupby([\"trans_month\"]).size()\n",
    "new_customer_aquisition.plot(kind=\"bar\", legend=False)"
   ]
  },
  {
   "cell_type": "code",
   "execution_count": 11,
   "id": "76c0da09",
   "metadata": {},
   "outputs": [
    {
     "name": "stdout",
     "output_type": "stream",
     "text": [
      "**Insight 1**: The count of new customers are declining.\n"
     ]
    }
   ],
   "source": [
    "print(\"**Insight 1**: The count of new customers are declining.\")"
   ]
  },
  {
   "cell_type": "markdown",
   "id": "f37759a3",
   "metadata": {},
   "source": [
    "### 1.2.3 Customer Rentention: How many customers come back 30 days after the first purchase?"
   ]
  },
  {
   "cell_type": "code",
   "execution_count": 12,
   "id": "f58e032e",
   "metadata": {},
   "outputs": [],
   "source": [
    "install_dates  = df[[\"CustomerID\", \"trans_date\"]].groupby([\"CustomerID\"]).min().reset_index().rename(columns={\"trans_date\": \"first_trans_date\"})\n",
    "\n",
    "install_dates[\"after_30_days\"] = install_dates[\"first_trans_date\"].apply(lambda x: x + timedelta(days=30))\n",
    "\n",
    "next_day_activity = pd.merge(\n",
    "    install_dates, df, on=\"CustomerID\"\n",
    ")\n",
    "\n",
    "next_day_activity = next_day_activity[(next_day_activity[\"first_trans_date\"] < next_day_activity[\"trans_date\"]) \n",
    "                  & \n",
    "                  (next_day_activity[\"after_30_days\"] >= next_day_activity[\"trans_date\"])\n",
    "                 ]\n",
    "\n",
    "return_customers = next_day_activity[[\"CustomerID\", \"first_trans_date\"]].groupby([\"first_trans_date\"]).size().reset_index()\n",
    "return_customers.columns = [\"first_trans_date\", \"return_cnt\"]"
   ]
  },
  {
   "cell_type": "code",
   "execution_count": 13,
   "id": "a574351a",
   "metadata": {},
   "outputs": [
    {
     "data": {
      "text/plain": [
       "<Axes: >"
      ]
     },
     "execution_count": 13,
     "metadata": {},
     "output_type": "execute_result"
    },
    {
     "data": {
      "image/png": "[encoded data removed]",
      "text/plain": [
       "<Figure size 640x480 with 1 Axes>"
      ]
     },
     "metadata": {},
     "output_type": "display_data"
    }
   ],
   "source": [
    "install_dates_agg = install_dates.groupby([\"first_trans_date\"]).size().reset_index()\n",
    "install_dates_agg.columns = [\"first_trans_date\", \"cnt\"]\n",
    "\n",
    "daily_retention = pd.merge(install_dates_agg, return_customers, on=\"first_trans_date\", how=\"left\")\n",
    "daily_retention[\"return_cnt\"] = daily_retention[\"return_cnt\"].fillna(0)\n",
    "daily_retention[\"retention\"] = daily_retention[\"return_cnt\"]/daily_retention[\"cnt\"]\n",
    "daily_retention[\"retention\"] = daily_retention[\"retention\"].apply(lambda x: round(x, 4))\n",
    "\n",
    "daily_retention = daily_retention.loc[0:len(daily_retention)-30]\n",
    "\n",
    "daily_retention[[\"first_trans_date\", \"retention\"]].plot(kind=\"line\")"
   ]
  },
  {
   "cell_type": "code",
   "execution_count": 14,
   "id": "7cb05842",
   "metadata": {},
   "outputs": [
    {
     "name": "stdout",
     "output_type": "stream",
     "text": [
      "**Insight 2**: The overall retention rate is 0.0081.\n"
     ]
    }
   ],
   "source": [
    "overall_retention = daily_retention[\"return_cnt\"].sum()/daily_retention[\"cnt\"].sum()\n",
    "print(\"**Insight 2**: The overall retention rate is {}.\".format(round(overall_retention, 4)))"
   ]
  },
  {
   "cell_type": "code",
   "execution_count": 15,
   "id": "8025d5de",
   "metadata": {},
   "outputs": [],
   "source": [
    "def add_label(df):\n",
    "    if df[\"retention\"] == 0:\n",
    "        return \"no-one-return\"\n",
    "    elif df[\"retention\"] < 0.01:\n",
    "        return \"not-bad\"\n",
    "    elif df[\"retention\"] < 0.02:\n",
    "        return \"doing-ok\"\n",
    "    else:\n",
    "        return \"awesome\"\n",
    "    \n",
    "daily_retention[\"retention_label\"] = daily_retention.apply(add_label, axis=1)"
   ]
  },
  {
   "cell_type": "code",
   "execution_count": 16,
   "id": "70050d2f",
   "metadata": {},
   "outputs": [],
   "source": [
    "daily_retention.sort_values(by=[\"first_trans_date\", \"cnt\"], ascending=[True, False], inplace=True)"
   ]
  },
  {
   "cell_type": "markdown",
   "id": "98a2a38c",
   "metadata": {},
   "source": [
    "## 2. Product Recommendations\n",
    "\n",
    "Find product pairs with more than 3 customers purchased together, order by # of purchase times.\n"
   ]
  },
  {
   "cell_type": "code",
   "execution_count": 17,
   "id": "08450afe",
   "metadata": {},
   "outputs": [
    {
     "data": {
      "text/html": [
       "<div>\n",
       "<style scoped>\n",
       "    .dataframe tbody tr th:only-of-type {\n",
       "        vertical-align: middle;\n",
       "    }\n",
       "\n",
       "    .dataframe tbody tr th {\n",
       "        vertical-align: top;\n",
       "    }\n",
       "\n",
       "    .dataframe thead th {\n",
       "        text-align: right;\n",
       "    }\n",
       "</style>\n",
       "<table border=\"1\" class=\"dataframe\">\n",
       "  <thead>\n",
       "    <tr style=\"text-align: right;\">\n",
       "      <th></th>\n",
       "      <th>CustomerID</th>\n",
       "      <th>ProductID_1</th>\n",
       "      <th>trans_time</th>\n",
       "      <th>ProductID_2</th>\n",
       "    </tr>\n",
       "  </thead>\n",
       "  <tbody>\n",
       "  </tbody>\n",
       "</table>\n",
       "</div>"
      ],
      "text/plain": [
       "Empty DataFrame\n",
       "Columns: [CustomerID, ProductID_1, trans_time, ProductID_2]\n",
       "Index: []"
      ]
     },
     "execution_count": 17,
     "metadata": {},
     "output_type": "execute_result"
    }
   ],
   "source": [
    "dfs = df[[\"CustomerID\", \"ProductID\", \"trans_time\"]]\n",
    "prod_pairs = dfs.merge(\n",
    "    dfs , on= [\"CustomerID\", \"trans_time\"], suffixes = (\"_1\", \"_2\")\n",
    "                     )\n",
    "prod_pairs[prod_pairs[\"ProductID_1\"] < prod_pairs[\"ProductID_2\"]]"
   ]
  },
  {
   "cell_type": "markdown",
   "id": "1cf64720",
   "metadata": {},
   "source": [
    "No one bought two products at the same time so there is no **product pairs**... I think it's a data generation issue...\n",
    "I will relax to same-day purchase instead."
   ]
  },
  {
   "cell_type": "code",
   "execution_count": 18,
   "id": "a01ff016",
   "metadata": {},
   "outputs": [
    {
     "data": {
      "text/html": [
       "<div>\n",
       "<style scoped>\n",
       "    .dataframe tbody tr th:only-of-type {\n",
       "        vertical-align: middle;\n",
       "    }\n",
       "\n",
       "    .dataframe tbody tr th {\n",
       "        vertical-align: top;\n",
       "    }\n",
       "\n",
       "    .dataframe thead th {\n",
       "        text-align: right;\n",
       "    }\n",
       "</style>\n",
       "<table border=\"1\" class=\"dataframe\">\n",
       "  <thead>\n",
       "    <tr style=\"text-align: right;\">\n",
       "      <th></th>\n",
       "      <th>CustomerID</th>\n",
       "      <th>ProductID_1</th>\n",
       "      <th>trans_date</th>\n",
       "      <th>ProductID_2</th>\n",
       "    </tr>\n",
       "  </thead>\n",
       "  <tbody>\n",
       "    <tr>\n",
       "      <th>14193</th>\n",
       "      <td>809780</td>\n",
       "      <td>B</td>\n",
       "      <td>2023-11-05</td>\n",
       "      <td>C</td>\n",
       "    </tr>\n",
       "    <tr>\n",
       "      <th>15419</th>\n",
       "      <td>371801</td>\n",
       "      <td>A</td>\n",
       "      <td>2023-05-01</td>\n",
       "      <td>D</td>\n",
       "    </tr>\n",
       "    <tr>\n",
       "      <th>20942</th>\n",
       "      <td>74203</td>\n",
       "      <td>B</td>\n",
       "      <td>2023-12-08</td>\n",
       "      <td>C</td>\n",
       "    </tr>\n",
       "    <tr>\n",
       "      <th>39062</th>\n",
       "      <td>549502</td>\n",
       "      <td>A</td>\n",
       "      <td>2024-02-04</td>\n",
       "      <td>B</td>\n",
       "    </tr>\n",
       "    <tr>\n",
       "      <th>79048</th>\n",
       "      <td>555908</td>\n",
       "      <td>A</td>\n",
       "      <td>2023-11-26</td>\n",
       "      <td>C</td>\n",
       "    </tr>\n",
       "  </tbody>\n",
       "</table>\n",
       "</div>"
      ],
      "text/plain": [
       "       CustomerID ProductID_1  trans_date ProductID_2\n",
       "14193      809780           B  2023-11-05           C\n",
       "15419      371801           A  2023-05-01           D\n",
       "20942       74203           B  2023-12-08           C\n",
       "39062      549502           A  2024-02-04           B\n",
       "79048      555908           A  2023-11-26           C"
      ]
     },
     "execution_count": 18,
     "metadata": {},
     "output_type": "execute_result"
    }
   ],
   "source": [
    "dfs = df[[\"CustomerID\", \"ProductID\", \"trans_date\"]]\n",
    "prod_pairs = dfs.merge(\n",
    "    dfs , on= [\"CustomerID\", \"trans_date\"], suffixes = (\"_1\", \"_2\")\n",
    "                     )\n",
    "prod_pairs = prod_pairs[prod_pairs[\"ProductID_1\"] < prod_pairs[\"ProductID_2\"]]\n",
    "prod_pairs.head()"
   ]
  },
  {
   "cell_type": "code",
   "execution_count": 19,
   "id": "d002c161",
   "metadata": {},
   "outputs": [
    {
     "data": {
      "text/html": [
       "<div>\n",
       "<style scoped>\n",
       "    .dataframe tbody tr th:only-of-type {\n",
       "        vertical-align: middle;\n",
       "    }\n",
       "\n",
       "    .dataframe tbody tr th {\n",
       "        vertical-align: top;\n",
       "    }\n",
       "\n",
       "    .dataframe thead th {\n",
       "        text-align: right;\n",
       "    }\n",
       "</style>\n",
       "<table border=\"1\" class=\"dataframe\">\n",
       "  <thead>\n",
       "    <tr style=\"text-align: right;\">\n",
       "      <th></th>\n",
       "      <th>ProductID_1</th>\n",
       "      <th>ProductID_2</th>\n",
       "      <th>cnt</th>\n",
       "    </tr>\n",
       "  </thead>\n",
       "  <tbody>\n",
       "    <tr>\n",
       "      <th>0</th>\n",
       "      <td>A</td>\n",
       "      <td>B</td>\n",
       "      <td>2</td>\n",
       "    </tr>\n",
       "    <tr>\n",
       "      <th>3</th>\n",
       "      <td>B</td>\n",
       "      <td>C</td>\n",
       "      <td>2</td>\n",
       "    </tr>\n",
       "    <tr>\n",
       "      <th>1</th>\n",
       "      <td>A</td>\n",
       "      <td>C</td>\n",
       "      <td>1</td>\n",
       "    </tr>\n",
       "    <tr>\n",
       "      <th>2</th>\n",
       "      <td>A</td>\n",
       "      <td>D</td>\n",
       "      <td>1</td>\n",
       "    </tr>\n",
       "    <tr>\n",
       "      <th>4</th>\n",
       "      <td>B</td>\n",
       "      <td>D</td>\n",
       "      <td>1</td>\n",
       "    </tr>\n",
       "    <tr>\n",
       "      <th>5</th>\n",
       "      <td>C</td>\n",
       "      <td>D</td>\n",
       "      <td>1</td>\n",
       "    </tr>\n",
       "  </tbody>\n",
       "</table>\n",
       "</div>"
      ],
      "text/plain": [
       "  ProductID_1 ProductID_2  cnt\n",
       "0           A           B    2\n",
       "3           B           C    2\n",
       "1           A           C    1\n",
       "2           A           D    1\n",
       "4           B           D    1\n",
       "5           C           D    1"
      ]
     },
     "execution_count": 19,
     "metadata": {},
     "output_type": "execute_result"
    }
   ],
   "source": [
    "prod_pairs.groupby([\"ProductID_1\", \"ProductID_2\"]).size().reset_index().rename(columns={0: \"cnt\"}).sort_values(by=\"cnt\", ascending=False)"
   ]
  },
  {
   "cell_type": "code",
   "execution_count": 20,
   "id": "b01dd3fa",
   "metadata": {},
   "outputs": [
    {
     "name": "stdout",
     "output_type": "stream",
     "text": [
      " **Insight 3**: The most frequently products bought together are (A, B) and (B, C)\n"
     ]
    }
   ],
   "source": [
    "print(\" **Insight 3**: The most frequently products bought together are (A, B) and (B, C)\")"
   ]
  },
  {
   "cell_type": "markdown",
   "id": "2cc0e934",
   "metadata": {},
   "source": [
    "## 3. Channels"
   ]
  },
  {
   "cell_type": "code",
   "execution_count": 21,
   "id": "488e64c6",
   "metadata": {},
   "outputs": [
    {
     "data": {
      "text/html": [
       "<div>\n",
       "<style scoped>\n",
       "    .dataframe tbody tr th:only-of-type {\n",
       "        vertical-align: middle;\n",
       "    }\n",
       "\n",
       "    .dataframe tbody tr th {\n",
       "        vertical-align: top;\n",
       "    }\n",
       "\n",
       "    .dataframe thead th {\n",
       "        text-align: right;\n",
       "    }\n",
       "</style>\n",
       "<table border=\"1\" class=\"dataframe\">\n",
       "  <thead>\n",
       "    <tr style=\"text-align: right;\">\n",
       "      <th></th>\n",
       "      <th>PaymentMethod</th>\n",
       "      <th>0</th>\n",
       "    </tr>\n",
       "  </thead>\n",
       "  <tbody>\n",
       "    <tr>\n",
       "      <th>0</th>\n",
       "      <td>Cash</td>\n",
       "      <td>25008</td>\n",
       "    </tr>\n",
       "    <tr>\n",
       "      <th>1</th>\n",
       "      <td>Credit Card</td>\n",
       "      <td>25034</td>\n",
       "    </tr>\n",
       "    <tr>\n",
       "      <th>2</th>\n",
       "      <td>Debit Card</td>\n",
       "      <td>24891</td>\n",
       "    </tr>\n",
       "    <tr>\n",
       "      <th>3</th>\n",
       "      <td>PayPal</td>\n",
       "      <td>25067</td>\n",
       "    </tr>\n",
       "  </tbody>\n",
       "</table>\n",
       "</div>"
      ],
      "text/plain": [
       "  PaymentMethod      0\n",
       "0          Cash  25008\n",
       "1   Credit Card  25034\n",
       "2    Debit Card  24891\n",
       "3        PayPal  25067"
      ]
     },
     "execution_count": 21,
     "metadata": {},
     "output_type": "execute_result"
    }
   ],
   "source": [
    "m = df.groupby([\"PaymentMethod\"]).size().reset_index()\n",
    "m"
   ]
  },
  {
   "cell_type": "markdown",
   "id": "cf260bf9",
   "metadata": {},
   "source": [
    "Very evenly distributed payment method..."
   ]
  },
  {
   "cell_type": "markdown",
   "id": "2bc48328",
   "metadata": {},
   "source": [
    "## 4. Promotions"
   ]
  },
  {
   "cell_type": "code",
   "execution_count": 22,
   "id": "99cbbc3b",
   "metadata": {},
   "outputs": [
    {
     "data": {
      "text/html": [
       "<div>\n",
       "<style scoped>\n",
       "    .dataframe tbody tr th:only-of-type {\n",
       "        vertical-align: middle;\n",
       "    }\n",
       "\n",
       "    .dataframe tbody tr th {\n",
       "        vertical-align: top;\n",
       "    }\n",
       "\n",
       "    .dataframe thead th {\n",
       "        text-align: right;\n",
       "    }\n",
       "</style>\n",
       "<table border=\"1\" class=\"dataframe\">\n",
       "  <thead>\n",
       "    <tr style=\"text-align: right;\">\n",
       "      <th></th>\n",
       "      <th>CustomerID</th>\n",
       "      <th>ProductID</th>\n",
       "      <th>Quantity</th>\n",
       "      <th>Price</th>\n",
       "      <th>TransactionDate</th>\n",
       "      <th>PaymentMethod</th>\n",
       "      <th>StoreLocation</th>\n",
       "      <th>ProductCategory</th>\n",
       "      <th>DiscountApplied(%)</th>\n",
       "      <th>TotalAmount</th>\n",
       "      <th>trans_time</th>\n",
       "      <th>trans_date</th>\n",
       "      <th>promo_pen</th>\n",
       "      <th>trans_month</th>\n",
       "    </tr>\n",
       "  </thead>\n",
       "  <tbody>\n",
       "    <tr>\n",
       "      <th>0</th>\n",
       "      <td>109318</td>\n",
       "      <td>C</td>\n",
       "      <td>7</td>\n",
       "      <td>80.079844</td>\n",
       "      <td>12/26/2023 12:32</td>\n",
       "      <td>Cash</td>\n",
       "      <td>176 Andrew Cliffs\\nBaileyfort, HI 93354</td>\n",
       "      <td>Books</td>\n",
       "      <td>18.677100</td>\n",
       "      <td>455.862764</td>\n",
       "      <td>2023-12-26 12:32:00</td>\n",
       "      <td>2023-12-26</td>\n",
       "      <td>0.039358</td>\n",
       "      <td>2023-12</td>\n",
       "    </tr>\n",
       "    <tr>\n",
       "      <th>1</th>\n",
       "      <td>993229</td>\n",
       "      <td>C</td>\n",
       "      <td>4</td>\n",
       "      <td>75.195229</td>\n",
       "      <td>8/5/2023 0:00</td>\n",
       "      <td>Cash</td>\n",
       "      <td>11635 William Well Suite 809\\nEast Kara, MT 19483</td>\n",
       "      <td>Home Decor</td>\n",
       "      <td>14.121365</td>\n",
       "      <td>258.306546</td>\n",
       "      <td>2023-08-05 00:00:00</td>\n",
       "      <td>2023-08-05</td>\n",
       "      <td>0.051835</td>\n",
       "      <td>2023-08</td>\n",
       "    </tr>\n",
       "    <tr>\n",
       "      <th>2</th>\n",
       "      <td>579675</td>\n",
       "      <td>A</td>\n",
       "      <td>8</td>\n",
       "      <td>31.528816</td>\n",
       "      <td>3/11/2024 18:51</td>\n",
       "      <td>Cash</td>\n",
       "      <td>910 Mendez Ville Suite 909\\nPort Lauraland, MO...</td>\n",
       "      <td>Books</td>\n",
       "      <td>15.943701</td>\n",
       "      <td>212.015651</td>\n",
       "      <td>2024-03-11 18:51:00</td>\n",
       "      <td>2024-03-11</td>\n",
       "      <td>0.069941</td>\n",
       "      <td>2024-03</td>\n",
       "    </tr>\n",
       "    <tr>\n",
       "      <th>3</th>\n",
       "      <td>799826</td>\n",
       "      <td>D</td>\n",
       "      <td>5</td>\n",
       "      <td>98.880218</td>\n",
       "      <td>10/27/2023 22:00</td>\n",
       "      <td>PayPal</td>\n",
       "      <td>87522 Sharon Corners Suite 500\\nLake Tammy, MO...</td>\n",
       "      <td>Books</td>\n",
       "      <td>6.686337</td>\n",
       "      <td>461.343769</td>\n",
       "      <td>2023-10-27 22:00:00</td>\n",
       "      <td>2023-10-27</td>\n",
       "      <td>0.014286</td>\n",
       "      <td>2023-10</td>\n",
       "    </tr>\n",
       "    <tr>\n",
       "      <th>4</th>\n",
       "      <td>121413</td>\n",
       "      <td>A</td>\n",
       "      <td>7</td>\n",
       "      <td>93.188512</td>\n",
       "      <td>12/22/2023 11:38</td>\n",
       "      <td>Cash</td>\n",
       "      <td>0070 Michelle Island Suite 143\\nHoland, VA 80142</td>\n",
       "      <td>Electronics</td>\n",
       "      <td>4.030096</td>\n",
       "      <td>626.030484</td>\n",
       "      <td>2023-12-22 11:38:00</td>\n",
       "      <td>2023-12-22</td>\n",
       "      <td>0.006396</td>\n",
       "      <td>2023-12</td>\n",
       "    </tr>\n",
       "  </tbody>\n",
       "</table>\n",
       "</div>"
      ],
      "text/plain": [
       "   CustomerID ProductID  Quantity      Price   TransactionDate PaymentMethod  \\\n",
       "0      109318         C         7  80.079844  12/26/2023 12:32          Cash   \n",
       "1      993229         C         4  75.195229     8/5/2023 0:00          Cash   \n",
       "2      579675         A         8  31.528816   3/11/2024 18:51          Cash   \n",
       "3      799826         D         5  98.880218  10/27/2023 22:00        PayPal   \n",
       "4      121413         A         7  93.188512  12/22/2023 11:38          Cash   \n",
       "\n",
       "                                       StoreLocation ProductCategory  \\\n",
       "0            176 Andrew Cliffs\\nBaileyfort, HI 93354           Books   \n",
       "1  11635 William Well Suite 809\\nEast Kara, MT 19483      Home Decor   \n",
       "2  910 Mendez Ville Suite 909\\nPort Lauraland, MO...           Books   \n",
       "3  87522 Sharon Corners Suite 500\\nLake Tammy, MO...           Books   \n",
       "4   0070 Michelle Island Suite 143\\nHoland, VA 80142     Electronics   \n",
       "\n",
       "   DiscountApplied(%)  TotalAmount          trans_time  trans_date  promo_pen  \\\n",
       "0           18.677100   455.862764 2023-12-26 12:32:00  2023-12-26   0.039358   \n",
       "1           14.121365   258.306546 2023-08-05 00:00:00  2023-08-05   0.051835   \n",
       "2           15.943701   212.015651 2024-03-11 18:51:00  2024-03-11   0.069941   \n",
       "3            6.686337   461.343769 2023-10-27 22:00:00  2023-10-27   0.014286   \n",
       "4            4.030096   626.030484 2023-12-22 11:38:00  2023-12-22   0.006396   \n",
       "\n",
       "  trans_month  \n",
       "0     2023-12  \n",
       "1     2023-08  \n",
       "2     2024-03  \n",
       "3     2023-10  \n",
       "4     2023-12  "
      ]
     },
     "execution_count": 22,
     "metadata": {},
     "output_type": "execute_result"
    }
   ],
   "source": [
    "df.head()"
   ]
  },
  {
   "cell_type": "code",
   "execution_count": 23,
   "id": "d5c5b26d",
   "metadata": {},
   "outputs": [],
   "source": [
    "promo_pen = df[[\"TotalAmount\", \"DiscountApplied(%)\", \"ProductCategory\"]].groupby(\"ProductCategory\").sum().reset_index()"
   ]
  },
  {
   "cell_type": "code",
   "execution_count": 24,
   "id": "bc84ff7a",
   "metadata": {},
   "outputs": [
    {
     "data": {
      "text/html": [
       "<div>\n",
       "<style scoped>\n",
       "    .dataframe tbody tr th:only-of-type {\n",
       "        vertical-align: middle;\n",
       "    }\n",
       "\n",
       "    .dataframe tbody tr th {\n",
       "        vertical-align: top;\n",
       "    }\n",
       "\n",
       "    .dataframe thead th {\n",
       "        text-align: right;\n",
       "    }\n",
       "</style>\n",
       "<table border=\"1\" class=\"dataframe\">\n",
       "  <thead>\n",
       "    <tr style=\"text-align: right;\">\n",
       "      <th></th>\n",
       "      <th>ProductCategory</th>\n",
       "      <th>TotalAmount</th>\n",
       "      <th>DiscountApplied(%)</th>\n",
       "      <th>promo_pen</th>\n",
       "    </tr>\n",
       "  </thead>\n",
       "  <tbody>\n",
       "    <tr>\n",
       "      <th>0</th>\n",
       "      <td>Books</td>\n",
       "      <td>6.257837e+06</td>\n",
       "      <td>250233.280050</td>\n",
       "      <td>0.038450</td>\n",
       "    </tr>\n",
       "    <tr>\n",
       "      <th>1</th>\n",
       "      <td>Clothing</td>\n",
       "      <td>6.205502e+06</td>\n",
       "      <td>251045.541756</td>\n",
       "      <td>0.038882</td>\n",
       "    </tr>\n",
       "    <tr>\n",
       "      <th>2</th>\n",
       "      <td>Electronics</td>\n",
       "      <td>6.196735e+06</td>\n",
       "      <td>249448.694244</td>\n",
       "      <td>0.038697</td>\n",
       "    </tr>\n",
       "    <tr>\n",
       "      <th>3</th>\n",
       "      <td>Home Decor</td>\n",
       "      <td>6.173421e+06</td>\n",
       "      <td>251287.937869</td>\n",
       "      <td>0.039113</td>\n",
       "    </tr>\n",
       "  </tbody>\n",
       "</table>\n",
       "</div>"
      ],
      "text/plain": [
       "  ProductCategory   TotalAmount  DiscountApplied(%)  promo_pen\n",
       "0           Books  6.257837e+06       250233.280050   0.038450\n",
       "1        Clothing  6.205502e+06       251045.541756   0.038882\n",
       "2     Electronics  6.196735e+06       249448.694244   0.038697\n",
       "3      Home Decor  6.173421e+06       251287.937869   0.039113"
      ]
     },
     "execution_count": 24,
     "metadata": {},
     "output_type": "execute_result"
    }
   ],
   "source": [
    "promo_pen[\"promo_pen\"] = promo_pen[\"DiscountApplied(%)\"]/(promo_pen[\"TotalAmount\"]+promo_pen[\"DiscountApplied(%)\"])\n",
    "promo_pen"
   ]
  },
  {
   "cell_type": "markdown",
   "id": "a1938bee",
   "metadata": {},
   "source": [
    "Very evenly distributed payment method..."
   ]
  },
  {
   "cell_type": "markdown",
   "id": "4c65b922",
   "metadata": {},
   "source": [
    "## 5 Geolocation"
   ]
  },
  {
   "cell_type": "code",
   "execution_count": 25,
   "id": "dc581a39",
   "metadata": {},
   "outputs": [],
   "source": [
    "import re\n",
    "\n",
    "def extract_state_regex(address):\n",
    "    # Regex to find a two-letter uppercase state abbreviation after a comma and space\n",
    "    match = re.search(r',\\s([A-Z]{2})', address)\n",
    "    if match:\n",
    "        return match.group(1)\n",
    "    return None\n",
    "\n",
    "df[\"state\"] = df[\"StoreLocation\"].apply(extract_state_regex)"
   ]
  },
  {
   "cell_type": "code",
   "execution_count": 26,
   "id": "a9784b34",
   "metadata": {},
   "outputs": [
    {
     "data": {
      "text/html": [
       "<div>\n",
       "<style scoped>\n",
       "    .dataframe tbody tr th:only-of-type {\n",
       "        vertical-align: middle;\n",
       "    }\n",
       "\n",
       "    .dataframe tbody tr th {\n",
       "        vertical-align: top;\n",
       "    }\n",
       "\n",
       "    .dataframe thead th {\n",
       "        text-align: right;\n",
       "    }\n",
       "</style>\n",
       "<table border=\"1\" class=\"dataframe\">\n",
       "  <thead>\n",
       "    <tr style=\"text-align: right;\">\n",
       "      <th></th>\n",
       "      <th>state</th>\n",
       "      <th>TotalAmount</th>\n",
       "    </tr>\n",
       "  </thead>\n",
       "  <tbody>\n",
       "    <tr>\n",
       "      <th>25</th>\n",
       "      <td>MH</td>\n",
       "      <td>403258.894434</td>\n",
       "    </tr>\n",
       "    <tr>\n",
       "      <th>24</th>\n",
       "      <td>ME</td>\n",
       "      <td>400060.793346</td>\n",
       "    </tr>\n",
       "    <tr>\n",
       "      <th>2</th>\n",
       "      <td>AR</td>\n",
       "      <td>393846.357173</td>\n",
       "    </tr>\n",
       "    <tr>\n",
       "      <th>50</th>\n",
       "      <td>TX</td>\n",
       "      <td>392307.764830</td>\n",
       "    </tr>\n",
       "    <tr>\n",
       "      <th>42</th>\n",
       "      <td>OR</td>\n",
       "      <td>392179.253974</td>\n",
       "    </tr>\n",
       "  </tbody>\n",
       "</table>\n",
       "</div>"
      ],
      "text/plain": [
       "   state    TotalAmount\n",
       "25    MH  403258.894434\n",
       "24    ME  400060.793346\n",
       "2     AR  393846.357173\n",
       "50    TX  392307.764830\n",
       "42    OR  392179.253974"
      ]
     },
     "execution_count": 26,
     "metadata": {},
     "output_type": "execute_result"
    }
   ],
   "source": [
    "top_5_states = df[[\"state\", \"TotalAmount\"]].groupby(\"state\").sum().reset_index().sort_values(by=\"TotalAmount\", ascending=False).nlargest(5, \"TotalAmount\")\n",
    "top_5_states"
   ]
  },
  {
   "cell_type": "markdown",
   "id": "4be8bc3e-c6e5-4f11-948e-5093050d709c",
   "metadata": {},
   "source": [
    "The top2 best selling product in the top 5 states:"
   ]
  },
  {
   "cell_type": "code",
   "execution_count": 27,
   "id": "aab8b807-5486-45cd-9b7e-d3b091d1d63c",
   "metadata": {},
   "outputs": [
    {
     "data": {
      "text/html": [
       "<div>\n",
       "<style scoped>\n",
       "    .dataframe tbody tr th:only-of-type {\n",
       "        vertical-align: middle;\n",
       "    }\n",
       "\n",
       "    .dataframe tbody tr th {\n",
       "        vertical-align: top;\n",
       "    }\n",
       "\n",
       "    .dataframe thead th {\n",
       "        text-align: right;\n",
       "    }\n",
       "</style>\n",
       "<table border=\"1\" class=\"dataframe\">\n",
       "  <thead>\n",
       "    <tr style=\"text-align: right;\">\n",
       "      <th></th>\n",
       "      <th>state</th>\n",
       "      <th>ProductID</th>\n",
       "      <th>TotalAmount_product</th>\n",
       "      <th>r</th>\n",
       "      <th>TotalAmount_state</th>\n",
       "      <th>pct</th>\n",
       "    </tr>\n",
       "  </thead>\n",
       "  <tbody>\n",
       "    <tr>\n",
       "      <th>3</th>\n",
       "      <td>MH</td>\n",
       "      <td>A</td>\n",
       "      <td>107237.255389</td>\n",
       "      <td>0</td>\n",
       "      <td>403258.894434</td>\n",
       "      <td>0.27</td>\n",
       "    </tr>\n",
       "    <tr>\n",
       "      <th>4</th>\n",
       "      <td>MH</td>\n",
       "      <td>C</td>\n",
       "      <td>101991.920737</td>\n",
       "      <td>1</td>\n",
       "      <td>403258.894434</td>\n",
       "      <td>0.25</td>\n",
       "    </tr>\n",
       "    <tr>\n",
       "      <th>0</th>\n",
       "      <td>ME</td>\n",
       "      <td>A</td>\n",
       "      <td>112192.962290</td>\n",
       "      <td>0</td>\n",
       "      <td>400060.793346</td>\n",
       "      <td>0.28</td>\n",
       "    </tr>\n",
       "    <tr>\n",
       "      <th>9</th>\n",
       "      <td>ME</td>\n",
       "      <td>C</td>\n",
       "      <td>97784.595233</td>\n",
       "      <td>1</td>\n",
       "      <td>400060.793346</td>\n",
       "      <td>0.24</td>\n",
       "    </tr>\n",
       "    <tr>\n",
       "      <th>1</th>\n",
       "      <td>AR</td>\n",
       "      <td>C</td>\n",
       "      <td>109037.066368</td>\n",
       "      <td>0</td>\n",
       "      <td>393846.357173</td>\n",
       "      <td>0.28</td>\n",
       "    </tr>\n",
       "    <tr>\n",
       "      <th>8</th>\n",
       "      <td>AR</td>\n",
       "      <td>B</td>\n",
       "      <td>100461.254984</td>\n",
       "      <td>1</td>\n",
       "      <td>393846.357173</td>\n",
       "      <td>0.26</td>\n",
       "    </tr>\n",
       "    <tr>\n",
       "      <th>2</th>\n",
       "      <td>TX</td>\n",
       "      <td>B</td>\n",
       "      <td>109025.065812</td>\n",
       "      <td>0</td>\n",
       "      <td>392307.764830</td>\n",
       "      <td>0.28</td>\n",
       "    </tr>\n",
       "    <tr>\n",
       "      <th>6</th>\n",
       "      <td>TX</td>\n",
       "      <td>D</td>\n",
       "      <td>100562.845155</td>\n",
       "      <td>1</td>\n",
       "      <td>392307.764830</td>\n",
       "      <td>0.26</td>\n",
       "    </tr>\n",
       "    <tr>\n",
       "      <th>5</th>\n",
       "      <td>OR</td>\n",
       "      <td>D</td>\n",
       "      <td>100650.808513</td>\n",
       "      <td>0</td>\n",
       "      <td>392179.253974</td>\n",
       "      <td>0.26</td>\n",
       "    </tr>\n",
       "    <tr>\n",
       "      <th>7</th>\n",
       "      <td>OR</td>\n",
       "      <td>C</td>\n",
       "      <td>100510.038224</td>\n",
       "      <td>1</td>\n",
       "      <td>392179.253974</td>\n",
       "      <td>0.26</td>\n",
       "    </tr>\n",
       "  </tbody>\n",
       "</table>\n",
       "</div>"
      ],
      "text/plain": [
       "  state ProductID  TotalAmount_product  r  TotalAmount_state   pct\n",
       "3    MH         A        107237.255389  0      403258.894434  0.27\n",
       "4    MH         C        101991.920737  1      403258.894434  0.25\n",
       "0    ME         A        112192.962290  0      400060.793346  0.28\n",
       "9    ME         C         97784.595233  1      400060.793346  0.24\n",
       "1    AR         C        109037.066368  0      393846.357173  0.28\n",
       "8    AR         B        100461.254984  1      393846.357173  0.26\n",
       "2    TX         B        109025.065812  0      392307.764830  0.28\n",
       "6    TX         D        100562.845155  1      392307.764830  0.26\n",
       "5    OR         D        100650.808513  0      392179.253974  0.26\n",
       "7    OR         C        100510.038224  1      392179.253974  0.26"
      ]
     },
     "execution_count": 27,
     "metadata": {},
     "output_type": "execute_result"
    }
   ],
   "source": [
    "product_sales_by_state = df[[\"state\", \"TotalAmount\", \"ProductID\"]].groupby([\"state\", \"ProductID\"]).sum().reset_index().sort_values(by=\"TotalAmount\", ascending=False)\n",
    "\n",
    "product_sales_by_state[\"r\"] = product_sales_by_state.groupby(\"state\").cumcount()\n",
    "product_sales_by_state = product_sales_by_state[product_sales_by_state[\"r\"]<=1].merge(top_5_states,on=\"state\",how=\"inner\", suffixes=[\"_product\", \"_state\"]).sort_values(by=[\"TotalAmount_state\", \"TotalAmount_product\"], ascending=[False, False])\n",
    "product_sales_by_state[\"pct\"] = round(product_sales_by_state[\"TotalAmount_product\"]/product_sales_by_state[\"TotalAmount_state\"],2)\n",
    "product_sales_by_state"
   ]
  },
  {
   "cell_type": "markdown",
   "id": "398cc8ad",
   "metadata": {},
   "source": [
    "# Summary\n",
    "\n",
    "This is a random generated dataset and I don't see much valuable insights from it. This notebook can be used as practice of data insights and visualization."
   ]
  },
  {
   "cell_type": "code",
   "execution_count": null,
   "id": "8d7afb7a",
   "metadata": {},
   "outputs": [],
   "source": []
  }
 ],
 "metadata": {
  "kernelspec": {
   "display_name": "Python 3 (ipykernel)",
   "language": "python",
   "name": "python3"
  },
  "language_info": {
   "codemirror_mode": {
    "name": "ipython",
    "version": 3
   },
   "file_extension": ".py",
   "mimetype": "text/x-python",
   "name": "python",
   "nbconvert_exporter": "python",
   "pygments_lexer": "ipython3",
   "version": "3.11.8"
  }
 },
 "nbformat": 4,
 "nbformat_minor": 5
}
