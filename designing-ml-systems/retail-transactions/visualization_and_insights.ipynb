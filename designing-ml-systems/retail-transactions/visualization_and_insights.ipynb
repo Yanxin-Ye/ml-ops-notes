{
 "cells": [
  {
   "cell_type": "markdown",
   "id": "3c5b0bfa",
   "metadata": {},
   "source": [
    "# EDA/Insights/Analytics Questions\n",
    "\n",
    "The dataset is from Kaggle [Retail Transaction Dataset](https://www.kaggle.com/datasets/fahadrehman07/retail-transaction-dataset)"
   ]
  },
  {
   "cell_type": "code",
   "execution_count": 1,
   "id": "5956577a",
   "metadata": {},
   "outputs": [],
   "source": [
    "import pandas as pd\n",
    "import numpy as np\n",
    "from datetime import datetime, timedelta"
   ]
  },
  {
   "cell_type": "code",
   "execution_count": 2,
   "id": "7ee2d01e",
   "metadata": {},
   "outputs": [
    {
     "data": {
      "text/html": [
       "<div>\n",
       "<style scoped>\n",
       "    .dataframe tbody tr th:only-of-type {\n",
       "        vertical-align: middle;\n",
       "    }\n",
       "\n",
       "    .dataframe tbody tr th {\n",
       "        vertical-align: top;\n",
       "    }\n",
       "\n",
       "    .dataframe thead th {\n",
       "        text-align: right;\n",
       "    }\n",
       "</style>\n",
       "<table border=\"1\" class=\"dataframe\">\n",
       "  <thead>\n",
       "    <tr style=\"text-align: right;\">\n",
       "      <th></th>\n",
       "      <th>CustomerID</th>\n",
       "      <th>ProductID</th>\n",
       "      <th>Quantity</th>\n",
       "      <th>Price</th>\n",
       "      <th>TransactionDate</th>\n",
       "      <th>PaymentMethod</th>\n",
       "      <th>StoreLocation</th>\n",
       "      <th>ProductCategory</th>\n",
       "      <th>DiscountApplied(%)</th>\n",
       "      <th>TotalAmount</th>\n",
       "    </tr>\n",
       "  </thead>\n",
       "  <tbody>\n",
       "    <tr>\n",
       "      <th>0</th>\n",
       "      <td>109318</td>\n",
       "      <td>C</td>\n",
       "      <td>7</td>\n",
       "      <td>80.079844</td>\n",
       "      <td>12/26/2023 12:32</td>\n",
       "      <td>Cash</td>\n",
       "      <td>176 Andrew Cliffs\\nBaileyfort, HI 93354</td>\n",
       "      <td>Books</td>\n",
       "      <td>18.677100</td>\n",
       "      <td>455.862764</td>\n",
       "    </tr>\n",
       "    <tr>\n",
       "      <th>1</th>\n",
       "      <td>993229</td>\n",
       "      <td>C</td>\n",
       "      <td>4</td>\n",
       "      <td>75.195229</td>\n",
       "      <td>8/5/2023 0:00</td>\n",
       "      <td>Cash</td>\n",
       "      <td>11635 William Well Suite 809\\nEast Kara, MT 19483</td>\n",
       "      <td>Home Decor</td>\n",
       "      <td>14.121365</td>\n",
       "      <td>258.306546</td>\n",
       "    </tr>\n",
       "    <tr>\n",
       "      <th>2</th>\n",
       "      <td>579675</td>\n",
       "      <td>A</td>\n",
       "      <td>8</td>\n",
       "      <td>31.528816</td>\n",
       "      <td>3/11/2024 18:51</td>\n",
       "      <td>Cash</td>\n",
       "      <td>910 Mendez Ville Suite 909\\nPort Lauraland, MO...</td>\n",
       "      <td>Books</td>\n",
       "      <td>15.943701</td>\n",
       "      <td>212.015651</td>\n",
       "    </tr>\n",
       "    <tr>\n",
       "      <th>3</th>\n",
       "      <td>799826</td>\n",
       "      <td>D</td>\n",
       "      <td>5</td>\n",
       "      <td>98.880218</td>\n",
       "      <td>10/27/2023 22:00</td>\n",
       "      <td>PayPal</td>\n",
       "      <td>87522 Sharon Corners Suite 500\\nLake Tammy, MO...</td>\n",
       "      <td>Books</td>\n",
       "      <td>6.686337</td>\n",
       "      <td>461.343769</td>\n",
       "    </tr>\n",
       "    <tr>\n",
       "      <th>4</th>\n",
       "      <td>121413</td>\n",
       "      <td>A</td>\n",
       "      <td>7</td>\n",
       "      <td>93.188512</td>\n",
       "      <td>12/22/2023 11:38</td>\n",
       "      <td>Cash</td>\n",
       "      <td>0070 Michelle Island Suite 143\\nHoland, VA 80142</td>\n",
       "      <td>Electronics</td>\n",
       "      <td>4.030096</td>\n",
       "      <td>626.030484</td>\n",
       "    </tr>\n",
       "  </tbody>\n",
       "</table>\n",
       "</div>"
      ],
      "text/plain": [
       "   CustomerID ProductID  Quantity      Price   TransactionDate PaymentMethod  \\\n",
       "0      109318         C         7  80.079844  12/26/2023 12:32          Cash   \n",
       "1      993229         C         4  75.195229     8/5/2023 0:00          Cash   \n",
       "2      579675         A         8  31.528816   3/11/2024 18:51          Cash   \n",
       "3      799826         D         5  98.880218  10/27/2023 22:00        PayPal   \n",
       "4      121413         A         7  93.188512  12/22/2023 11:38          Cash   \n",
       "\n",
       "                                       StoreLocation ProductCategory  \\\n",
       "0            176 Andrew Cliffs\\nBaileyfort, HI 93354           Books   \n",
       "1  11635 William Well Suite 809\\nEast Kara, MT 19483      Home Decor   \n",
       "2  910 Mendez Ville Suite 909\\nPort Lauraland, MO...           Books   \n",
       "3  87522 Sharon Corners Suite 500\\nLake Tammy, MO...           Books   \n",
       "4   0070 Michelle Island Suite 143\\nHoland, VA 80142     Electronics   \n",
       "\n",
       "   DiscountApplied(%)  TotalAmount  \n",
       "0           18.677100   455.862764  \n",
       "1           14.121365   258.306546  \n",
       "2           15.943701   212.015651  \n",
       "3            6.686337   461.343769  \n",
       "4            4.030096   626.030484  "
      ]
     },
     "execution_count": 2,
     "metadata": {},
     "output_type": "execute_result"
    }
   ],
   "source": [
    "raw_data = pd.read_csv(\"data/Retail_Transaction_Dataset.csv\")\n",
    "raw_data.head()"
   ]
  },
  {
   "cell_type": "code",
   "execution_count": 3,
   "id": "893b59bf",
   "metadata": {},
   "outputs": [
    {
     "data": {
      "text/plain": [
       "CustomerID              int64\n",
       "ProductID              object\n",
       "Quantity                int64\n",
       "Price                 float64\n",
       "TransactionDate        object\n",
       "PaymentMethod          object\n",
       "StoreLocation          object\n",
       "ProductCategory        object\n",
       "DiscountApplied(%)    float64\n",
       "TotalAmount           float64\n",
       "dtype: object"
      ]
     },
     "execution_count": 3,
     "metadata": {},
     "output_type": "execute_result"
    }
   ],
   "source": [
    "df = raw_data.copy()\n",
    "\n",
    "df.dtypes"
   ]
  },
  {
   "cell_type": "code",
   "execution_count": 4,
   "id": "3d42a8b2",
   "metadata": {},
   "outputs": [],
   "source": [
    "# Convert TransactionDate to datetime items\n",
    "\n",
    "convert_dt = lambda x: datetime.strptime(x, \"%m/%d/%Y %H:%M\")\n",
    "df[\"trans_time\"] = df[\"TransactionDate\"].apply(convert_dt)\n",
    "df[\"trans_date\"] = df[\"trans_time\"].apply(lambda x: x.date())\n",
    "\n",
    "\n",
    "# Promo penetration\n",
    "df[\"promo_pen\"] = df[\"DiscountApplied(%)\"]/( df[\"DiscountApplied(%)\"] + df[\"TotalAmount\"])"
   ]
  },
  {
   "cell_type": "code",
   "execution_count": 5,
   "id": "d1c736f8",
   "metadata": {},
   "outputs": [
    {
     "data": {
      "text/html": [
       "<div>\n",
       "<style scoped>\n",
       "    .dataframe tbody tr th:only-of-type {\n",
       "        vertical-align: middle;\n",
       "    }\n",
       "\n",
       "    .dataframe tbody tr th {\n",
       "        vertical-align: top;\n",
       "    }\n",
       "\n",
       "    .dataframe thead th {\n",
       "        text-align: right;\n",
       "    }\n",
       "</style>\n",
       "<table border=\"1\" class=\"dataframe\">\n",
       "  <thead>\n",
       "    <tr style=\"text-align: right;\">\n",
       "      <th></th>\n",
       "      <th>CustomerID</th>\n",
       "      <th>ProductID</th>\n",
       "      <th>Quantity</th>\n",
       "      <th>Price</th>\n",
       "      <th>TransactionDate</th>\n",
       "      <th>PaymentMethod</th>\n",
       "      <th>StoreLocation</th>\n",
       "      <th>ProductCategory</th>\n",
       "      <th>DiscountApplied(%)</th>\n",
       "      <th>TotalAmount</th>\n",
       "      <th>trans_time</th>\n",
       "      <th>trans_date</th>\n",
       "      <th>promo_pen</th>\n",
       "    </tr>\n",
       "  </thead>\n",
       "  <tbody>\n",
       "    <tr>\n",
       "      <th>0</th>\n",
       "      <td>109318</td>\n",
       "      <td>C</td>\n",
       "      <td>7</td>\n",
       "      <td>80.079844</td>\n",
       "      <td>12/26/2023 12:32</td>\n",
       "      <td>Cash</td>\n",
       "      <td>176 Andrew Cliffs\\nBaileyfort, HI 93354</td>\n",
       "      <td>Books</td>\n",
       "      <td>18.677100</td>\n",
       "      <td>455.862764</td>\n",
       "      <td>2023-12-26 12:32:00</td>\n",
       "      <td>2023-12-26</td>\n",
       "      <td>0.039358</td>\n",
       "    </tr>\n",
       "    <tr>\n",
       "      <th>1</th>\n",
       "      <td>993229</td>\n",
       "      <td>C</td>\n",
       "      <td>4</td>\n",
       "      <td>75.195229</td>\n",
       "      <td>8/5/2023 0:00</td>\n",
       "      <td>Cash</td>\n",
       "      <td>11635 William Well Suite 809\\nEast Kara, MT 19483</td>\n",
       "      <td>Home Decor</td>\n",
       "      <td>14.121365</td>\n",
       "      <td>258.306546</td>\n",
       "      <td>2023-08-05 00:00:00</td>\n",
       "      <td>2023-08-05</td>\n",
       "      <td>0.051835</td>\n",
       "    </tr>\n",
       "    <tr>\n",
       "      <th>2</th>\n",
       "      <td>579675</td>\n",
       "      <td>A</td>\n",
       "      <td>8</td>\n",
       "      <td>31.528816</td>\n",
       "      <td>3/11/2024 18:51</td>\n",
       "      <td>Cash</td>\n",
       "      <td>910 Mendez Ville Suite 909\\nPort Lauraland, MO...</td>\n",
       "      <td>Books</td>\n",
       "      <td>15.943701</td>\n",
       "      <td>212.015651</td>\n",
       "      <td>2024-03-11 18:51:00</td>\n",
       "      <td>2024-03-11</td>\n",
       "      <td>0.069941</td>\n",
       "    </tr>\n",
       "    <tr>\n",
       "      <th>3</th>\n",
       "      <td>799826</td>\n",
       "      <td>D</td>\n",
       "      <td>5</td>\n",
       "      <td>98.880218</td>\n",
       "      <td>10/27/2023 22:00</td>\n",
       "      <td>PayPal</td>\n",
       "      <td>87522 Sharon Corners Suite 500\\nLake Tammy, MO...</td>\n",
       "      <td>Books</td>\n",
       "      <td>6.686337</td>\n",
       "      <td>461.343769</td>\n",
       "      <td>2023-10-27 22:00:00</td>\n",
       "      <td>2023-10-27</td>\n",
       "      <td>0.014286</td>\n",
       "    </tr>\n",
       "    <tr>\n",
       "      <th>4</th>\n",
       "      <td>121413</td>\n",
       "      <td>A</td>\n",
       "      <td>7</td>\n",
       "      <td>93.188512</td>\n",
       "      <td>12/22/2023 11:38</td>\n",
       "      <td>Cash</td>\n",
       "      <td>0070 Michelle Island Suite 143\\nHoland, VA 80142</td>\n",
       "      <td>Electronics</td>\n",
       "      <td>4.030096</td>\n",
       "      <td>626.030484</td>\n",
       "      <td>2023-12-22 11:38:00</td>\n",
       "      <td>2023-12-22</td>\n",
       "      <td>0.006396</td>\n",
       "    </tr>\n",
       "  </tbody>\n",
       "</table>\n",
       "</div>"
      ],
      "text/plain": [
       "   CustomerID ProductID  Quantity      Price   TransactionDate PaymentMethod  \\\n",
       "0      109318         C         7  80.079844  12/26/2023 12:32          Cash   \n",
       "1      993229         C         4  75.195229     8/5/2023 0:00          Cash   \n",
       "2      579675         A         8  31.528816   3/11/2024 18:51          Cash   \n",
       "3      799826         D         5  98.880218  10/27/2023 22:00        PayPal   \n",
       "4      121413         A         7  93.188512  12/22/2023 11:38          Cash   \n",
       "\n",
       "                                       StoreLocation ProductCategory  \\\n",
       "0            176 Andrew Cliffs\\nBaileyfort, HI 93354           Books   \n",
       "1  11635 William Well Suite 809\\nEast Kara, MT 19483      Home Decor   \n",
       "2  910 Mendez Ville Suite 909\\nPort Lauraland, MO...           Books   \n",
       "3  87522 Sharon Corners Suite 500\\nLake Tammy, MO...           Books   \n",
       "4   0070 Michelle Island Suite 143\\nHoland, VA 80142     Electronics   \n",
       "\n",
       "   DiscountApplied(%)  TotalAmount          trans_time  trans_date  promo_pen  \n",
       "0           18.677100   455.862764 2023-12-26 12:32:00  2023-12-26   0.039358  \n",
       "1           14.121365   258.306546 2023-08-05 00:00:00  2023-08-05   0.051835  \n",
       "2           15.943701   212.015651 2024-03-11 18:51:00  2024-03-11   0.069941  \n",
       "3            6.686337   461.343769 2023-10-27 22:00:00  2023-10-27   0.014286  \n",
       "4            4.030096   626.030484 2023-12-22 11:38:00  2023-12-22   0.006396  "
      ]
     },
     "execution_count": 5,
     "metadata": {},
     "output_type": "execute_result"
    }
   ],
   "source": [
    "df.head()"
   ]
  },
  {
   "cell_type": "markdown",
   "id": "f7ec2dc6",
   "metadata": {},
   "source": [
    "# 1. Exploratory DataSet\n",
    "\n",
    "## 1.1 Revenue\n",
    "\n",
    "\n"
   ]
  },
  {
   "cell_type": "code",
   "execution_count": 6,
   "id": "e0b1eacc",
   "metadata": {},
   "outputs": [],
   "source": [
    "import matplotlib.pyplot as plt"
   ]
  },
  {
   "cell_type": "code",
   "execution_count": 7,
   "id": "66013de5",
   "metadata": {},
   "outputs": [
    {
     "data": {
      "text/plain": [
       "<Axes: xlabel='trans_month'>"
      ]
     },
     "execution_count": 7,
     "metadata": {},
     "output_type": "execute_result"
    },
    {
     "data": {
      "image/png": "[encoded data removed]",
      "text/plain": [
       "<Figure size 640x480 with 1 Axes>"
      ]
     },
     "metadata": {},
     "output_type": "display_data"
    }
   ],
   "source": [
    "# Revenue by month\n",
    "df[\"trans_month\"] = df[\"trans_time\"].apply(lambda x: x.strftime(\"%Y-%m\"))\n",
    "df_by_month = df[[\"TotalAmount\", \"trans_month\"]].groupby(\"trans_month\").sum()\n",
    "\n",
    "df_by_month.plot(kind=\"bar\", legend=False)\n"
   ]
  },
  {
   "cell_type": "markdown",
   "id": "a9d8d98c",
   "metadata": {},
   "source": [
    "Wieldly steady monthly transactions. No seasonality. No trend. No growth."
   ]
  },
  {
   "cell_type": "code",
   "execution_count": 8,
   "id": "c71d0e86",
   "metadata": {},
   "outputs": [
    {
     "data": {
      "text/plain": [
       "<Axes: xlabel='ProductCategory'>"
      ]
     },
     "execution_count": 8,
     "metadata": {},
     "output_type": "execute_result"
    },
    {
     "data": {
      "image/png": "[encoded data removed]",
      "text/plain": [
       "<Figure size 640x480 with 1 Axes>"
      ]
     },
     "metadata": {},
     "output_type": "display_data"
    }
   ],
   "source": [
    "# Revenue by category\n",
    "df_by_cat = df[[\"TotalAmount\", \"ProductCategory\"]].groupby(\"ProductCategory\").sum()\n",
    "\n",
    "df_by_cat.plot(kind=\"bar\", legend=False)\n"
   ]
  },
  {
   "cell_type": "markdown",
   "id": "f287b520",
   "metadata": {},
   "source": [
    "## 1.2 Customer"
   ]
  },
  {
   "cell_type": "code",
   "execution_count": 9,
   "id": "760b462d",
   "metadata": {},
   "outputs": [
    {
     "data": {
      "text/plain": [
       "<Axes: xlabel='trans_month'>"
      ]
     },
     "execution_count": 9,
     "metadata": {},
     "output_type": "execute_result"
    },
    {
     "data": {
      "image/png": "[encoded data removed]",
      "text/plain": [
       "<Figure size 640x480 with 1 Axes>"
      ]
     },
     "metadata": {},
     "output_type": "display_data"
    }
   ],
   "source": [
    "# 1.2.1 Customer_cnt by month\n",
    "\n",
    "monthly_cnt = df[[\"trans_month\", \"CustomerID\"]].groupby(\"trans_month\").size()\n",
    "\n",
    "monthly_cnt.plot(kind=\"bar\", legend=False)"
   ]
  },
  {
   "cell_type": "code",
   "execution_count": 10,
   "id": "d9533bd7",
   "metadata": {},
   "outputs": [
    {
     "data": {
      "text/plain": [
       "<Axes: xlabel='trans_month'>"
      ]
     },
     "execution_count": 10,
     "metadata": {},
     "output_type": "execute_result"
    },
    {
     "data": {
      "image/png": "[encoded data removed]",
      "text/plain": [
       "<Figure size 640x480 with 1 Axes>"
      ]
     },
     "metadata": {},
     "output_type": "display_data"
    }
   ],
   "source": [
    "# 1.2.2 New customer count\n",
    "\n",
    "first_time_purchase = df[[\"CustomerID\", \"trans_month\"]].groupby([\"CustomerID\"]).min()\n",
    "new_customer_aquisition = first_time_purchase.groupby([\"trans_month\"]).size()\n",
    "new_customer_aquisition.plot(kind=\"bar\", legend=False)"
   ]
  },
  {
   "cell_type": "markdown",
   "id": "8e55d35d",
   "metadata": {},
   "source": [
    "**Insight 1**: The count of new customers are declining."
   ]
  },
  {
   "cell_type": "code",
   "execution_count": 11,
   "id": "fc81dd7f",
   "metadata": {},
   "outputs": [],
   "source": [
    "# 1.2.3 Customer Rentention: How many customers come back 30 days after the first purchase?\n",
    "\n",
    "\n",
    "install_dates  = df[[\"CustomerID\", \"trans_date\"]].groupby([\"CustomerID\"]).min().reset_index().rename(columns={\"trans_date\": \"first_trans_date\"})"
   ]
  },
  {
   "cell_type": "code",
   "execution_count": 12,
   "id": "4f5a30ed",
   "metadata": {},
   "outputs": [],
   "source": [
    "install_dates[\"after_30_days\"] = install_dates[\"first_trans_date\"].apply(lambda x: x + timedelta(days=30))"
   ]
  },
  {
   "cell_type": "code",
   "execution_count": 13,
   "id": "a5760838",
   "metadata": {},
   "outputs": [],
   "source": [
    "next_day_activity = pd.merge(\n",
    "    install_dates, df, on=\"CustomerID\"\n",
    ")"
   ]
  },
  {
   "cell_type": "code",
   "execution_count": 14,
   "id": "8337d2ca",
   "metadata": {},
   "outputs": [],
   "source": [
    "next_day_activity = next_day_activity[(next_day_activity[\"first_trans_date\"] < next_day_activity[\"trans_date\"]) \n",
    "                  & \n",
    "                  (next_day_activity[\"after_30_days\"] >= next_day_activity[\"trans_date\"])\n",
    "                 ]"
   ]
  },
  {
   "cell_type": "code",
   "execution_count": 15,
   "id": "52ff301e",
   "metadata": {},
   "outputs": [],
   "source": [
    "return_customers = next_day_activity[[\"CustomerID\", \"first_trans_date\"]].groupby([\"first_trans_date\"]).size().reset_index()\n",
    "return_customers.columns = [\"first_trans_date\", \"return_cnt\"]"
   ]
  },
  {
   "cell_type": "code",
   "execution_count": 16,
   "id": "0fab6796",
   "metadata": {},
   "outputs": [],
   "source": [
    "install_dates_agg = install_dates.groupby([\"first_trans_date\"]).size().reset_index()\n",
    "install_dates_agg.columns = [\"first_trans_date\", \"cnt\"]"
   ]
  },
  {
   "cell_type": "code",
   "execution_count": 29,
   "id": "deaffba8",
   "metadata": {},
   "outputs": [],
   "source": [
    "daily_retention = pd.merge(install_dates_agg, return_customers, on=\"first_trans_date\", how=\"left\")\n",
    "daily_retention[\"return_cnt\"] = daily_retention[\"return_cnt\"].fillna(0)\n",
    "daily_retention[\"retention\"] = daily_retention[\"return_cnt\"]/daily_retention[\"cnt\"]\n",
    "daily_retention[\"retention\"] = daily_retention[\"retention\"].apply(lambda x: round(x, 4))\n"
   ]
  },
  {
   "cell_type": "code",
   "execution_count": 30,
   "id": "e9e96bf6",
   "metadata": {},
   "outputs": [
    {
     "data": {
      "text/plain": [
       "<Axes: >"
      ]
     },
     "execution_count": 30,
     "metadata": {},
     "output_type": "execute_result"
    },
    {
     "data": {
      "image/png": "[encoded data removed]",
      "text/plain": [
       "<Figure size 640x480 with 1 Axes>"
      ]
     },
     "metadata": {},
     "output_type": "display_data"
    }
   ],
   "source": [
    "daily_retention[[\"first_trans_date\", \"retention\"]].plot(kind=\"bar\")"
   ]
  },
  {
   "cell_type": "code",
   "execution_count": 18,
   "id": "b89746be",
   "metadata": {},
   "outputs": [],
   "source": [
    "def add_label(df):\n",
    "    if df[\"retention\"] == 0:\n",
    "        return \"no-one-return\"\n",
    "    elif df[\"retention\"] < 0.01:\n",
    "        return \"not-bad\"\n",
    "    elif df[\"retention\"] < 0.02:\n",
    "        return \"doing-ok\"\n",
    "    else:\n",
    "        return \"awesome\"\n",
    "    \n",
    "daily_retention[\"retention_label\"] = daily_retention.apply(add_label, axis=1)"
   ]
  },
  {
   "cell_type": "code",
   "execution_count": 19,
   "id": "0b26c826",
   "metadata": {},
   "outputs": [
    {
     "data": {
      "text/html": [
       "<div>\n",
       "<style scoped>\n",
       "    .dataframe tbody tr th:only-of-type {\n",
       "        vertical-align: middle;\n",
       "    }\n",
       "\n",
       "    .dataframe tbody tr th {\n",
       "        vertical-align: top;\n",
       "    }\n",
       "\n",
       "    .dataframe thead th {\n",
       "        text-align: right;\n",
       "    }\n",
       "</style>\n",
       "<table border=\"1\" class=\"dataframe\">\n",
       "  <thead>\n",
       "    <tr style=\"text-align: right;\">\n",
       "      <th></th>\n",
       "      <th>first_trans_date</th>\n",
       "      <th>cnt</th>\n",
       "      <th>return_cnt</th>\n",
       "      <th>retention</th>\n",
       "      <th>retention_label</th>\n",
       "    </tr>\n",
       "  </thead>\n",
       "  <tbody>\n",
       "    <tr>\n",
       "      <th>0</th>\n",
       "      <td>2023-04-29</td>\n",
       "      <td>14</td>\n",
       "      <td>2.0</td>\n",
       "      <td>0.1429</td>\n",
       "      <td>awesome</td>\n",
       "    </tr>\n",
       "    <tr>\n",
       "      <th>1</th>\n",
       "      <td>2023-04-30</td>\n",
       "      <td>250</td>\n",
       "      <td>1.0</td>\n",
       "      <td>0.0040</td>\n",
       "      <td>not-bad</td>\n",
       "    </tr>\n",
       "    <tr>\n",
       "      <th>2</th>\n",
       "      <td>2023-05-01</td>\n",
       "      <td>262</td>\n",
       "      <td>3.0</td>\n",
       "      <td>0.0115</td>\n",
       "      <td>doing-ok</td>\n",
       "    </tr>\n",
       "    <tr>\n",
       "      <th>3</th>\n",
       "      <td>2023-05-02</td>\n",
       "      <td>285</td>\n",
       "      <td>4.0</td>\n",
       "      <td>0.0140</td>\n",
       "      <td>doing-ok</td>\n",
       "    </tr>\n",
       "    <tr>\n",
       "      <th>4</th>\n",
       "      <td>2023-05-03</td>\n",
       "      <td>268</td>\n",
       "      <td>2.0</td>\n",
       "      <td>0.0075</td>\n",
       "      <td>not-bad</td>\n",
       "    </tr>\n",
       "    <tr>\n",
       "      <th>...</th>\n",
       "      <td>...</td>\n",
       "      <td>...</td>\n",
       "      <td>...</td>\n",
       "      <td>...</td>\n",
       "      <td>...</td>\n",
       "    </tr>\n",
       "    <tr>\n",
       "      <th>361</th>\n",
       "      <td>2024-04-24</td>\n",
       "      <td>237</td>\n",
       "      <td>2.0</td>\n",
       "      <td>0.0084</td>\n",
       "      <td>not-bad</td>\n",
       "    </tr>\n",
       "    <tr>\n",
       "      <th>362</th>\n",
       "      <td>2024-04-25</td>\n",
       "      <td>228</td>\n",
       "      <td>0.0</td>\n",
       "      <td>0.0000</td>\n",
       "      <td>no-one-return</td>\n",
       "    </tr>\n",
       "    <tr>\n",
       "      <th>363</th>\n",
       "      <td>2024-04-26</td>\n",
       "      <td>274</td>\n",
       "      <td>0.0</td>\n",
       "      <td>0.0000</td>\n",
       "      <td>no-one-return</td>\n",
       "    </tr>\n",
       "    <tr>\n",
       "      <th>364</th>\n",
       "      <td>2024-04-27</td>\n",
       "      <td>248</td>\n",
       "      <td>0.0</td>\n",
       "      <td>0.0000</td>\n",
       "      <td>no-one-return</td>\n",
       "    </tr>\n",
       "    <tr>\n",
       "      <th>365</th>\n",
       "      <td>2024-04-28</td>\n",
       "      <td>220</td>\n",
       "      <td>0.0</td>\n",
       "      <td>0.0000</td>\n",
       "      <td>no-one-return</td>\n",
       "    </tr>\n",
       "  </tbody>\n",
       "</table>\n",
       "<p>366 rows × 5 columns</p>\n",
       "</div>"
      ],
      "text/plain": [
       "    first_trans_date  cnt  return_cnt  retention retention_label\n",
       "0         2023-04-29   14         2.0     0.1429         awesome\n",
       "1         2023-04-30  250         1.0     0.0040         not-bad\n",
       "2         2023-05-01  262         3.0     0.0115        doing-ok\n",
       "3         2023-05-02  285         4.0     0.0140        doing-ok\n",
       "4         2023-05-03  268         2.0     0.0075         not-bad\n",
       "..               ...  ...         ...        ...             ...\n",
       "361       2024-04-24  237         2.0     0.0084         not-bad\n",
       "362       2024-04-25  228         0.0     0.0000   no-one-return\n",
       "363       2024-04-26  274         0.0     0.0000   no-one-return\n",
       "364       2024-04-27  248         0.0     0.0000   no-one-return\n",
       "365       2024-04-28  220         0.0     0.0000   no-one-return\n",
       "\n",
       "[366 rows x 5 columns]"
      ]
     },
     "execution_count": 19,
     "metadata": {},
     "output_type": "execute_result"
    }
   ],
   "source": [
    "daily_retention.sort_values(by=[\"first_trans_date\", \"cnt\"], ascending=[True, False])"
   ]
  },
  {
   "cell_type": "markdown",
   "id": "35993604",
   "metadata": {},
   "source": [
    "## 2. Product Recommendations"
   ]
  },
  {
   "cell_type": "code",
   "execution_count": null,
   "id": "c2fa5053",
   "metadata": {},
   "outputs": [],
   "source": [
    "# Find product pa"
   ]
  },
  {
   "cell_type": "markdown",
   "id": "daeed68e",
   "metadata": {},
   "source": [
    "## 3. Channels"
   ]
  },
  {
   "cell_type": "code",
   "execution_count": null,
   "id": "7e8019eb",
   "metadata": {},
   "outputs": [],
   "source": []
  }
 ],
 "metadata": {
  "kernelspec": {
   "display_name": "Python 3 (ipykernel)",
   "language": "python",
   "name": "python3"
  },
  "language_info": {
   "codemirror_mode": {
    "name": "ipython",
    "version": 3
   },
   "file_extension": ".py",
   "mimetype": "text/x-python",
   "name": "python",
   "nbconvert_exporter": "python",
   "pygments_lexer": "ipython3",
   "version": "3.11.4"
  }
 },
 "nbformat": 4,
 "nbformat_minor": 5
}
