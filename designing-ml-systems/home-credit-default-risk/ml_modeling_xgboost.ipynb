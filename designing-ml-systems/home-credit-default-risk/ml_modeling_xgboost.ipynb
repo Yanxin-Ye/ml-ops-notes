{
 "cells": [
  {
   "cell_type": "markdown",
   "metadata": {},
   "source": [
    "# Home Credit Default Risk by Kaggle"
   ]
  },
  {
   "cell_type": "markdown",
   "metadata": {},
   "source": [
    "Inspired by the classic Kaggle problem: [Home Credit Default Risk](https://www.kaggle.com/competitions/home-credit-default-risk/overview), we are creating an ultimate cheatsheet for data scientist interviews. "
   ]
  },
  {
   "cell_type": "code",
   "execution_count": 1,
   "metadata": {
    "ExecuteTime": {
     "end_time": "2025-10-29T01:19:54.810076Z",
     "start_time": "2025-10-29T01:19:52.323085Z"
    }
   },
   "outputs": [],
   "source": [
    "import pandas as pd\n",
    "import numpy as np\n",
    "import matplotlib.pyplot as plt\n",
    "from sklearn.impute import SimpleImputer\n",
    "from sklearn.compose import ColumnTransformer\n",
    "from sklearn.model_selection import train_test_split, RandomizedSearchCV, StratifiedKFold, cross_val_predict\n",
    "import joblib\n",
    "from sklearn import set_config\n",
    "from sklearn.pipeline import Pipeline\n",
    "from sklearn.preprocessing import OneHotEncoder, FunctionTransformer\n",
    "from xgboost import XGBClassifier, plot_importance\n",
    "from scipy.stats import loguniform, randint\n",
    "from sklearn.model_selection import train_test_split, GridSearchCV, StratifiedKFold\n",
    "from sklearn.linear_model import LogisticRegression\n",
    "from sklearn.metrics import make_scorer, roc_auc_score, f1_score, confusion_matrix, precision_recall_curve, classification_report\n",
    "from outlier_and_nan_imputer import OutlierAndNaNImputer\n",
    "import time\n",
    "from utils import save_best_model, model_performance, check_missing_col_coverage\n",
    "\n",
    "set_config(transform_output=\"pandas\") "
   ]
  },
  {
   "cell_type": "code",
   "execution_count": 2,
   "metadata": {
    "collapsed": false,
    "ExecuteTime": {
     "end_time": "2025-10-29T01:19:58.924425Z",
     "start_time": "2025-10-29T01:19:54.811083Z"
    }
   },
   "outputs": [],
   "source": [
    "raw_data = pd.read_csv(\"data/application_train.csv\")\n",
    "previous_applications = pd.read_csv(\"etl/previous_applications_agg.csv\")\n",
    "bureau = pd.read_csv(\"etl/bureau_agg.csv\")\n",
    "pos_cash = pd.read_csv(\"etl/pos_cash_agg.csv\")\n",
    "installment_pay = pd.read_csv(\"etl/installment_pay.csv\")"
   ]
  },
  {
   "cell_type": "code",
   "outputs": [
    {
     "data": {
      "text/plain": "   SK_ID_CURR  TARGET NAME_CONTRACT_TYPE CODE_GENDER FLAG_OWN_CAR  \\\n0      100002       1         Cash loans           M            N   \n1      100003       0         Cash loans           F            N   \n2      100004       0    Revolving loans           M            Y   \n3      100006       0         Cash loans           F            N   \n4      100007       0         Cash loans           M            N   \n\n  FLAG_OWN_REALTY  CNT_CHILDREN  AMT_INCOME_TOTAL  AMT_CREDIT  AMT_ANNUITY  \\\n0               Y             0          202500.0    406597.5      24700.5   \n1               N             0          270000.0   1293502.5      35698.5   \n2               Y             0           67500.0    135000.0       6750.0   \n3               Y             0          135000.0    312682.5      29686.5   \n4               Y             0          121500.0    513000.0      21865.5   \n\n   ...  PAYMENT_PERCENT_MAX_REPAY PAYMENT_PERCENT_MEAN_REPAY  \\\n0  ...                        1.0                   1.000000   \n1  ...                        1.0                   1.000000   \n2  ...                        1.0                   1.000000   \n3  ...                        1.0                   1.000000   \n4  ...                        1.0                   0.954545   \n\n  PAYMENT_GAP_MIN_REPAY PAYMENT_GAP_MAX_REPAY PAYMENT_GAP_MEAN_REPAY  \\\n0                   0.0                 0.000               0.000000   \n1                   0.0                 0.000               0.000000   \n2                   0.0                 0.000               0.000000   \n3                   0.0                 0.000               0.000000   \n4                   0.0             22655.655             452.384318   \n\n  PAYMENT_GAP_SUM_REPAY  PAYMENT_TIME_MIN_REPAY  PAYMENT_TIME_MAX_REPAY  \\\n0                 0.000                   -31.0                   -12.0   \n1                 0.000                   -14.0                    -1.0   \n2                 0.000                   -11.0                    -3.0   \n3                 0.000                   -77.0                    -1.0   \n4             29857.365                   -31.0                    12.0   \n\n   PAYMENT_TIME_MEAN_REPAY  PAYMENT_TIME_SUM_REPAY  \n0               -20.421053                  -388.0  \n1                -7.160000                  -179.0  \n2                -7.666667                   -23.0  \n3               -19.375000                  -310.0  \n4                -3.636364                  -240.0  \n\n[5 rows x 220 columns]",
      "text/html": "<div>\n<style scoped>\n    .dataframe tbody tr th:only-of-type {\n        vertical-align: middle;\n    }\n\n    .dataframe tbody tr th {\n        vertical-align: top;\n    }\n\n    .dataframe thead th {\n        text-align: right;\n    }\n</style>\n<table border=\"1\" class=\"dataframe\">\n  <thead>\n    <tr style=\"text-align: right;\">\n      <th></th>\n      <th>SK_ID_CURR</th>\n      <th>TARGET</th>\n      <th>NAME_CONTRACT_TYPE</th>\n      <th>CODE_GENDER</th>\n      <th>FLAG_OWN_CAR</th>\n      <th>FLAG_OWN_REALTY</th>\n      <th>CNT_CHILDREN</th>\n      <th>AMT_INCOME_TOTAL</th>\n      <th>AMT_CREDIT</th>\n      <th>AMT_ANNUITY</th>\n      <th>...</th>\n      <th>PAYMENT_PERCENT_MAX_REPAY</th>\n      <th>PAYMENT_PERCENT_MEAN_REPAY</th>\n      <th>PAYMENT_GAP_MIN_REPAY</th>\n      <th>PAYMENT_GAP_MAX_REPAY</th>\n      <th>PAYMENT_GAP_MEAN_REPAY</th>\n      <th>PAYMENT_GAP_SUM_REPAY</th>\n      <th>PAYMENT_TIME_MIN_REPAY</th>\n      <th>PAYMENT_TIME_MAX_REPAY</th>\n      <th>PAYMENT_TIME_MEAN_REPAY</th>\n      <th>PAYMENT_TIME_SUM_REPAY</th>\n    </tr>\n  </thead>\n  <tbody>\n    <tr>\n      <th>0</th>\n      <td>100002</td>\n      <td>1</td>\n      <td>Cash loans</td>\n      <td>M</td>\n      <td>N</td>\n      <td>Y</td>\n      <td>0</td>\n      <td>202500.0</td>\n      <td>406597.5</td>\n      <td>24700.5</td>\n      <td>...</td>\n      <td>1.0</td>\n      <td>1.000000</td>\n      <td>0.0</td>\n      <td>0.000</td>\n      <td>0.000000</td>\n      <td>0.000</td>\n      <td>-31.0</td>\n      <td>-12.0</td>\n      <td>-20.421053</td>\n      <td>-388.0</td>\n    </tr>\n    <tr>\n      <th>1</th>\n      <td>100003</td>\n      <td>0</td>\n      <td>Cash loans</td>\n      <td>F</td>\n      <td>N</td>\n      <td>N</td>\n      <td>0</td>\n      <td>270000.0</td>\n      <td>1293502.5</td>\n      <td>35698.5</td>\n      <td>...</td>\n      <td>1.0</td>\n      <td>1.000000</td>\n      <td>0.0</td>\n      <td>0.000</td>\n      <td>0.000000</td>\n      <td>0.000</td>\n      <td>-14.0</td>\n      <td>-1.0</td>\n      <td>-7.160000</td>\n      <td>-179.0</td>\n    </tr>\n    <tr>\n      <th>2</th>\n      <td>100004</td>\n      <td>0</td>\n      <td>Revolving loans</td>\n      <td>M</td>\n      <td>Y</td>\n      <td>Y</td>\n      <td>0</td>\n      <td>67500.0</td>\n      <td>135000.0</td>\n      <td>6750.0</td>\n      <td>...</td>\n      <td>1.0</td>\n      <td>1.000000</td>\n      <td>0.0</td>\n      <td>0.000</td>\n      <td>0.000000</td>\n      <td>0.000</td>\n      <td>-11.0</td>\n      <td>-3.0</td>\n      <td>-7.666667</td>\n      <td>-23.0</td>\n    </tr>\n    <tr>\n      <th>3</th>\n      <td>100006</td>\n      <td>0</td>\n      <td>Cash loans</td>\n      <td>F</td>\n      <td>N</td>\n      <td>Y</td>\n      <td>0</td>\n      <td>135000.0</td>\n      <td>312682.5</td>\n      <td>29686.5</td>\n      <td>...</td>\n      <td>1.0</td>\n      <td>1.000000</td>\n      <td>0.0</td>\n      <td>0.000</td>\n      <td>0.000000</td>\n      <td>0.000</td>\n      <td>-77.0</td>\n      <td>-1.0</td>\n      <td>-19.375000</td>\n      <td>-310.0</td>\n    </tr>\n    <tr>\n      <th>4</th>\n      <td>100007</td>\n      <td>0</td>\n      <td>Cash loans</td>\n      <td>M</td>\n      <td>N</td>\n      <td>Y</td>\n      <td>0</td>\n      <td>121500.0</td>\n      <td>513000.0</td>\n      <td>21865.5</td>\n      <td>...</td>\n      <td>1.0</td>\n      <td>0.954545</td>\n      <td>0.0</td>\n      <td>22655.655</td>\n      <td>452.384318</td>\n      <td>29857.365</td>\n      <td>-31.0</td>\n      <td>12.0</td>\n      <td>-3.636364</td>\n      <td>-240.0</td>\n    </tr>\n  </tbody>\n</table>\n<p>5 rows × 220 columns</p>\n</div>"
     },
     "execution_count": 3,
     "metadata": {},
     "output_type": "execute_result"
    }
   ],
   "source": [
    "\n",
    "df = raw_data.copy()\n",
    "\n",
    "df = df.merge(previous_applications, on=\"SK_ID_CURR\", how=\"left\", suffixes=[\"_main\", \"_previous_app\"])\n",
    "df = df.merge(bureau, on=\"SK_ID_CURR\", how=\"left\", suffixes=[\"_main\", \"_bureau\"])\n",
    "df = df.merge(pos_cash, on=\"SK_ID_CURR\", how=\"left\", suffixes=[\"_main\", \"_pos\"])\n",
    "df = df.merge(installment_pay, on=\"SK_ID_CURR\", how=\"left\", suffixes=[\"_main\", \"_repay\"])\n",
    "\n",
    "df.head()"
   ],
   "metadata": {
    "ExecuteTime": {
     "end_time": "2025-10-29T01:20:00.066998Z",
     "start_time": "2025-10-29T01:19:58.925428Z"
    }
   },
   "execution_count": 3
  },
  {
   "cell_type": "markdown",
   "metadata": {},
   "source": [
    "# 1. Check the target column"
   ]
  },
  {
   "cell_type": "code",
   "execution_count": 4,
   "metadata": {
    "ExecuteTime": {
     "end_time": "2025-10-29T01:20:00.079011Z",
     "start_time": "2025-10-29T01:20:00.068013Z"
    }
   },
   "outputs": [
    {
     "data": {
      "text/plain": "TARGET\n0    282686\n1     24825\ndtype: int64"
     },
     "execution_count": 4,
     "metadata": {},
     "output_type": "execute_result"
    }
   ],
   "source": [
    "# 1. Check target value\n",
    "df.groupby(\"TARGET\").size()"
   ]
  },
  {
   "cell_type": "code",
   "execution_count": 5,
   "metadata": {
    "ExecuteTime": {
     "end_time": "2025-10-29T01:20:00.219255Z",
     "start_time": "2025-10-29T01:20:00.080540Z"
    }
   },
   "outputs": [],
   "source": [
    "df.drop(columns = [\"TARGET\", \"SK_ID_CURR\"], inplace=True)\n",
    "trans_values = {}\n",
    "col_transformers = []"
   ]
  },
  {
   "cell_type": "markdown",
   "metadata": {},
   "source": [
    "This is a very **imbalanced data**, with label 1 less than 10% of label 0.\n",
    "The way we usually handle imbalance data:\n",
    "\n",
    "a) Data level:\n",
    "Collect more data in minority class  \n",
    "Undersample: might remove important data  \n",
    "Oversample: might overfit  \n",
    "To mitigate:   \n",
    "Two-phase learning: train on resampled data, fine tune on original data  \n",
    "Dynamic sampling: oversample the low-performing class and undersample the high performing class during training.  \n",
    "\n",
    "b) Metric level: Check precision/recall, f1, AUC in ROC curve\n",
    "\n",
    "c) Algorithm level: Add stronger penalty on misclassifying the minority class in loss function"
   ]
  },
  {
   "cell_type": "markdown",
   "metadata": {},
   "source": [
    "# 2. Check predictors\n"
   ]
  },
  {
   "cell_type": "markdown",
   "metadata": {},
   "source": [
    "2.0 Check the dtypes of predictors  \n",
    "2.1 Check if all the numeric binary columns are in [0, 1]  \n",
    "2.2 Check outliers in non-binary numeric cols, and impute them with null, medium or mean"
   ]
  },
  {
   "cell_type": "code",
   "execution_count": 6,
   "metadata": {
    "ExecuteTime": {
     "end_time": "2025-10-29T01:20:00.227262Z",
     "start_time": "2025-10-29T01:20:00.220278Z"
    }
   },
   "outputs": [
    {
     "data": {
      "text/plain": "float64    163\nint64       39\nobject      16\nName: count, dtype: int64"
     },
     "execution_count": 6,
     "metadata": {},
     "output_type": "execute_result"
    }
   ],
   "source": [
    "# 2. Check the predictors\n",
    "df.dtypes.value_counts()"
   ]
  },
  {
   "cell_type": "code",
   "outputs": [
    {
     "data": {
      "text/plain": "AMT_ANNUITY                 0.003902\nAMT_GOODS_PRICE             0.090403\nNAME_TYPE_SUITE             0.420148\nOWN_CAR_AGE                65.990810\nOCCUPATION_TYPE            31.345545\n                             ...    \nPAYMENT_GAP_SUM_REPAY       5.160141\nPAYMENT_TIME_MIN_REPAY      5.162742\nPAYMENT_TIME_MAX_REPAY      5.162742\nPAYMENT_TIME_MEAN_REPAY     5.162742\nPAYMENT_TIME_SUM_REPAY      5.160141\nLength: 165, dtype: float64"
     },
     "execution_count": 7,
     "metadata": {},
     "output_type": "execute_result"
    }
   ],
   "source": [
    "check_missing_col_coverage(df)"
   ],
   "metadata": {
    "collapsed": false,
    "ExecuteTime": {
     "end_time": "2025-10-29T01:20:00.431999Z",
     "start_time": "2025-10-29T01:20:00.227765Z"
    }
   },
   "execution_count": 7
  },
  {
   "cell_type": "code",
   "execution_count": 8,
   "metadata": {
    "ExecuteTime": {
     "end_time": "2025-10-29T01:20:00.702791Z",
     "start_time": "2025-10-29T01:20:00.431999Z"
    }
   },
   "outputs": [
    {
     "name": "stdout",
     "output_type": "stream",
     "text": [
      "202\n"
     ]
    }
   ],
   "source": [
    "num_cols = df.select_dtypes(include='number').columns.tolist()\n",
    "num_cols = [_ for _ in num_cols if _ not in [\"SK_ID_CURR\", \"TARGET\"]]\n",
    "print(len(num_cols))"
   ]
  },
  {
   "cell_type": "code",
   "execution_count": 9,
   "metadata": {
    "ExecuteTime": {
     "end_time": "2025-10-29T01:20:00.710331Z",
     "start_time": "2025-10-29T01:20:00.704320Z"
    }
   },
   "outputs": [
    {
     "name": "stdout",
     "output_type": "stream",
     "text": [
      "170\n",
      "32\n"
     ]
    }
   ],
   "source": [
    "num_cols_nonbinary = [x for x in num_cols if all(words not in x for words in [\"FLAG\", \"NOT\"])]\n",
    "print(len(num_cols_nonbinary))\n",
    "num_cols_binary = [_ for _ in num_cols if _ not in num_cols_nonbinary]\n",
    "print(len(num_cols_binary))"
   ]
  },
  {
   "cell_type": "code",
   "execution_count": 10,
   "metadata": {
    "ExecuteTime": {
     "end_time": "2025-10-29T01:20:00.852110Z",
     "start_time": "2025-10-29T01:20:00.711452Z"
    }
   },
   "outputs": [
    {
     "name": "stdout",
     "output_type": "stream",
     "text": [
      "Index([], dtype='object')\n"
     ]
    }
   ],
   "source": [
    "# 2.1 Check if all the numeric binary columns are either 0 or 1\n",
    "invalid_cols = df[num_cols_binary].columns[~df[num_cols_binary].isin([0,1]).all()]\n",
    "print(invalid_cols)\n",
    "# Looks good!"
   ]
  },
  {
   "cell_type": "code",
   "execution_count": 11,
   "metadata": {
    "ExecuteTime": {
     "end_time": "2025-10-29T01:20:00.892792Z",
     "start_time": "2025-10-29T01:20:00.853132Z"
    }
   },
   "outputs": [],
   "source": [
    "cat_cols = df.select_dtypes(include='object').columns.tolist()"
   ]
  },
  {
   "cell_type": "markdown",
   "metadata": {},
   "source": [
    "Unlike Logistic Regression and linear regression models, xgboost handles missing values and outliers natively."
   ]
  },
  {
   "cell_type": "markdown",
   "metadata": {},
   "source": [
    "**Note!** In real-life ML practice, we always use the **training data only** for imputation or outlier detection. We can not foresee the stats of future unseen data in practice, and using test data would cause data leakage.  \n",
    "In a Kaggle competition, however, we use train+test stats as it generally improves leaderboard score, but it won't generalize well outside the leaderboard.  \n",
    "This notebook is for data scientist interview prep, so we always stick to real-life practice. The stats from training data are stored in a dictionary and will be applied to test data later.\n",
    "\n",
    "\n",
    "\n",
    "\n",
    "# 3. Missing values in predictors\n",
    "\n",
    "**Tree-based models**, like XGBoost, can handle missing values and no need to inpute.  \n",
    "**Distance-based models**, linear Regression, SVM, KNN, Neural networks need imputation.\n",
    "\n"
   ]
  },
  {
   "cell_type": "markdown",
   "metadata": {},
   "source": [
    "# 4. Feature Engineering\n",
    "\n",
    "## 4.1 One-hot vector\n",
    "\n",
    "In real pipeline, we use SimpleImputer to avoid dataleakage."
   ]
  },
  {
   "cell_type": "markdown",
   "metadata": {},
   "source": [
    "# Modeling"
   ]
  },
  {
   "cell_type": "code",
   "execution_count": 12,
   "metadata": {
    "ExecuteTime": {
     "end_time": "2025-10-29T01:20:01.030519Z",
     "start_time": "2025-10-29T01:20:00.893807Z"
    }
   },
   "outputs": [],
   "source": [
    "# Prepare features\n",
    "\n",
    "Y = raw_data[\"TARGET\"]\n",
    "X_cols = [_ for _ in df.columns if _ not in [\"TARGET\", \"SK_ID_CURR\"]]\n",
    "X = df[X_cols]\n"
   ]
  },
  {
   "cell_type": "code",
   "execution_count": 13,
   "metadata": {
    "ExecuteTime": {
     "end_time": "2025-10-29T01:20:01.035243Z",
     "start_time": "2025-10-29T01:20:01.031800Z"
    }
   },
   "outputs": [],
   "source": [
    "# Other column transformers\n",
    "\n",
    "\n",
    "other_cat_cols_pipline = Pipeline([\n",
    "    (\"onehot\", OneHotEncoder(handle_unknown=\"ignore\", sparse_output=False))\n",
    "]\n",
    ")\n",
    "\n",
    "\n",
    "col_transformers = [\n",
    "    (\"other_cat\", other_cat_cols_pipline, cat_cols)\n",
    "    \n",
    "]\n",
    "\n",
    "preprocessor = ColumnTransformer(transformers= col_transformers, remainder=\"passthrough\" )#.set_output(transform=\"pandas\") \n"
   ]
  },
  {
   "cell_type": "code",
   "execution_count": 14,
   "metadata": {
    "ExecuteTime": {
     "end_time": "2025-10-29T01:20:02.605173Z",
     "start_time": "2025-10-29T01:20:01.037249Z"
    }
   },
   "outputs": [],
   "source": [
    "X_cleaned = preprocessor.fit_transform(X)"
   ]
  },
  {
   "cell_type": "code",
   "execution_count": 15,
   "metadata": {
    "ExecuteTime": {
     "end_time": "2025-10-29T01:20:03.371221Z",
     "start_time": "2025-10-29T01:20:02.606188Z"
    }
   },
   "outputs": [
    {
     "name": "stdout",
     "output_type": "stream",
     "text": [
      "scale_pos_weight: 11.387\n"
     ]
    }
   ],
   "source": [
    "X_train, X_test, y_train, y_test = train_test_split(\n",
    "    X_cleaned, Y, test_size=0.2, random_state=42, stratify=Y\n",
    ")\n",
    "\n",
    "# === 2) Class imbalance handling (on TRAIN only)\n",
    "pos = int(np.sum(y_train == 1))\n",
    "neg = int(np.sum(y_train == 0))\n",
    "spw = neg / max(pos, 1)\n",
    "print(\"scale_pos_weight:\", round(spw, 3))"
   ]
  },
  {
   "cell_type": "code",
   "execution_count": 16,
   "metadata": {
    "ExecuteTime": {
     "end_time": "2025-10-29T01:22:24.611112Z",
     "start_time": "2025-10-29T01:20:03.371726Z"
    }
   },
   "outputs": [
    {
     "name": "stdout",
     "output_type": "stream",
     "text": [
      "Fitting 3 folds for each of 2 candidates, totalling 6 fits\n"
     ]
    },
    {
     "name": "stderr",
     "output_type": "stream",
     "text": [
      "C:\\Users\\YXY6X3U\\github\\ml-ops-notes\\.venv\\Lib\\site-packages\\xgboost\\training.py:199: UserWarning: [21:22:11] WARNING: C:\\actions-runner\\_work\\xgboost\\xgboost\\src\\learner.cc:790: \n",
      "Parameters: { \"use_label_encoder\" } are not used.\n",
      "\n",
      "  bst.update(dtrain, iteration=i, fobj=obj)\n"
     ]
    },
    {
     "name": "stdout",
     "output_type": "stream",
     "text": [
      "Best AUC (CV): 0.7706159665998368\n",
      "Best params: {'subsample': 1.0, 'reg_lambda': 2, 'reg_alpha': 0, 'n_estimators': 300, 'min_child_weight': 3, 'max_depth': 4, 'learning_rate': 0.05, 'gamma': 0.3, 'colsample_bytree': 1.0}\n",
      "✅ Model saved to model/xgb_best_model.pkl\n",
      "✅ Metadata saved to model/xgb_best_model_meta.json\n"
     ]
    }
   ],
   "source": [
    "# === 3) Hyperparameter search (AUC)\n",
    "base = XGBClassifier(\n",
    "    objective=\"binary:logistic\",\n",
    "    # max_depth=6,\n",
    "    eval_metric=\"auc\",\n",
    "    # tree_method=\"hist\",\n",
    "    random_state=42,\n",
    "    # learning_rate=0.1,      # fixed\n",
    "    # subsample=0.8,          # fixed\n",
    "    # colsample_bytree=0.8,   # fixed\n",
    "    # min_child_weight=1,     # fixed\n",
    "    # gamma=0.0,              # fixed\n",
    "    # reg_alpha=0.0,          # fixed\n",
    "    # reg_lambda=1.0,         # fixed\n",
    "    use_label_encoder=False,\n",
    "    scale_pos_weight=spw,\n",
    ")\n",
    "\n",
    "\n",
    "# --- Your tuned search space ---\n",
    "param_dist = {\n",
    "    \"n_estimators\": [300, 800],\n",
    "    \"max_depth\": [4, 6, 8],\n",
    "    \"min_child_weight\": [1, 3, 5],\n",
    "    \"gamma\": [0, 0.3],\n",
    "    \"subsample\": [0.8, 1.0],\n",
    "    \"colsample_bytree\": [0.8, 1.0],\n",
    "    \"reg_alpha\": [0, 0.5],\n",
    "    \"reg_lambda\": [1, 2],\n",
    "    \"learning_rate\": [0.01, 0.05, 0.1],\n",
    "}\n",
    "\n",
    "cv = StratifiedKFold(n_splits=3, shuffle=True, random_state=42)\n",
    "search = RandomizedSearchCV(\n",
    "    estimator=base,\n",
    "    param_distributions=param_dist,\n",
    "    n_iter=2,\n",
    "    scoring=\"roc_auc\",\n",
    "    n_jobs=-1,\n",
    "    cv=cv,\n",
    "    verbose=1,\n",
    "    random_state=42,\n",
    "    refit=True     # refit on full TRAIN with best params \n",
    ")\n",
    "\n",
    "search.fit(X_train, y_train)\n",
    "print(\"Best AUC (CV):\", search.best_score_)\n",
    "print(\"Best params:\", search.best_params_)\n",
    "\n",
    "# Save the best model\n",
    "save_best_model(search, \"model/xgb_best_model.pkl\")\n"
   ]
  },
  {
   "cell_type": "code",
   "outputs": [
    {
     "name": "stdout",
     "output_type": "stream",
     "text": [
      "f1_score:  0.28440366972477066\n",
      "confusion matrix [[40746 15792]\n",
      " [ 1524  3441]]\n",
      "roc_auc_score:  0.7762919320239376\n"
     ]
    }
   ],
   "source": [
    "# Load model\n",
    "loaded_model = joblib.load(\"model/xgb_best_model.pkl\")\n",
    "y_pred = loaded_model.predict(X_test)\n",
    "y_pred_prob = loaded_model.predict_proba(X_test)[:, 1]\n",
    "\n",
    "# Print model performance\n",
    "model_performance(y_test, y_pred, y_pred_prob)"
   ],
   "metadata": {
    "collapsed": false,
    "ExecuteTime": {
     "end_time": "2025-10-29T01:22:24.901663Z",
     "start_time": "2025-10-29T01:22:24.612121Z"
    }
   },
   "execution_count": 17
  },
  {
   "cell_type": "code",
   "execution_count": 18,
   "metadata": {
    "ExecuteTime": {
     "end_time": "2025-10-29T01:22:25.241856Z",
     "start_time": "2025-10-29T01:22:24.903180Z"
    }
   },
   "outputs": [
    {
     "data": {
      "text/plain": "<Figure size 640x480 with 1 Axes>",
      "image/png": "[encoded data removed]"
     },
     "metadata": {},
     "output_type": "display_data"
    }
   ],
   "source": [
    "plot_importance(loaded_model, max_num_features=15)\n",
    "plt.show()"
   ]
  },
  {
   "cell_type": "markdown",
   "metadata": {},
   "source": [
    "The roc-auc score is fine but f1-score is low. One possible reason is the default threshold 0.5 didn't cutoff properly."
   ]
  },
  {
   "cell_type": "markdown",
   "metadata": {},
   "source": [
    "# Submit"
   ]
  },
  {
   "cell_type": "code",
   "execution_count": 21,
   "metadata": {
    "ExecuteTime": {
     "end_time": "2025-10-29T01:24:27.720414Z",
     "start_time": "2025-10-29T01:24:26.568931Z"
    }
   },
   "outputs": [],
   "source": [
    "test_data = pd.read_csv(\"data/application_test.csv\")\n",
    "\n",
    "test_data = test_data.merge(previous_applications, on=\"SK_ID_CURR\", how=\"left\", suffixes=[\"_main\", \"_previous_app\"])\n",
    "test_data = test_data.merge(bureau, on=\"SK_ID_CURR\", how=\"left\", suffixes=[\"_main\", \"_bureau\"])\n",
    "test_data = test_data.merge(pos_cash, on=\"SK_ID_CURR\", how=\"left\", suffixes=[\"_main\", \"_pos\"])\n",
    "test_data = test_data.merge(installment_pay, on=\"SK_ID_CURR\", how=\"left\", suffixes=[\"_main\", \"_repay\"])"
   ]
  },
  {
   "cell_type": "code",
   "execution_count": 22,
   "metadata": {
    "ExecuteTime": {
     "end_time": "2025-10-29T01:24:28.879227Z",
     "start_time": "2025-10-29T01:24:28.591017Z"
    }
   },
   "outputs": [],
   "source": [
    "test_df = test_data[[_ for _ in test_data.columns if _!= \"SK_ID_CURR\"]]\n",
    "test_df = preprocessor.transform(test_df)"
   ]
  },
  {
   "cell_type": "code",
   "execution_count": 23,
   "metadata": {
    "ExecuteTime": {
     "end_time": "2025-10-29T01:24:30.115068Z",
     "start_time": "2025-10-29T01:24:29.721818Z"
    }
   },
   "outputs": [],
   "source": [
    "test_y_pred = loaded_model.predict(test_df)\n",
    "test_y_pred_prob = loaded_model.predict_proba(test_df)[:, 1]\n",
    "\n",
    "\n",
    "final = pd.DataFrame(test_data[[\"SK_ID_CURR\"]])\n",
    "final[\"TARGET\"] = test_y_pred_prob\n",
    "\n",
    "final.to_csv(\"submission_xgboost.csv\", index=False, header=True)"
   ]
  },
  {
   "cell_type": "markdown",
   "metadata": {},
   "source": [
    "This version got a 0.76 AUC score."
   ]
  },
  {
   "cell_type": "code",
   "execution_count": null,
   "metadata": {
    "ExecuteTime": {
     "start_time": "2025-10-29T01:22:27.319360Z"
    }
   },
   "outputs": [],
   "source": []
  }
 ],
 "metadata": {
  "availableInstances": [
   {
    "_defaultOrder": 0,
    "_isFastLaunch": true,
    "category": "General purpose",
    "gpuNum": 0,
    "hideHardwareSpecs": false,
    "memoryGiB": 4,
    "name": "ml.t3.medium",
    "vcpuNum": 2
   },
   {
    "_defaultOrder": 1,
    "_isFastLaunch": false,
    "category": "General purpose",
    "gpuNum": 0,
    "hideHardwareSpecs": false,
    "memoryGiB": 8,
    "name": "ml.t3.large",
    "vcpuNum": 2
   },
   {
    "_defaultOrder": 2,
    "_isFastLaunch": false,
    "category": "General purpose",
    "gpuNum": 0,
    "hideHardwareSpecs": false,
    "memoryGiB": 16,
    "name": "ml.t3.xlarge",
    "vcpuNum": 4
   },
   {
    "_defaultOrder": 3,
    "_isFastLaunch": false,
    "category": "General purpose",
    "gpuNum": 0,
    "hideHardwareSpecs": false,
    "memoryGiB": 32,
    "name": "ml.t3.2xlarge",
    "vcpuNum": 8
   },
   {
    "_defaultOrder": 4,
    "_isFastLaunch": true,
    "category": "General purpose",
    "gpuNum": 0,
    "hideHardwareSpecs": false,
    "memoryGiB": 8,
    "name": "ml.m5.large",
    "vcpuNum": 2
   },
   {
    "_defaultOrder": 5,
    "_isFastLaunch": false,
    "category": "General purpose",
    "gpuNum": 0,
    "hideHardwareSpecs": false,
    "memoryGiB": 16,
    "name": "ml.m5.xlarge",
    "vcpuNum": 4
   },
   {
    "_defaultOrder": 6,
    "_isFastLaunch": false,
    "category": "General purpose",
    "gpuNum": 0,
    "hideHardwareSpecs": false,
    "memoryGiB": 32,
    "name": "ml.m5.2xlarge",
    "vcpuNum": 8
   },
   {
    "_defaultOrder": 7,
    "_isFastLaunch": false,
    "category": "General purpose",
    "gpuNum": 0,
    "hideHardwareSpecs": false,
    "memoryGiB": 64,
    "name": "ml.m5.4xlarge",
    "vcpuNum": 16
   },
   {
    "_defaultOrder": 8,
    "_isFastLaunch": false,
    "category": "General purpose",
    "gpuNum": 0,
    "hideHardwareSpecs": false,
    "memoryGiB": 128,
    "name": "ml.m5.8xlarge",
    "vcpuNum": 32
   },
   {
    "_defaultOrder": 9,
    "_isFastLaunch": false,
    "category": "General purpose",
    "gpuNum": 0,
    "hideHardwareSpecs": false,
    "memoryGiB": 192,
    "name": "ml.m5.12xlarge",
    "vcpuNum": 48
   },
   {
    "_defaultOrder": 10,
    "_isFastLaunch": false,
    "category": "General purpose",
    "gpuNum": 0,
    "hideHardwareSpecs": false,
    "memoryGiB": 256,
    "name": "ml.m5.16xlarge",
    "vcpuNum": 64
   },
   {
    "_defaultOrder": 11,
    "_isFastLaunch": false,
    "category": "General purpose",
    "gpuNum": 0,
    "hideHardwareSpecs": false,
    "memoryGiB": 384,
    "name": "ml.m5.24xlarge",
    "vcpuNum": 96
   },
   {
    "_defaultOrder": 12,
    "_isFastLaunch": false,
    "category": "General purpose",
    "gpuNum": 0,
    "hideHardwareSpecs": false,
    "memoryGiB": 8,
    "name": "ml.m5d.large",
    "vcpuNum": 2
   },
   {
    "_defaultOrder": 13,
    "_isFastLaunch": false,
    "category": "General purpose",
    "gpuNum": 0,
    "hideHardwareSpecs": false,
    "memoryGiB": 16,
    "name": "ml.m5d.xlarge",
    "vcpuNum": 4
   },
   {
    "_defaultOrder": 14,
    "_isFastLaunch": false,
    "category": "General purpose",
    "gpuNum": 0,
    "hideHardwareSpecs": false,
    "memoryGiB": 32,
    "name": "ml.m5d.2xlarge",
    "vcpuNum": 8
   },
   {
    "_defaultOrder": 15,
    "_isFastLaunch": false,
    "category": "General purpose",
    "gpuNum": 0,
    "hideHardwareSpecs": false,
    "memoryGiB": 64,
    "name": "ml.m5d.4xlarge",
    "vcpuNum": 16
   },
   {
    "_defaultOrder": 16,
    "_isFastLaunch": false,
    "category": "General purpose",
    "gpuNum": 0,
    "hideHardwareSpecs": false,
    "memoryGiB": 128,
    "name": "ml.m5d.8xlarge",
    "vcpuNum": 32
   },
   {
    "_defaultOrder": 17,
    "_isFastLaunch": false,
    "category": "General purpose",
    "gpuNum": 0,
    "hideHardwareSpecs": false,
    "memoryGiB": 192,
    "name": "ml.m5d.12xlarge",
    "vcpuNum": 48
   },
   {
    "_defaultOrder": 18,
    "_isFastLaunch": false,
    "category": "General purpose",
    "gpuNum": 0,
    "hideHardwareSpecs": false,
    "memoryGiB": 256,
    "name": "ml.m5d.16xlarge",
    "vcpuNum": 64
   },
   {
    "_defaultOrder": 19,
    "_isFastLaunch": false,
    "category": "General purpose",
    "gpuNum": 0,
    "hideHardwareSpecs": false,
    "memoryGiB": 384,
    "name": "ml.m5d.24xlarge",
    "vcpuNum": 96
   },
   {
    "_defaultOrder": 20,
    "_isFastLaunch": false,
    "category": "General purpose",
    "gpuNum": 0,
    "hideHardwareSpecs": true,
    "memoryGiB": 0,
    "name": "ml.geospatial.interactive",
    "supportedImageNames": [
     "sagemaker-geospatial-v1-0"
    ],
    "vcpuNum": 0
   },
   {
    "_defaultOrder": 21,
    "_isFastLaunch": true,
    "category": "Compute optimized",
    "gpuNum": 0,
    "hideHardwareSpecs": false,
    "memoryGiB": 4,
    "name": "ml.c5.large",
    "vcpuNum": 2
   },
   {
    "_defaultOrder": 22,
    "_isFastLaunch": false,
    "category": "Compute optimized",
    "gpuNum": 0,
    "hideHardwareSpecs": false,
    "memoryGiB": 8,
    "name": "ml.c5.xlarge",
    "vcpuNum": 4
   },
   {
    "_defaultOrder": 23,
    "_isFastLaunch": false,
    "category": "Compute optimized",
    "gpuNum": 0,
    "hideHardwareSpecs": false,
    "memoryGiB": 16,
    "name": "ml.c5.2xlarge",
    "vcpuNum": 8
   },
   {
    "_defaultOrder": 24,
    "_isFastLaunch": false,
    "category": "Compute optimized",
    "gpuNum": 0,
    "hideHardwareSpecs": false,
    "memoryGiB": 32,
    "name": "ml.c5.4xlarge",
    "vcpuNum": 16
   },
   {
    "_defaultOrder": 25,
    "_isFastLaunch": false,
    "category": "Compute optimized",
    "gpuNum": 0,
    "hideHardwareSpecs": false,
    "memoryGiB": 72,
    "name": "ml.c5.9xlarge",
    "vcpuNum": 36
   },
   {
    "_defaultOrder": 26,
    "_isFastLaunch": false,
    "category": "Compute optimized",
    "gpuNum": 0,
    "hideHardwareSpecs": false,
    "memoryGiB": 96,
    "name": "ml.c5.12xlarge",
    "vcpuNum": 48
   },
   {
    "_defaultOrder": 27,
    "_isFastLaunch": false,
    "category": "Compute optimized",
    "gpuNum": 0,
    "hideHardwareSpecs": false,
    "memoryGiB": 144,
    "name": "ml.c5.18xlarge",
    "vcpuNum": 72
   },
   {
    "_defaultOrder": 28,
    "_isFastLaunch": false,
    "category": "Compute optimized",
    "gpuNum": 0,
    "hideHardwareSpecs": false,
    "memoryGiB": 192,
    "name": "ml.c5.24xlarge",
    "vcpuNum": 96
   },
   {
    "_defaultOrder": 29,
    "_isFastLaunch": true,
    "category": "Accelerated computing",
    "gpuNum": 1,
    "hideHardwareSpecs": false,
    "memoryGiB": 16,
    "name": "ml.g4dn.xlarge",
    "vcpuNum": 4
   },
   {
    "_defaultOrder": 30,
    "_isFastLaunch": false,
    "category": "Accelerated computing",
    "gpuNum": 1,
    "hideHardwareSpecs": false,
    "memoryGiB": 32,
    "name": "ml.g4dn.2xlarge",
    "vcpuNum": 8
   },
   {
    "_defaultOrder": 31,
    "_isFastLaunch": false,
    "category": "Accelerated computing",
    "gpuNum": 1,
    "hideHardwareSpecs": false,
    "memoryGiB": 64,
    "name": "ml.g4dn.4xlarge",
    "vcpuNum": 16
   },
   {
    "_defaultOrder": 32,
    "_isFastLaunch": false,
    "category": "Accelerated computing",
    "gpuNum": 1,
    "hideHardwareSpecs": false,
    "memoryGiB": 128,
    "name": "ml.g4dn.8xlarge",
    "vcpuNum": 32
   },
   {
    "_defaultOrder": 33,
    "_isFastLaunch": false,
    "category": "Accelerated computing",
    "gpuNum": 4,
    "hideHardwareSpecs": false,
    "memoryGiB": 192,
    "name": "ml.g4dn.12xlarge",
    "vcpuNum": 48
   },
   {
    "_defaultOrder": 34,
    "_isFastLaunch": false,
    "category": "Accelerated computing",
    "gpuNum": 1,
    "hideHardwareSpecs": false,
    "memoryGiB": 256,
    "name": "ml.g4dn.16xlarge",
    "vcpuNum": 64
   },
   {
    "_defaultOrder": 35,
    "_isFastLaunch": false,
    "category": "Accelerated computing",
    "gpuNum": 1,
    "hideHardwareSpecs": false,
    "memoryGiB": 61,
    "name": "ml.p3.2xlarge",
    "vcpuNum": 8
   },
   {
    "_defaultOrder": 36,
    "_isFastLaunch": false,
    "category": "Accelerated computing",
    "gpuNum": 4,
    "hideHardwareSpecs": false,
    "memoryGiB": 244,
    "name": "ml.p3.8xlarge",
    "vcpuNum": 32
   },
   {
    "_defaultOrder": 37,
    "_isFastLaunch": false,
    "category": "Accelerated computing",
    "gpuNum": 8,
    "hideHardwareSpecs": false,
    "memoryGiB": 488,
    "name": "ml.p3.16xlarge",
    "vcpuNum": 64
   },
   {
    "_defaultOrder": 38,
    "_isFastLaunch": false,
    "category": "Accelerated computing",
    "gpuNum": 8,
    "hideHardwareSpecs": false,
    "memoryGiB": 768,
    "name": "ml.p3dn.24xlarge",
    "vcpuNum": 96
   },
   {
    "_defaultOrder": 39,
    "_isFastLaunch": false,
    "category": "Memory Optimized",
    "gpuNum": 0,
    "hideHardwareSpecs": false,
    "memoryGiB": 16,
    "name": "ml.r5.large",
    "vcpuNum": 2
   },
   {
    "_defaultOrder": 40,
    "_isFastLaunch": false,
    "category": "Memory Optimized",
    "gpuNum": 0,
    "hideHardwareSpecs": false,
    "memoryGiB": 32,
    "name": "ml.r5.xlarge",
    "vcpuNum": 4
   },
   {
    "_defaultOrder": 41,
    "_isFastLaunch": false,
    "category": "Memory Optimized",
    "gpuNum": 0,
    "hideHardwareSpecs": false,
    "memoryGiB": 64,
    "name": "ml.r5.2xlarge",
    "vcpuNum": 8
   },
   {
    "_defaultOrder": 42,
    "_isFastLaunch": false,
    "category": "Memory Optimized",
    "gpuNum": 0,
    "hideHardwareSpecs": false,
    "memoryGiB": 128,
    "name": "ml.r5.4xlarge",
    "vcpuNum": 16
   },
   {
    "_defaultOrder": 43,
    "_isFastLaunch": false,
    "category": "Memory Optimized",
    "gpuNum": 0,
    "hideHardwareSpecs": false,
    "memoryGiB": 256,
    "name": "ml.r5.8xlarge",
    "vcpuNum": 32
   },
   {
    "_defaultOrder": 44,
    "_isFastLaunch": false,
    "category": "Memory Optimized",
    "gpuNum": 0,
    "hideHardwareSpecs": false,
    "memoryGiB": 384,
    "name": "ml.r5.12xlarge",
    "vcpuNum": 48
   },
   {
    "_defaultOrder": 45,
    "_isFastLaunch": false,
    "category": "Memory Optimized",
    "gpuNum": 0,
    "hideHardwareSpecs": false,
    "memoryGiB": 512,
    "name": "ml.r5.16xlarge",
    "vcpuNum": 64
   },
   {
    "_defaultOrder": 46,
    "_isFastLaunch": false,
    "category": "Memory Optimized",
    "gpuNum": 0,
    "hideHardwareSpecs": false,
    "memoryGiB": 768,
    "name": "ml.r5.24xlarge",
    "vcpuNum": 96
   },
   {
    "_defaultOrder": 47,
    "_isFastLaunch": false,
    "category": "Accelerated computing",
    "gpuNum": 1,
    "hideHardwareSpecs": false,
    "memoryGiB": 16,
    "name": "ml.g5.xlarge",
    "vcpuNum": 4
   },
   {
    "_defaultOrder": 48,
    "_isFastLaunch": false,
    "category": "Accelerated computing",
    "gpuNum": 1,
    "hideHardwareSpecs": false,
    "memoryGiB": 32,
    "name": "ml.g5.2xlarge",
    "vcpuNum": 8
   },
   {
    "_defaultOrder": 49,
    "_isFastLaunch": false,
    "category": "Accelerated computing",
    "gpuNum": 1,
    "hideHardwareSpecs": false,
    "memoryGiB": 64,
    "name": "ml.g5.4xlarge",
    "vcpuNum": 16
   },
   {
    "_defaultOrder": 50,
    "_isFastLaunch": false,
    "category": "Accelerated computing",
    "gpuNum": 1,
    "hideHardwareSpecs": false,
    "memoryGiB": 128,
    "name": "ml.g5.8xlarge",
    "vcpuNum": 32
   },
   {
    "_defaultOrder": 51,
    "_isFastLaunch": false,
    "category": "Accelerated computing",
    "gpuNum": 1,
    "hideHardwareSpecs": false,
    "memoryGiB": 256,
    "name": "ml.g5.16xlarge",
    "vcpuNum": 64
   },
   {
    "_defaultOrder": 52,
    "_isFastLaunch": false,
    "category": "Accelerated computing",
    "gpuNum": 4,
    "hideHardwareSpecs": false,
    "memoryGiB": 192,
    "name": "ml.g5.12xlarge",
    "vcpuNum": 48
   },
   {
    "_defaultOrder": 53,
    "_isFastLaunch": false,
    "category": "Accelerated computing",
    "gpuNum": 4,
    "hideHardwareSpecs": false,
    "memoryGiB": 384,
    "name": "ml.g5.24xlarge",
    "vcpuNum": 96
   },
   {
    "_defaultOrder": 54,
    "_isFastLaunch": false,
    "category": "Accelerated computing",
    "gpuNum": 8,
    "hideHardwareSpecs": false,
    "memoryGiB": 768,
    "name": "ml.g5.48xlarge",
    "vcpuNum": 192
   },
   {
    "_defaultOrder": 55,
    "_isFastLaunch": false,
    "category": "Accelerated computing",
    "gpuNum": 8,
    "hideHardwareSpecs": false,
    "memoryGiB": 1152,
    "name": "ml.p4d.24xlarge",
    "vcpuNum": 96
   },
   {
    "_defaultOrder": 56,
    "_isFastLaunch": false,
    "category": "Accelerated computing",
    "gpuNum": 8,
    "hideHardwareSpecs": false,
    "memoryGiB": 1152,
    "name": "ml.p4de.24xlarge",
    "vcpuNum": 96
   },
   {
    "_defaultOrder": 57,
    "_isFastLaunch": false,
    "category": "Accelerated computing",
    "gpuNum": 0,
    "hideHardwareSpecs": false,
    "memoryGiB": 32,
    "name": "ml.trn1.2xlarge",
    "vcpuNum": 8
   },
   {
    "_defaultOrder": 58,
    "_isFastLaunch": false,
    "category": "Accelerated computing",
    "gpuNum": 0,
    "hideHardwareSpecs": false,
    "memoryGiB": 512,
    "name": "ml.trn1.32xlarge",
    "vcpuNum": 128
   },
   {
    "_defaultOrder": 59,
    "_isFastLaunch": false,
    "category": "Accelerated computing",
    "gpuNum": 0,
    "hideHardwareSpecs": false,
    "memoryGiB": 512,
    "name": "ml.trn1n.32xlarge",
    "vcpuNum": 128
   }
  ],
  "instance_type": "ml.m5.2xlarge",
  "kernelspec": {
   "display_name": "Python 3 (ipykernel)",
   "language": "python",
   "name": "python3"
  },
  "language_info": {
   "codemirror_mode": {
    "name": "ipython",
    "version": 3
   },
   "file_extension": ".py",
   "mimetype": "text/x-python",
   "name": "python",
   "nbconvert_exporter": "python",
   "pygments_lexer": "ipython3",
   "version": "3.11.8"
  }
 },
 "nbformat": 4,
 "nbformat_minor": 4
}
