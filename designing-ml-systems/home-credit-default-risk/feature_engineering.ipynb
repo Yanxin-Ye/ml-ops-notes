{
 "cells": [
  {
   "cell_type": "markdown",
   "id": "85fd3687-6bf4-4507-b063-12afb59b8f5a",
   "metadata": {},
   "source": [
    "# Data preprocessing"
   ]
  },
  {
   "cell_type": "code",
   "execution_count": 1,
   "id": "908a1b69-ee0a-4aa3-9959-25da2d9bd39d",
   "metadata": {
    "ExecuteTime": {
     "end_time": "2025-10-29T01:16:04.730347Z",
     "start_time": "2025-10-29T01:16:02.816205Z"
    }
   },
   "outputs": [],
   "source": [
    "import pandas as pd\n",
    "import numpy as np\n",
    "from utils import check_missing_col_coverage"
   ]
  },
  {
   "cell_type": "code",
   "execution_count": 2,
   "id": "edfb4b6e-276e-493d-a70f-168d2efee089",
   "metadata": {
    "ExecuteTime": {
     "end_time": "2025-10-29T01:16:04.734457Z",
     "start_time": "2025-10-29T01:16:04.731420Z"
    }
   },
   "outputs": [],
   "source": [
    "key = \"SK_ID_CURR\""
   ]
  },
  {
   "cell_type": "markdown",
   "id": "1c0eaee5-4684-4c58-82c3-fb4994b0db4c",
   "metadata": {},
   "source": [
    "## 1. Presious application"
   ]
  },
  {
   "cell_type": "code",
   "execution_count": 3,
   "id": "4e71f54d-3309-4637-8450-7b7cde6009de",
   "metadata": {
    "ExecuteTime": {
     "end_time": "2025-10-29T01:16:09.362942Z",
     "start_time": "2025-10-29T01:16:04.735462Z"
    }
   },
   "outputs": [
    {
     "data": {
      "text/plain": "   SK_ID_PREV  SK_ID_CURR NAME_CONTRACT_TYPE  AMT_ANNUITY  AMT_APPLICATION  \\\n0     2030495      271877     Consumer loans     1730.430          17145.0   \n1     2802425      108129         Cash loans    25188.615         607500.0   \n2     2523466      122040         Cash loans    15060.735         112500.0   \n3     2819243      176158         Cash loans    47041.335         450000.0   \n4     1784265      202054         Cash loans    31924.395         337500.0   \n\n   AMT_CREDIT  AMT_DOWN_PAYMENT  AMT_GOODS_PRICE WEEKDAY_APPR_PROCESS_START  \\\n0     17145.0               0.0          17145.0                   SATURDAY   \n1    679671.0               NaN         607500.0                   THURSDAY   \n2    136444.5               NaN         112500.0                    TUESDAY   \n3    470790.0               NaN         450000.0                     MONDAY   \n4    404055.0               NaN         337500.0                   THURSDAY   \n\n   HOUR_APPR_PROCESS_START  ... NAME_SELLER_INDUSTRY  CNT_PAYMENT  \\\n0                       15  ...         Connectivity         12.0   \n1                       11  ...                  XNA         36.0   \n2                       11  ...                  XNA         12.0   \n3                        7  ...                  XNA         12.0   \n4                        9  ...                  XNA         24.0   \n\n   NAME_YIELD_GROUP       PRODUCT_COMBINATION  DAYS_FIRST_DRAWING  \\\n0            middle  POS mobile with interest            365243.0   \n1        low_action          Cash X-Sell: low            365243.0   \n2              high         Cash X-Sell: high            365243.0   \n3            middle       Cash X-Sell: middle            365243.0   \n4              high         Cash Street: high                 NaN   \n\n  DAYS_FIRST_DUE DAYS_LAST_DUE_1ST_VERSION  DAYS_LAST_DUE DAYS_TERMINATION  \\\n0          -42.0                     300.0          -42.0            -37.0   \n1         -134.0                     916.0       365243.0         365243.0   \n2         -271.0                      59.0       365243.0         365243.0   \n3         -482.0                    -152.0         -182.0           -177.0   \n4            NaN                       NaN            NaN              NaN   \n\n  NFLAG_INSURED_ON_APPROVAL  \n0                       0.0  \n1                       1.0  \n2                       1.0  \n3                       1.0  \n4                       NaN  \n\n[5 rows x 37 columns]",
      "text/html": "<div>\n<style scoped>\n    .dataframe tbody tr th:only-of-type {\n        vertical-align: middle;\n    }\n\n    .dataframe tbody tr th {\n        vertical-align: top;\n    }\n\n    .dataframe thead th {\n        text-align: right;\n    }\n</style>\n<table border=\"1\" class=\"dataframe\">\n  <thead>\n    <tr style=\"text-align: right;\">\n      <th></th>\n      <th>SK_ID_PREV</th>\n      <th>SK_ID_CURR</th>\n      <th>NAME_CONTRACT_TYPE</th>\n      <th>AMT_ANNUITY</th>\n      <th>AMT_APPLICATION</th>\n      <th>AMT_CREDIT</th>\n      <th>AMT_DOWN_PAYMENT</th>\n      <th>AMT_GOODS_PRICE</th>\n      <th>WEEKDAY_APPR_PROCESS_START</th>\n      <th>HOUR_APPR_PROCESS_START</th>\n      <th>...</th>\n      <th>NAME_SELLER_INDUSTRY</th>\n      <th>CNT_PAYMENT</th>\n      <th>NAME_YIELD_GROUP</th>\n      <th>PRODUCT_COMBINATION</th>\n      <th>DAYS_FIRST_DRAWING</th>\n      <th>DAYS_FIRST_DUE</th>\n      <th>DAYS_LAST_DUE_1ST_VERSION</th>\n      <th>DAYS_LAST_DUE</th>\n      <th>DAYS_TERMINATION</th>\n      <th>NFLAG_INSURED_ON_APPROVAL</th>\n    </tr>\n  </thead>\n  <tbody>\n    <tr>\n      <th>0</th>\n      <td>2030495</td>\n      <td>271877</td>\n      <td>Consumer loans</td>\n      <td>1730.430</td>\n      <td>17145.0</td>\n      <td>17145.0</td>\n      <td>0.0</td>\n      <td>17145.0</td>\n      <td>SATURDAY</td>\n      <td>15</td>\n      <td>...</td>\n      <td>Connectivity</td>\n      <td>12.0</td>\n      <td>middle</td>\n      <td>POS mobile with interest</td>\n      <td>365243.0</td>\n      <td>-42.0</td>\n      <td>300.0</td>\n      <td>-42.0</td>\n      <td>-37.0</td>\n      <td>0.0</td>\n    </tr>\n    <tr>\n      <th>1</th>\n      <td>2802425</td>\n      <td>108129</td>\n      <td>Cash loans</td>\n      <td>25188.615</td>\n      <td>607500.0</td>\n      <td>679671.0</td>\n      <td>NaN</td>\n      <td>607500.0</td>\n      <td>THURSDAY</td>\n      <td>11</td>\n      <td>...</td>\n      <td>XNA</td>\n      <td>36.0</td>\n      <td>low_action</td>\n      <td>Cash X-Sell: low</td>\n      <td>365243.0</td>\n      <td>-134.0</td>\n      <td>916.0</td>\n      <td>365243.0</td>\n      <td>365243.0</td>\n      <td>1.0</td>\n    </tr>\n    <tr>\n      <th>2</th>\n      <td>2523466</td>\n      <td>122040</td>\n      <td>Cash loans</td>\n      <td>15060.735</td>\n      <td>112500.0</td>\n      <td>136444.5</td>\n      <td>NaN</td>\n      <td>112500.0</td>\n      <td>TUESDAY</td>\n      <td>11</td>\n      <td>...</td>\n      <td>XNA</td>\n      <td>12.0</td>\n      <td>high</td>\n      <td>Cash X-Sell: high</td>\n      <td>365243.0</td>\n      <td>-271.0</td>\n      <td>59.0</td>\n      <td>365243.0</td>\n      <td>365243.0</td>\n      <td>1.0</td>\n    </tr>\n    <tr>\n      <th>3</th>\n      <td>2819243</td>\n      <td>176158</td>\n      <td>Cash loans</td>\n      <td>47041.335</td>\n      <td>450000.0</td>\n      <td>470790.0</td>\n      <td>NaN</td>\n      <td>450000.0</td>\n      <td>MONDAY</td>\n      <td>7</td>\n      <td>...</td>\n      <td>XNA</td>\n      <td>12.0</td>\n      <td>middle</td>\n      <td>Cash X-Sell: middle</td>\n      <td>365243.0</td>\n      <td>-482.0</td>\n      <td>-152.0</td>\n      <td>-182.0</td>\n      <td>-177.0</td>\n      <td>1.0</td>\n    </tr>\n    <tr>\n      <th>4</th>\n      <td>1784265</td>\n      <td>202054</td>\n      <td>Cash loans</td>\n      <td>31924.395</td>\n      <td>337500.0</td>\n      <td>404055.0</td>\n      <td>NaN</td>\n      <td>337500.0</td>\n      <td>THURSDAY</td>\n      <td>9</td>\n      <td>...</td>\n      <td>XNA</td>\n      <td>24.0</td>\n      <td>high</td>\n      <td>Cash Street: high</td>\n      <td>NaN</td>\n      <td>NaN</td>\n      <td>NaN</td>\n      <td>NaN</td>\n      <td>NaN</td>\n      <td>NaN</td>\n    </tr>\n  </tbody>\n</table>\n<p>5 rows × 37 columns</p>\n</div>"
     },
     "execution_count": 3,
     "metadata": {},
     "output_type": "execute_result"
    }
   ],
   "source": [
    "prev_app = pd.read_csv(\"data/previous_application.csv\")\n",
    "\n",
    "prev_app.head()"
   ]
  },
  {
   "cell_type": "code",
   "execution_count": 4,
   "id": "97b9a6a6-32e9-42ae-bc57-962a01732273",
   "metadata": {
    "ExecuteTime": {
     "end_time": "2025-10-29T01:16:09.434790Z",
     "start_time": "2025-10-29T01:16:09.364013Z"
    }
   },
   "outputs": [
    {
     "data": {
      "text/plain": "NAME_CONTRACT_STATUS\nApproved        1036781\nCanceled         316319\nRefused          290678\nUnused offer      26436\nName: count, dtype: int64"
     },
     "execution_count": 4,
     "metadata": {},
     "output_type": "execute_result"
    }
   ],
   "source": [
    "prev_app[\"NAME_CONTRACT_STATUS\"].value_counts()"
   ]
  },
  {
   "cell_type": "code",
   "execution_count": 5,
   "id": "5b353828-4797-492b-9ae8-0b3146401fb3",
   "metadata": {
    "ExecuteTime": {
     "end_time": "2025-10-29T01:16:09.447957Z",
     "start_time": "2025-10-29T01:16:09.435889Z"
    }
   },
   "outputs": [],
   "source": [
    "# AMT_ACCEPT_RATE: credit get compared to the amount the client applied\n",
    "prev_app['AMT_ACCEPT_RATE'] = prev_app['AMT_CREDIT']/prev_app['AMT_APPLICATION']"
   ]
  },
  {
   "cell_type": "code",
   "execution_count": 6,
   "id": "9788309e-4a5b-41d5-aad9-e4b66a78ea5e",
   "metadata": {
    "ExecuteTime": {
     "end_time": "2025-10-29T01:16:13.399080Z",
     "start_time": "2025-10-29T01:16:09.447957Z"
    }
   },
   "outputs": [],
   "source": [
    "prev_app_agg = {\n",
    "    \"NAME_CONTRACT_STATUS\": [\"count\"],\n",
    "    \"AMT_ANNUITY\": [\"sum\", \"mean\"],\n",
    "    \"AMT_APPLICATION\": [\"sum\", \"mean\"]    \n",
    "}\n",
    "\n",
    "prev_app_status = prev_app[[\"NAME_CONTRACT_STATUS\", \"SK_ID_CURR\", \"SK_ID_PREV\", \"AMT_ANNUITY\", \"AMT_APPLICATION\"]].groupby([\"SK_ID_CURR\",\"NAME_CONTRACT_STATUS\"]).agg(prev_app_agg).reset_index()\n",
    "\n",
    "prev_app_status.columns = [\n",
    "    f\"{col[0]}_{col[1].upper()}\" if col[1] else col[0].upper()\n",
    "    for col in prev_app_status.columns\n",
    "]\n",
    "\n",
    "\n",
    "pre_app_agg = prev_app_status.pivot_table(\n",
    "        index=\"SK_ID_CURR\",\n",
    "        columns=\"NAME_CONTRACT_STATUS\",\n",
    "        values=[\"NAME_CONTRACT_STATUS_COUNT\", \"AMT_ANNUITY_SUM\", \"AMT_ANNUITY_MEAN\", \"AMT_APPLICATION_SUM\", \"AMT_APPLICATION_MEAN\"],\n",
    "        aggfunc=\"sum\",     # combine if there are duplicates\n",
    "        fill_value=0       # fill missing with 0\n",
    "    ).reset_index()\n",
    "\n",
    "pre_app_agg.columns = [\n",
    "    f\"{col[0]}_{col[1].upper()}\" if col[1] else col[0].upper()\n",
    "    for col in pre_app_agg.columns\n",
    "]\n",
    "\n",
    "# Save data to /etl folder\n",
    "pre_app_agg.to_csv(\"etl/previous_applications_agg.csv\", header=True, index=False)"
   ]
  },
  {
   "cell_type": "markdown",
   "id": "55d3a32c-e0e6-4535-9e9a-9a036867cdb4",
   "metadata": {},
   "source": [
    "## 2. Bureau"
   ]
  },
  {
   "cell_type": "code",
   "execution_count": 7,
   "id": "145c3752-f869-4076-9e6a-5f4db95fd65e",
   "metadata": {
    "ExecuteTime": {
     "end_time": "2025-10-29T01:16:15.061458Z",
     "start_time": "2025-10-29T01:16:13.400095Z"
    }
   },
   "outputs": [
    {
     "data": {
      "text/plain": "   SK_ID_CURR  SK_ID_BUREAU CREDIT_ACTIVE CREDIT_CURRENCY  DAYS_CREDIT  \\\n0      215354       5714462        Closed      currency 1         -497   \n1      215354       5714463        Active      currency 1         -208   \n2      215354       5714464        Active      currency 1         -203   \n3      215354       5714465        Active      currency 1         -203   \n4      215354       5714466        Active      currency 1         -629   \n\n   CREDIT_DAY_OVERDUE  DAYS_CREDIT_ENDDATE  DAYS_ENDDATE_FACT  \\\n0                   0               -153.0             -153.0   \n1                   0               1075.0                NaN   \n2                   0                528.0                NaN   \n3                   0                  NaN                NaN   \n4                   0               1197.0                NaN   \n\n   AMT_CREDIT_MAX_OVERDUE  CNT_CREDIT_PROLONG  AMT_CREDIT_SUM  \\\n0                     NaN                   0         91323.0   \n1                     NaN                   0        225000.0   \n2                     NaN                   0        464323.5   \n3                     NaN                   0         90000.0   \n4                 77674.5                   0       2700000.0   \n\n   AMT_CREDIT_SUM_DEBT  AMT_CREDIT_SUM_LIMIT  AMT_CREDIT_SUM_OVERDUE  \\\n0                  0.0                   NaN                     0.0   \n1             171342.0                   NaN                     0.0   \n2                  NaN                   NaN                     0.0   \n3                  NaN                   NaN                     0.0   \n4                  NaN                   NaN                     0.0   \n\n       CREDIT_TYPE  DAYS_CREDIT_UPDATE  AMT_ANNUITY  \n0  Consumer credit                -131          NaN  \n1      Credit card                 -20          NaN  \n2  Consumer credit                 -16          NaN  \n3      Credit card                 -16          NaN  \n4  Consumer credit                 -21          NaN  ",
      "text/html": "<div>\n<style scoped>\n    .dataframe tbody tr th:only-of-type {\n        vertical-align: middle;\n    }\n\n    .dataframe tbody tr th {\n        vertical-align: top;\n    }\n\n    .dataframe thead th {\n        text-align: right;\n    }\n</style>\n<table border=\"1\" class=\"dataframe\">\n  <thead>\n    <tr style=\"text-align: right;\">\n      <th></th>\n      <th>SK_ID_CURR</th>\n      <th>SK_ID_BUREAU</th>\n      <th>CREDIT_ACTIVE</th>\n      <th>CREDIT_CURRENCY</th>\n      <th>DAYS_CREDIT</th>\n      <th>CREDIT_DAY_OVERDUE</th>\n      <th>DAYS_CREDIT_ENDDATE</th>\n      <th>DAYS_ENDDATE_FACT</th>\n      <th>AMT_CREDIT_MAX_OVERDUE</th>\n      <th>CNT_CREDIT_PROLONG</th>\n      <th>AMT_CREDIT_SUM</th>\n      <th>AMT_CREDIT_SUM_DEBT</th>\n      <th>AMT_CREDIT_SUM_LIMIT</th>\n      <th>AMT_CREDIT_SUM_OVERDUE</th>\n      <th>CREDIT_TYPE</th>\n      <th>DAYS_CREDIT_UPDATE</th>\n      <th>AMT_ANNUITY</th>\n    </tr>\n  </thead>\n  <tbody>\n    <tr>\n      <th>0</th>\n      <td>215354</td>\n      <td>5714462</td>\n      <td>Closed</td>\n      <td>currency 1</td>\n      <td>-497</td>\n      <td>0</td>\n      <td>-153.0</td>\n      <td>-153.0</td>\n      <td>NaN</td>\n      <td>0</td>\n      <td>91323.0</td>\n      <td>0.0</td>\n      <td>NaN</td>\n      <td>0.0</td>\n      <td>Consumer credit</td>\n      <td>-131</td>\n      <td>NaN</td>\n    </tr>\n    <tr>\n      <th>1</th>\n      <td>215354</td>\n      <td>5714463</td>\n      <td>Active</td>\n      <td>currency 1</td>\n      <td>-208</td>\n      <td>0</td>\n      <td>1075.0</td>\n      <td>NaN</td>\n      <td>NaN</td>\n      <td>0</td>\n      <td>225000.0</td>\n      <td>171342.0</td>\n      <td>NaN</td>\n      <td>0.0</td>\n      <td>Credit card</td>\n      <td>-20</td>\n      <td>NaN</td>\n    </tr>\n    <tr>\n      <th>2</th>\n      <td>215354</td>\n      <td>5714464</td>\n      <td>Active</td>\n      <td>currency 1</td>\n      <td>-203</td>\n      <td>0</td>\n      <td>528.0</td>\n      <td>NaN</td>\n      <td>NaN</td>\n      <td>0</td>\n      <td>464323.5</td>\n      <td>NaN</td>\n      <td>NaN</td>\n      <td>0.0</td>\n      <td>Consumer credit</td>\n      <td>-16</td>\n      <td>NaN</td>\n    </tr>\n    <tr>\n      <th>3</th>\n      <td>215354</td>\n      <td>5714465</td>\n      <td>Active</td>\n      <td>currency 1</td>\n      <td>-203</td>\n      <td>0</td>\n      <td>NaN</td>\n      <td>NaN</td>\n      <td>NaN</td>\n      <td>0</td>\n      <td>90000.0</td>\n      <td>NaN</td>\n      <td>NaN</td>\n      <td>0.0</td>\n      <td>Credit card</td>\n      <td>-16</td>\n      <td>NaN</td>\n    </tr>\n    <tr>\n      <th>4</th>\n      <td>215354</td>\n      <td>5714466</td>\n      <td>Active</td>\n      <td>currency 1</td>\n      <td>-629</td>\n      <td>0</td>\n      <td>1197.0</td>\n      <td>NaN</td>\n      <td>77674.5</td>\n      <td>0</td>\n      <td>2700000.0</td>\n      <td>NaN</td>\n      <td>NaN</td>\n      <td>0.0</td>\n      <td>Consumer credit</td>\n      <td>-21</td>\n      <td>NaN</td>\n    </tr>\n  </tbody>\n</table>\n</div>"
     },
     "execution_count": 7,
     "metadata": {},
     "output_type": "execute_result"
    }
   ],
   "source": [
    "bu = pd.read_csv(\"data/bureau.csv\")\n",
    "bu.head()"
   ]
  },
  {
   "cell_type": "code",
   "execution_count": 8,
   "id": "97f3b3a4-d6cc-449a-b7d3-bf0a4c883811",
   "metadata": {
    "ExecuteTime": {
     "end_time": "2025-10-29T01:16:15.130449Z",
     "start_time": "2025-10-29T01:16:15.062519Z"
    }
   },
   "outputs": [
    {
     "data": {
      "text/plain": "CREDIT_ACTIVE\nClosed      1079273\nActive       630607\nSold           6527\nBad debt         21\nName: count, dtype: int64"
     },
     "execution_count": 8,
     "metadata": {},
     "output_type": "execute_result"
    }
   ],
   "source": [
    "bu.CREDIT_ACTIVE.value_counts()"
   ]
  },
  {
   "cell_type": "code",
   "execution_count": 9,
   "id": "48bc5148-abc6-4e91-8be3-bafffd07b29e",
   "metadata": {
    "ExecuteTime": {
     "end_time": "2025-10-29T01:16:21.457255Z",
     "start_time": "2025-10-29T01:16:15.131524Z"
    }
   },
   "outputs": [],
   "source": [
    "bu_app_agg = {\n",
    "    \"DAYS_CREDIT\": [\"min\", \"max\", \"mean\"],\n",
    "    \"AMT_CREDIT_MAX_OVERDUE\": [\"max\"],\n",
    "    \"AMT_CREDIT_SUM\": [\"sum\", \"mean\"],\n",
    "    \"AMT_CREDIT_SUM_OVERDUE\": [\"min\", \"max\", \"mean\"],\n",
    "    \"AMT_ANNUITY\": [\"sum\", \"mean\"]\n",
    "}\n",
    "\n",
    "bu_status = bu.groupby([\"SK_ID_CURR\",\"CREDIT_ACTIVE\"])[[\"DAYS_CREDIT\", \"AMT_CREDIT_MAX_OVERDUE\", \"AMT_CREDIT_SUM\", \"AMT_CREDIT_SUM_OVERDUE\", \"AMT_ANNUITY\"]].agg(bu_app_agg).reset_index()\n",
    "\n",
    "bu_status.columns = [\n",
    "    f\"{col[0]}_{col[1].upper()}\" if col[1] else col[0].upper()\n",
    "    for col in bu_status.columns\n",
    "]\n",
    "\n",
    "bu_agg = bu_status.pivot_table(\n",
    "        index=\"SK_ID_CURR\",\n",
    "        columns=\"CREDIT_ACTIVE\",\n",
    "        values=['DAYS_CREDIT_MIN', 'DAYS_CREDIT_MAX',\n",
    "       'DAYS_CREDIT_MEAN', 'AMT_CREDIT_MAX_OVERDUE_MAX', 'AMT_CREDIT_SUM_SUM',\n",
    "       'AMT_CREDIT_SUM_MEAN', 'AMT_CREDIT_SUM_OVERDUE_MIN',\n",
    "       'AMT_CREDIT_SUM_OVERDUE_MAX', 'AMT_CREDIT_SUM_OVERDUE_MEAN',\n",
    "       'AMT_ANNUITY_SUM', 'AMT_ANNUITY_MEAN'],\n",
    "        aggfunc=\"sum\",     # combine if there are duplicates\n",
    "        fill_value=0       # fill missing with 0\n",
    "    ).reset_index()\n",
    "\n",
    "bu_agg.columns = [\n",
    "    f\"{col[0]}_{col[1].upper()}\" if col[1] else col[0].upper()\n",
    "    for col in bu_agg.columns\n",
    "]\n",
    "\n",
    "\n",
    "# Save data to /etl folder\n",
    "bu_agg.to_csv(\"etl/bureau_agg.csv\", header=True, index=False)\n"
   ]
  },
  {
   "cell_type": "markdown",
   "source": [
    "## 3 Bureau Balance"
   ],
   "metadata": {
    "collapsed": false
   },
   "id": "d22f7807a4867f18"
  },
  {
   "cell_type": "markdown",
   "source": [
    "## 4 POS_CASH"
   ],
   "metadata": {
    "collapsed": false
   },
   "id": "3408c9ee3a0eb142"
  },
  {
   "cell_type": "code",
   "outputs": [
    {
     "data": {
      "text/plain": "   SK_ID_PREV  SK_ID_CURR  MONTHS_BALANCE  CNT_INSTALMENT  \\\n0     1803195      182943             -31            48.0   \n1     1715348      367990             -33            36.0   \n2     1784872      397406             -32            12.0   \n3     1903291      269225             -35            48.0   \n4     2341044      334279             -35            36.0   \n\n   CNT_INSTALMENT_FUTURE NAME_CONTRACT_STATUS  SK_DPD  SK_DPD_DEF  \n0                   45.0               Active       0           0  \n1                   35.0               Active       0           0  \n2                    9.0               Active       0           0  \n3                   42.0               Active       0           0  \n4                   35.0               Active       0           0  ",
      "text/html": "<div>\n<style scoped>\n    .dataframe tbody tr th:only-of-type {\n        vertical-align: middle;\n    }\n\n    .dataframe tbody tr th {\n        vertical-align: top;\n    }\n\n    .dataframe thead th {\n        text-align: right;\n    }\n</style>\n<table border=\"1\" class=\"dataframe\">\n  <thead>\n    <tr style=\"text-align: right;\">\n      <th></th>\n      <th>SK_ID_PREV</th>\n      <th>SK_ID_CURR</th>\n      <th>MONTHS_BALANCE</th>\n      <th>CNT_INSTALMENT</th>\n      <th>CNT_INSTALMENT_FUTURE</th>\n      <th>NAME_CONTRACT_STATUS</th>\n      <th>SK_DPD</th>\n      <th>SK_DPD_DEF</th>\n    </tr>\n  </thead>\n  <tbody>\n    <tr>\n      <th>0</th>\n      <td>1803195</td>\n      <td>182943</td>\n      <td>-31</td>\n      <td>48.0</td>\n      <td>45.0</td>\n      <td>Active</td>\n      <td>0</td>\n      <td>0</td>\n    </tr>\n    <tr>\n      <th>1</th>\n      <td>1715348</td>\n      <td>367990</td>\n      <td>-33</td>\n      <td>36.0</td>\n      <td>35.0</td>\n      <td>Active</td>\n      <td>0</td>\n      <td>0</td>\n    </tr>\n    <tr>\n      <th>2</th>\n      <td>1784872</td>\n      <td>397406</td>\n      <td>-32</td>\n      <td>12.0</td>\n      <td>9.0</td>\n      <td>Active</td>\n      <td>0</td>\n      <td>0</td>\n    </tr>\n    <tr>\n      <th>3</th>\n      <td>1903291</td>\n      <td>269225</td>\n      <td>-35</td>\n      <td>48.0</td>\n      <td>42.0</td>\n      <td>Active</td>\n      <td>0</td>\n      <td>0</td>\n    </tr>\n    <tr>\n      <th>4</th>\n      <td>2341044</td>\n      <td>334279</td>\n      <td>-35</td>\n      <td>36.0</td>\n      <td>35.0</td>\n      <td>Active</td>\n      <td>0</td>\n      <td>0</td>\n    </tr>\n  </tbody>\n</table>\n</div>"
     },
     "execution_count": 10,
     "metadata": {},
     "output_type": "execute_result"
    }
   ],
   "source": [
    "pos = pd.read_csv('data/POS_CASH_balance.csv')\n",
    "pos.head()"
   ],
   "metadata": {
    "collapsed": false,
    "ExecuteTime": {
     "end_time": "2025-10-29T01:16:25.175720Z",
     "start_time": "2025-10-29T01:16:21.458324Z"
    }
   },
   "id": "2babe0477b2a49e5",
   "execution_count": 10
  },
  {
   "cell_type": "code",
   "outputs": [
    {
     "data": {
      "text/plain": "CNT_INSTALMENT           0.260675\nCNT_INSTALMENT_FUTURE    0.260835\ndtype: float64"
     },
     "execution_count": 11,
     "metadata": {},
     "output_type": "execute_result"
    }
   ],
   "source": [
    "# Check missing vals\n",
    "check_missing_col_coverage(pos)"
   ],
   "metadata": {
    "collapsed": false,
    "ExecuteTime": {
     "end_time": "2025-10-29T01:16:25.525761Z",
     "start_time": "2025-10-29T01:16:25.176803Z"
    }
   },
   "id": "64b88265868ec1b8",
   "execution_count": 11
  },
  {
   "cell_type": "code",
   "outputs": [],
   "source": [
    "pos_aggmethod={'MONTHS_BALANCE':['min', 'max', 'count', 'mean'],\n",
    "               'CNT_INSTALMENT':['min', 'max', 'mean'],\n",
    "               'CNT_INSTALMENT_FUTURE':['min', 'max', 'mean'],\n",
    "               'SK_DPD':['min', 'max', 'mean','sum'],\n",
    "               'SK_DPD_DEF':['min', 'max', 'mean','sum']}\n",
    "\n",
    "pos_agg = pos.groupby([\"SK_ID_CURR\", \"NAME_CONTRACT_STATUS\"]).agg(pos_aggmethod).reset_index()\n",
    "pos_agg.columns = [\n",
    "    f\"{col[0]}_{col[1].upper()}\" if col[1] else col[0].upper()\n",
    "    for col in pos_agg.columns\n",
    "]"
   ],
   "metadata": {
    "collapsed": false,
    "ExecuteTime": {
     "end_time": "2025-10-29T01:16:31.100675Z",
     "start_time": "2025-10-29T01:16:25.526780Z"
    }
   },
   "id": "1554e84b70b0d6bc",
   "execution_count": 12
  },
  {
   "cell_type": "code",
   "outputs": [],
   "source": [
    "pos_agg = pos_agg.pivot_table(index=\"SK_ID_CURR\",\n",
    "                    columns=\"NAME_CONTRACT_STATUS\",\n",
    "                    values=['MONTHS_BALANCE_MIN',\n",
    "                           # 'MONTHS_BALANCE_MAX', 'MONTHS_BALANCE_COUNT', 'MONTHS_BALANCE_MEAN',\n",
    "                           # 'CNT_INSTALMENT_MIN', 'CNT_INSTALMENT_MAX', 'CNT_INSTALMENT_MEAN',\n",
    "                           # 'CNT_INSTALMENT_FUTURE_MIN', 'CNT_INSTALMENT_FUTURE_MAX',\n",
    "                           # 'CNT_INSTALMENT_FUTURE_MEAN', 'SK_DPD_MIN', 'SK_DPD_MAX', 'SK_DPD_MEAN',\n",
    "                           # 'SK_DPD_SUM', 'SK_DPD_DEF_MIN', 'SK_DPD_DEF_MAX', 'SK_DPD_DEF_MEAN',\n",
    "                           # 'SK_DPD_DEF_SUM'\n",
    "                            ],\n",
    "                    aggfunc=\"sum\",     # combine if there are duplicates\n",
    "                    fill_value=0,         # fill missing with 0\n",
    "            ).reset_index()\n",
    "\n",
    "pos_agg.columns = [\n",
    "    f\"{col[0]}_{col[1].upper()}\" if col[1] else col[0].upper()\n",
    "    for col in pos_agg.columns\n",
    "]\n",
    "\n",
    "# Save data to /etl folder\n",
    "pos_agg.to_csv(\"etl/pos_cash_agg.csv\", header=True, index=False)"
   ],
   "metadata": {
    "collapsed": false,
    "ExecuteTime": {
     "end_time": "2025-10-29T01:16:32.157294Z",
     "start_time": "2025-10-29T01:16:31.101690Z"
    }
   },
   "id": "5b33376aa675c6d8",
   "execution_count": 13
  },
  {
   "cell_type": "markdown",
   "source": [
    "## 5 Repayment history data preprocessing"
   ],
   "metadata": {
    "collapsed": false
   },
   "id": "90017e86378ecbd9"
  },
  {
   "cell_type": "code",
   "outputs": [
    {
     "data": {
      "text/plain": "   SK_ID_PREV  SK_ID_CURR  NUM_INSTALMENT_VERSION  NUM_INSTALMENT_NUMBER  \\\n0     1054186      161674                     1.0                      6   \n1     1330831      151639                     0.0                     34   \n2     2085231      193053                     2.0                      1   \n3     2452527      199697                     1.0                      3   \n4     2714724      167756                     1.0                      2   \n\n   DAYS_INSTALMENT  DAYS_ENTRY_PAYMENT  AMT_INSTALMENT  AMT_PAYMENT  \n0          -1180.0             -1187.0        6948.360     6948.360  \n1          -2156.0             -2156.0        1716.525     1716.525  \n2            -63.0               -63.0       25425.000    25425.000  \n3          -2418.0             -2426.0       24350.130    24350.130  \n4          -1383.0             -1366.0        2165.040     2160.585  ",
      "text/html": "<div>\n<style scoped>\n    .dataframe tbody tr th:only-of-type {\n        vertical-align: middle;\n    }\n\n    .dataframe tbody tr th {\n        vertical-align: top;\n    }\n\n    .dataframe thead th {\n        text-align: right;\n    }\n</style>\n<table border=\"1\" class=\"dataframe\">\n  <thead>\n    <tr style=\"text-align: right;\">\n      <th></th>\n      <th>SK_ID_PREV</th>\n      <th>SK_ID_CURR</th>\n      <th>NUM_INSTALMENT_VERSION</th>\n      <th>NUM_INSTALMENT_NUMBER</th>\n      <th>DAYS_INSTALMENT</th>\n      <th>DAYS_ENTRY_PAYMENT</th>\n      <th>AMT_INSTALMENT</th>\n      <th>AMT_PAYMENT</th>\n    </tr>\n  </thead>\n  <tbody>\n    <tr>\n      <th>0</th>\n      <td>1054186</td>\n      <td>161674</td>\n      <td>1.0</td>\n      <td>6</td>\n      <td>-1180.0</td>\n      <td>-1187.0</td>\n      <td>6948.360</td>\n      <td>6948.360</td>\n    </tr>\n    <tr>\n      <th>1</th>\n      <td>1330831</td>\n      <td>151639</td>\n      <td>0.0</td>\n      <td>34</td>\n      <td>-2156.0</td>\n      <td>-2156.0</td>\n      <td>1716.525</td>\n      <td>1716.525</td>\n    </tr>\n    <tr>\n      <th>2</th>\n      <td>2085231</td>\n      <td>193053</td>\n      <td>2.0</td>\n      <td>1</td>\n      <td>-63.0</td>\n      <td>-63.0</td>\n      <td>25425.000</td>\n      <td>25425.000</td>\n    </tr>\n    <tr>\n      <th>3</th>\n      <td>2452527</td>\n      <td>199697</td>\n      <td>1.0</td>\n      <td>3</td>\n      <td>-2418.0</td>\n      <td>-2426.0</td>\n      <td>24350.130</td>\n      <td>24350.130</td>\n    </tr>\n    <tr>\n      <th>4</th>\n      <td>2714724</td>\n      <td>167756</td>\n      <td>1.0</td>\n      <td>2</td>\n      <td>-1383.0</td>\n      <td>-1366.0</td>\n      <td>2165.040</td>\n      <td>2160.585</td>\n    </tr>\n  </tbody>\n</table>\n</div>"
     },
     "execution_count": 20,
     "metadata": {},
     "output_type": "execute_result"
    }
   ],
   "source": [
    "repay = pd.read_csv('data/installments_payments.csv')\n",
    "\n",
    "repay.head()"
   ],
   "metadata": {
    "collapsed": false,
    "ExecuteTime": {
     "end_time": "2025-10-29T01:19:09.971539Z",
     "start_time": "2025-10-29T01:19:02.181857Z"
    }
   },
   "id": "cfc4b26586536305",
   "execution_count": 20
  },
  {
   "cell_type": "code",
   "outputs": [
    {
     "data": {
      "text/plain": "DAYS_ENTRY_PAYMENT    0.021352\nAMT_PAYMENT           0.021352\ndtype: float64"
     },
     "execution_count": 21,
     "metadata": {},
     "output_type": "execute_result"
    }
   ],
   "source": [
    "check_missing_col_coverage(repay)"
   ],
   "metadata": {
    "collapsed": false,
    "ExecuteTime": {
     "end_time": "2025-10-29T01:19:10.209293Z",
     "start_time": "2025-10-29T01:19:09.972547Z"
    }
   },
   "id": "876c7560845b2ad5",
   "execution_count": 21
  },
  {
   "cell_type": "code",
   "outputs": [],
   "source": [
    "# How many is repaid:\n",
    "# PAYMENT_PERCENT\n",
    "# PAYMENT_GAP\n",
    "repay[\"PAYMENT_PERCENT\"] = repay[\"AMT_PAYMENT\"].div(repay[\"AMT_INSTALMENT\"]).replace([np.inf, -np.inf], np.nan)\n",
    "repay['PAYMENT_GAP'] = repay['AMT_INSTALMENT'] - repay['AMT_PAYMENT']\n",
    "\n",
    "# Time point for repay: positive value-miss the due, negative-paid earlier\n",
    "repay['PAYMENT_TIME'] = repay['DAYS_ENTRY_PAYMENT'] - repay['DAYS_INSTALMENT']"
   ],
   "metadata": {
    "collapsed": false,
    "ExecuteTime": {
     "end_time": "2025-10-29T01:19:10.536242Z",
     "start_time": "2025-10-29T01:19:10.210299Z"
    }
   },
   "id": "b702cc511b2aae07",
   "execution_count": 22
  },
  {
   "cell_type": "code",
   "outputs": [],
   "source": [
    "repay_aggmethod = {'DAYS_INSTALMENT':['min', 'max', 'mean'],\n",
    "                   'DAYS_ENTRY_PAYMENT':['min', 'max', 'mean'],\n",
    "                   'AMT_INSTALMENT':['min', 'max', 'mean', 'sum'],\n",
    "                   'AMT_PAYMENT':['min', 'max', 'mean','sum'],\n",
    "                   'PAYMENT_PERCENT':['min', 'max', 'mean'],\n",
    "                   'PAYMENT_GAP':['min', 'max', 'mean','sum'],\n",
    "                   'PAYMENT_TIME':['min', 'max', 'mean','sum']}\n",
    "\n",
    "repay_agg = repay.groupby('SK_ID_CURR').agg(repay_aggmethod).reset_index()\n",
    "repay_agg.columns = [col[0].upper()+'_'+col[1].upper()+\"_REPAY\" if col[1] else col[0].upper() for col in repay_agg.columns]"
   ],
   "metadata": {
    "collapsed": false,
    "ExecuteTime": {
     "end_time": "2025-10-29T01:19:13.584355Z",
     "start_time": "2025-10-29T01:19:10.537762Z"
    }
   },
   "id": "1cf34cb18e28166f",
   "execution_count": 23
  },
  {
   "cell_type": "code",
   "outputs": [],
   "source": [
    "# Save data to /etl folder\n",
    "repay_agg.to_csv(\"etl/installment_pay.csv\", header=True, index=False)"
   ],
   "metadata": {
    "collapsed": false,
    "ExecuteTime": {
     "end_time": "2025-10-29T01:19:20.095071Z",
     "start_time": "2025-10-29T01:19:13.585365Z"
    }
   },
   "id": "3054b00586519f0d",
   "execution_count": 24
  },
  {
   "cell_type": "code",
   "outputs": [
    {
     "data": {
      "text/plain": "   SK_ID_CURR  DAYS_INSTALMENT_MIN_REPAY  DAYS_INSTALMENT_MAX_REPAY  \\\n0      100001                    -2916.0                    -1619.0   \n1      100002                     -565.0                      -25.0   \n2      100003                    -2310.0                     -536.0   \n3      100004                     -784.0                     -724.0   \n4      100005                     -706.0                     -466.0   \n\n   DAYS_INSTALMENT_MEAN_REPAY  DAYS_ENTRY_PAYMENT_MIN_REPAY  \\\n0                -2187.714286                       -2916.0   \n1                 -295.000000                        -587.0   \n2                -1378.160000                       -2324.0   \n3                 -754.000000                        -795.0   \n4                 -586.000000                        -736.0   \n\n   DAYS_ENTRY_PAYMENT_MAX_REPAY  DAYS_ENTRY_PAYMENT_MEAN_REPAY  \\\n0                       -1628.0                   -2195.000000   \n1                         -49.0                    -315.421053   \n2                        -544.0                   -1385.320000   \n3                        -727.0                    -761.666667   \n4                        -470.0                    -609.555556   \n\n   AMT_INSTALMENT_MIN_REPAY  AMT_INSTALMENT_MAX_REPAY  \\\n0                  3951.000                 17397.900   \n1                  9251.775                 53093.745   \n2                  6662.970                560835.360   \n3                  5357.250                 10573.965   \n4                  4813.200                 17656.245   \n\n   AMT_INSTALMENT_MEAN_REPAY  ...  PAYMENT_PERCENT_MAX_REPAY  \\\n0                5885.132143  ...                        1.0   \n1               11559.247105  ...                        1.0   \n2               64754.586000  ...                        1.0   \n3                7096.155000  ...                        1.0   \n4                6240.205000  ...                        1.0   \n\n   PAYMENT_PERCENT_MEAN_REPAY  PAYMENT_GAP_MIN_REPAY  PAYMENT_GAP_MAX_REPAY  \\\n0                         1.0                    0.0                    0.0   \n1                         1.0                    0.0                    0.0   \n2                         1.0                    0.0                    0.0   \n3                         1.0                    0.0                    0.0   \n4                         1.0                    0.0                    0.0   \n\n   PAYMENT_GAP_MEAN_REPAY  PAYMENT_GAP_SUM_REPAY  PAYMENT_TIME_MIN_REPAY  \\\n0                     0.0                    0.0                   -36.0   \n1                     0.0                    0.0                   -31.0   \n2                     0.0                    0.0                   -14.0   \n3                     0.0                    0.0                   -11.0   \n4                     0.0                    0.0                   -37.0   \n\n   PAYMENT_TIME_MAX_REPAY  PAYMENT_TIME_MEAN_REPAY  PAYMENT_TIME_SUM_REPAY  \n0                    11.0                -7.285714                   -51.0  \n1                   -12.0               -20.421053                  -388.0  \n2                    -1.0                -7.160000                  -179.0  \n3                    -3.0                -7.666667                   -23.0  \n4                     1.0               -23.555556                  -212.0  \n\n[5 rows x 26 columns]",
      "text/html": "<div>\n<style scoped>\n    .dataframe tbody tr th:only-of-type {\n        vertical-align: middle;\n    }\n\n    .dataframe tbody tr th {\n        vertical-align: top;\n    }\n\n    .dataframe thead th {\n        text-align: right;\n    }\n</style>\n<table border=\"1\" class=\"dataframe\">\n  <thead>\n    <tr style=\"text-align: right;\">\n      <th></th>\n      <th>SK_ID_CURR</th>\n      <th>DAYS_INSTALMENT_MIN_REPAY</th>\n      <th>DAYS_INSTALMENT_MAX_REPAY</th>\n      <th>DAYS_INSTALMENT_MEAN_REPAY</th>\n      <th>DAYS_ENTRY_PAYMENT_MIN_REPAY</th>\n      <th>DAYS_ENTRY_PAYMENT_MAX_REPAY</th>\n      <th>DAYS_ENTRY_PAYMENT_MEAN_REPAY</th>\n      <th>AMT_INSTALMENT_MIN_REPAY</th>\n      <th>AMT_INSTALMENT_MAX_REPAY</th>\n      <th>AMT_INSTALMENT_MEAN_REPAY</th>\n      <th>...</th>\n      <th>PAYMENT_PERCENT_MAX_REPAY</th>\n      <th>PAYMENT_PERCENT_MEAN_REPAY</th>\n      <th>PAYMENT_GAP_MIN_REPAY</th>\n      <th>PAYMENT_GAP_MAX_REPAY</th>\n      <th>PAYMENT_GAP_MEAN_REPAY</th>\n      <th>PAYMENT_GAP_SUM_REPAY</th>\n      <th>PAYMENT_TIME_MIN_REPAY</th>\n      <th>PAYMENT_TIME_MAX_REPAY</th>\n      <th>PAYMENT_TIME_MEAN_REPAY</th>\n      <th>PAYMENT_TIME_SUM_REPAY</th>\n    </tr>\n  </thead>\n  <tbody>\n    <tr>\n      <th>0</th>\n      <td>100001</td>\n      <td>-2916.0</td>\n      <td>-1619.0</td>\n      <td>-2187.714286</td>\n      <td>-2916.0</td>\n      <td>-1628.0</td>\n      <td>-2195.000000</td>\n      <td>3951.000</td>\n      <td>17397.900</td>\n      <td>5885.132143</td>\n      <td>...</td>\n      <td>1.0</td>\n      <td>1.0</td>\n      <td>0.0</td>\n      <td>0.0</td>\n      <td>0.0</td>\n      <td>0.0</td>\n      <td>-36.0</td>\n      <td>11.0</td>\n      <td>-7.285714</td>\n      <td>-51.0</td>\n    </tr>\n    <tr>\n      <th>1</th>\n      <td>100002</td>\n      <td>-565.0</td>\n      <td>-25.0</td>\n      <td>-295.000000</td>\n      <td>-587.0</td>\n      <td>-49.0</td>\n      <td>-315.421053</td>\n      <td>9251.775</td>\n      <td>53093.745</td>\n      <td>11559.247105</td>\n      <td>...</td>\n      <td>1.0</td>\n      <td>1.0</td>\n      <td>0.0</td>\n      <td>0.0</td>\n      <td>0.0</td>\n      <td>0.0</td>\n      <td>-31.0</td>\n      <td>-12.0</td>\n      <td>-20.421053</td>\n      <td>-388.0</td>\n    </tr>\n    <tr>\n      <th>2</th>\n      <td>100003</td>\n      <td>-2310.0</td>\n      <td>-536.0</td>\n      <td>-1378.160000</td>\n      <td>-2324.0</td>\n      <td>-544.0</td>\n      <td>-1385.320000</td>\n      <td>6662.970</td>\n      <td>560835.360</td>\n      <td>64754.586000</td>\n      <td>...</td>\n      <td>1.0</td>\n      <td>1.0</td>\n      <td>0.0</td>\n      <td>0.0</td>\n      <td>0.0</td>\n      <td>0.0</td>\n      <td>-14.0</td>\n      <td>-1.0</td>\n      <td>-7.160000</td>\n      <td>-179.0</td>\n    </tr>\n    <tr>\n      <th>3</th>\n      <td>100004</td>\n      <td>-784.0</td>\n      <td>-724.0</td>\n      <td>-754.000000</td>\n      <td>-795.0</td>\n      <td>-727.0</td>\n      <td>-761.666667</td>\n      <td>5357.250</td>\n      <td>10573.965</td>\n      <td>7096.155000</td>\n      <td>...</td>\n      <td>1.0</td>\n      <td>1.0</td>\n      <td>0.0</td>\n      <td>0.0</td>\n      <td>0.0</td>\n      <td>0.0</td>\n      <td>-11.0</td>\n      <td>-3.0</td>\n      <td>-7.666667</td>\n      <td>-23.0</td>\n    </tr>\n    <tr>\n      <th>4</th>\n      <td>100005</td>\n      <td>-706.0</td>\n      <td>-466.0</td>\n      <td>-586.000000</td>\n      <td>-736.0</td>\n      <td>-470.0</td>\n      <td>-609.555556</td>\n      <td>4813.200</td>\n      <td>17656.245</td>\n      <td>6240.205000</td>\n      <td>...</td>\n      <td>1.0</td>\n      <td>1.0</td>\n      <td>0.0</td>\n      <td>0.0</td>\n      <td>0.0</td>\n      <td>0.0</td>\n      <td>-37.0</td>\n      <td>1.0</td>\n      <td>-23.555556</td>\n      <td>-212.0</td>\n    </tr>\n  </tbody>\n</table>\n<p>5 rows × 26 columns</p>\n</div>"
     },
     "execution_count": 25,
     "metadata": {},
     "output_type": "execute_result"
    }
   ],
   "source": [
    "repay_agg.head()"
   ],
   "metadata": {
    "collapsed": false,
    "ExecuteTime": {
     "end_time": "2025-10-29T01:19:20.116810Z",
     "start_time": "2025-10-29T01:19:20.095581Z"
    }
   },
   "id": "521bc29f8d4f9fa8",
   "execution_count": 25
  },
  {
   "cell_type": "code",
   "outputs": [],
   "source": [],
   "metadata": {
    "collapsed": false,
    "ExecuteTime": {
     "end_time": "2025-10-29T01:16:53.470845Z",
     "start_time": "2025-10-29T01:16:53.468435Z"
    }
   },
   "id": "b5b9932b17dfcd54",
   "execution_count": 19
  }
 ],
 "metadata": {
  "kernelspec": {
   "display_name": "Python 3 (ipykernel)",
   "language": "python",
   "name": "python3"
  },
  "language_info": {
   "codemirror_mode": {
    "name": "ipython",
    "version": 3
   },
   "file_extension": ".py",
   "mimetype": "text/x-python",
   "name": "python",
   "nbconvert_exporter": "python",
   "pygments_lexer": "ipython3",
   "version": "3.11.8"
  }
 },
 "nbformat": 4,
 "nbformat_minor": 5
}
