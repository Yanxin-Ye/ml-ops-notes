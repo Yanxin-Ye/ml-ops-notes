{
 "cells": [
  {
   "cell_type": "markdown",
   "id": "85fd3687-6bf4-4507-b063-12afb59b8f5a",
   "metadata": {},
   "source": [
    "# Data preprocessing"
   ]
  },
  {
   "cell_type": "code",
   "execution_count": null,
   "id": "908a1b69-ee0a-4aa3-9959-25da2d9bd39d",
   "metadata": {},
   "outputs": [],
   "source": [
    "import pandas as pd\n",
    "import numpy as np"
   ]
  },
  {
   "cell_type": "code",
   "execution_count": null,
   "id": "edfb4b6e-276e-493d-a70f-168d2efee089",
   "metadata": {},
   "outputs": [],
   "source": [
    "key = \"SK_ID_CURR\""
   ]
  },
  {
   "cell_type": "markdown",
   "id": "1c0eaee5-4684-4c58-82c3-fb4994b0db4c",
   "metadata": {},
   "source": [
    "## Presious application"
   ]
  },
  {
   "cell_type": "code",
   "execution_count": null,
   "id": "92723035-60ba-4d82-8e89-35f4df1cb0c7",
   "metadata": {},
   "outputs": [],
   "source": [
    "prev_app = pd.read_csv(\"data/previous_application.csv\")"
   ]
  },
  {
   "cell_type": "code",
   "execution_count": null,
   "id": "fc5707a7-d589-4a62-9d97-ab80cae44bd0",
   "metadata": {},
   "outputs": [],
   "source": [
    "prev_app.head()"
   ]
  },
  {
   "cell_type": "code",
   "execution_count": null,
   "id": "97b9a6a6-32e9-42ae-bc57-962a01732273",
   "metadata": {},
   "outputs": [],
   "source": [
    "prev_app[\"NAME_CONTRACT_STATUS\"].value_counts()"
   ]
  },
  {
   "cell_type": "code",
   "execution_count": null,
   "id": "5b353828-4797-492b-9ae8-0b3146401fb3",
   "metadata": {},
   "outputs": [],
   "source": [
    "# AMT_ACCEPT_RATE: credit get compared to the amount the client applied\n",
    "prev_app['AMT_ACCEPT_RATE'] = prev_app['AMT_CREDIT']/prev_app['AMT_APPLICATION']"
   ]
  },
  {
   "cell_type": "code",
   "execution_count": null,
   "id": "a24ee84c-13a3-4cdf-a3f9-04a08fd1690c",
   "metadata": {},
   "outputs": [],
   "source": [
    "prev_app_agg = {\n",
    "    \"NAME_CONTRACT_STATUS\": [\"count\"],\n",
    "    \"AMT_ANNUITY\": [\"sum\", \"mean\"],\n",
    "    \"AMT_APPLICATION\": [\"sum\", \"mean\"]    \n",
    "}\n",
    "\n",
    "prev_app_status = prev_app[[\"NAME_CONTRACT_STATUS\", \"SK_ID_CURR\", \"SK_ID_PREV\", \"AMT_ANNUITY\", \"AMT_APPLICATION\"]].groupby([\"SK_ID_CURR\",\"NAME_CONTRACT_STATUS\"]).agg(prev_app_agg).reset_index()\n",
    "\n",
    "prev_app_status.columns = [\n",
    "    f\"{col[0]}_{col[1].upper()}\" if col[1] else col[0].upper()\n",
    "    for col in prev_app_status.columns\n",
    "]\n",
    "\n",
    "\n",
    "pre_app_agg = prev_app_status.pivot_table(\n",
    "        index=\"SK_ID_CURR\",\n",
    "        columns=\"NAME_CONTRACT_STATUS\",\n",
    "        values=[\"NAME_CONTRACT_STATUS_COUNT\", \"AMT_ANNUITY_SUM\", \"AMT_ANNUITY_MEAN\", \"AMT_APPLICATION_SUM\", \"AMT_APPLICATION_MEAN\"],\n",
    "        aggfunc=\"sum\",     # combine if there are duplicates\n",
    "        fill_value=0       # fill missing with 0\n",
    "    ).reset_index()\n",
    "\n",
    "pre_app_agg.columns = [\n",
    "    f\"{col[0]}_{col[1].upper()}\" if col[1] else col[0].upper()\n",
    "    for col in pre_app_agg.columns\n",
    "]\n"
   ]
  },
  {
   "cell_type": "code",
   "execution_count": null,
   "id": "c011f4be-bbe4-44d2-a47e-59fc7bfb5961",
   "metadata": {},
   "outputs": [],
   "source": [
    "pre_app_agg.to_csv(\"etl/previous_applications_agg.csv\", header=True, index=False)"
   ]
  },
  {
   "cell_type": "code",
   "execution_count": null,
   "id": "dc3d9cbf-54e9-4b89-9652-76b85288ecd6",
   "metadata": {},
   "outputs": [],
   "source": []
  }
 ],
 "metadata": {
  "kernelspec": {
   "display_name": "Python 3 (ipykernel)",
   "language": "python",
   "name": "python3"
  },
  "language_info": {
   "codemirror_mode": {
    "name": "ipython",
    "version": 3
   },
   "file_extension": ".py",
   "mimetype": "text/x-python",
   "name": "python",
   "nbconvert_exporter": "python",
   "pygments_lexer": "ipython3",
   "version": "3.11.8"
  }
 },
 "nbformat": 4,
 "nbformat_minor": 5
}
