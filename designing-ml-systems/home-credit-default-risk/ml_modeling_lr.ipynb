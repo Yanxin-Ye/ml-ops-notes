{
 "cells": [
  {
   "cell_type": "markdown",
   "metadata": {},
   "source": [
    "# Home Credit Default Risk by Kaggle"
   ]
  },
  {
   "cell_type": "markdown",
   "metadata": {},
   "source": [
    "Inspired by the classic Kaggle problem: [Home Credit Default Risk](https://www.kaggle.com/competitions/home-credit-default-risk/overview), we are creating an ultimate cheatsheet for data scientist interviews. "
   ]
  },
  {
   "cell_type": "code",
   "execution_count": 1,
   "metadata": {
    "ExecuteTime": {
     "end_time": "2025-10-26T02:43:38.904862Z",
     "start_time": "2025-10-26T02:43:34.193221Z"
    }
   },
   "outputs": [],
   "source": [
    "import pandas as pd\n",
    "import numpy as np\n",
    "import matplotlib.pyplot as plt\n",
    "from sklearn.impute import SimpleImputer\n",
    "from sklearn.compose import ColumnTransformer\n",
    "from sklearn import set_config\n",
    "# from sklearn.pipeline import Pipeline\n",
    "from imblearn.pipeline import Pipeline  \n",
    "from sklearn.preprocessing import OneHotEncoder, FunctionTransformer\n",
    "from sklearn.model_selection import train_test_split, RandomizedSearchCV, StratifiedKFold, cross_val_predict\n",
    "from imblearn.over_sampling import SMOTE\n",
    "from sklearn.decomposition import PCA\n",
    "from sklearn.preprocessing import StandardScaler\n",
    "from utils import save_best_model, model_performance\n",
    "import json\n",
    "import joblib\n",
    "import shap\n",
    "\n",
    "\n",
    "set_config(transform_output=\"pandas\") "
   ]
  },
  {
   "cell_type": "code",
   "execution_count": 2,
   "metadata": {
    "ExecuteTime": {
     "end_time": "2025-10-26T02:43:42.206237Z",
     "start_time": "2025-10-26T02:43:38.905991Z"
    }
   },
   "outputs": [],
   "source": [
    "raw_data = pd.read_csv(\"data/application_train.csv\")\n",
    "previous_applications = pd.read_csv(\"etl/previous_applications_agg.csv\")\n",
    "bureau = pd.read_csv(\"etl/bureau_agg.csv\")"
   ]
  },
  {
   "cell_type": "code",
   "execution_count": 3,
   "metadata": {
    "ExecuteTime": {
     "end_time": "2025-10-26T02:43:42.291907Z",
     "start_time": "2025-10-26T02:43:42.207244Z"
    }
   },
   "outputs": [
    {
     "data": {
      "text/plain": "   SK_ID_CURR  TARGET NAME_CONTRACT_TYPE CODE_GENDER FLAG_OWN_CAR  \\\n0      100002       1         Cash loans           M            N   \n1      100003       0         Cash loans           F            N   \n2      100004       0    Revolving loans           M            Y   \n3      100006       0         Cash loans           F            N   \n4      100007       0         Cash loans           M            N   \n\n  FLAG_OWN_REALTY  CNT_CHILDREN  AMT_INCOME_TOTAL  AMT_CREDIT  AMT_ANNUITY  \\\n0               Y             0          202500.0    406597.5      24700.5   \n1               N             0          270000.0   1293502.5      35698.5   \n2               Y             0           67500.0    135000.0       6750.0   \n3               Y             0          135000.0    312682.5      29686.5   \n4               Y             0          121500.0    513000.0      21865.5   \n\n   ...  FLAG_DOCUMENT_18 FLAG_DOCUMENT_19 FLAG_DOCUMENT_20 FLAG_DOCUMENT_21  \\\n0  ...                 0                0                0                0   \n1  ...                 0                0                0                0   \n2  ...                 0                0                0                0   \n3  ...                 0                0                0                0   \n4  ...                 0                0                0                0   \n\n  AMT_REQ_CREDIT_BUREAU_HOUR AMT_REQ_CREDIT_BUREAU_DAY  \\\n0                        0.0                       0.0   \n1                        0.0                       0.0   \n2                        0.0                       0.0   \n3                        NaN                       NaN   \n4                        0.0                       0.0   \n\n   AMT_REQ_CREDIT_BUREAU_WEEK  AMT_REQ_CREDIT_BUREAU_MON  \\\n0                         0.0                        0.0   \n1                         0.0                        0.0   \n2                         0.0                        0.0   \n3                         NaN                        NaN   \n4                         0.0                        0.0   \n\n   AMT_REQ_CREDIT_BUREAU_QRT  AMT_REQ_CREDIT_BUREAU_YEAR  \n0                        0.0                         1.0  \n1                        0.0                         0.0  \n2                        0.0                         0.0  \n3                        NaN                         NaN  \n4                        0.0                         0.0  \n\n[5 rows x 122 columns]",
      "text/html": "<div>\n<style scoped>\n    .dataframe tbody tr th:only-of-type {\n        vertical-align: middle;\n    }\n\n    .dataframe tbody tr th {\n        vertical-align: top;\n    }\n\n    .dataframe thead th {\n        text-align: right;\n    }\n</style>\n<table border=\"1\" class=\"dataframe\">\n  <thead>\n    <tr style=\"text-align: right;\">\n      <th></th>\n      <th>SK_ID_CURR</th>\n      <th>TARGET</th>\n      <th>NAME_CONTRACT_TYPE</th>\n      <th>CODE_GENDER</th>\n      <th>FLAG_OWN_CAR</th>\n      <th>FLAG_OWN_REALTY</th>\n      <th>CNT_CHILDREN</th>\n      <th>AMT_INCOME_TOTAL</th>\n      <th>AMT_CREDIT</th>\n      <th>AMT_ANNUITY</th>\n      <th>...</th>\n      <th>FLAG_DOCUMENT_18</th>\n      <th>FLAG_DOCUMENT_19</th>\n      <th>FLAG_DOCUMENT_20</th>\n      <th>FLAG_DOCUMENT_21</th>\n      <th>AMT_REQ_CREDIT_BUREAU_HOUR</th>\n      <th>AMT_REQ_CREDIT_BUREAU_DAY</th>\n      <th>AMT_REQ_CREDIT_BUREAU_WEEK</th>\n      <th>AMT_REQ_CREDIT_BUREAU_MON</th>\n      <th>AMT_REQ_CREDIT_BUREAU_QRT</th>\n      <th>AMT_REQ_CREDIT_BUREAU_YEAR</th>\n    </tr>\n  </thead>\n  <tbody>\n    <tr>\n      <th>0</th>\n      <td>100002</td>\n      <td>1</td>\n      <td>Cash loans</td>\n      <td>M</td>\n      <td>N</td>\n      <td>Y</td>\n      <td>0</td>\n      <td>202500.0</td>\n      <td>406597.5</td>\n      <td>24700.5</td>\n      <td>...</td>\n      <td>0</td>\n      <td>0</td>\n      <td>0</td>\n      <td>0</td>\n      <td>0.0</td>\n      <td>0.0</td>\n      <td>0.0</td>\n      <td>0.0</td>\n      <td>0.0</td>\n      <td>1.0</td>\n    </tr>\n    <tr>\n      <th>1</th>\n      <td>100003</td>\n      <td>0</td>\n      <td>Cash loans</td>\n      <td>F</td>\n      <td>N</td>\n      <td>N</td>\n      <td>0</td>\n      <td>270000.0</td>\n      <td>1293502.5</td>\n      <td>35698.5</td>\n      <td>...</td>\n      <td>0</td>\n      <td>0</td>\n      <td>0</td>\n      <td>0</td>\n      <td>0.0</td>\n      <td>0.0</td>\n      <td>0.0</td>\n      <td>0.0</td>\n      <td>0.0</td>\n      <td>0.0</td>\n    </tr>\n    <tr>\n      <th>2</th>\n      <td>100004</td>\n      <td>0</td>\n      <td>Revolving loans</td>\n      <td>M</td>\n      <td>Y</td>\n      <td>Y</td>\n      <td>0</td>\n      <td>67500.0</td>\n      <td>135000.0</td>\n      <td>6750.0</td>\n      <td>...</td>\n      <td>0</td>\n      <td>0</td>\n      <td>0</td>\n      <td>0</td>\n      <td>0.0</td>\n      <td>0.0</td>\n      <td>0.0</td>\n      <td>0.0</td>\n      <td>0.0</td>\n      <td>0.0</td>\n    </tr>\n    <tr>\n      <th>3</th>\n      <td>100006</td>\n      <td>0</td>\n      <td>Cash loans</td>\n      <td>F</td>\n      <td>N</td>\n      <td>Y</td>\n      <td>0</td>\n      <td>135000.0</td>\n      <td>312682.5</td>\n      <td>29686.5</td>\n      <td>...</td>\n      <td>0</td>\n      <td>0</td>\n      <td>0</td>\n      <td>0</td>\n      <td>NaN</td>\n      <td>NaN</td>\n      <td>NaN</td>\n      <td>NaN</td>\n      <td>NaN</td>\n      <td>NaN</td>\n    </tr>\n    <tr>\n      <th>4</th>\n      <td>100007</td>\n      <td>0</td>\n      <td>Cash loans</td>\n      <td>M</td>\n      <td>N</td>\n      <td>Y</td>\n      <td>0</td>\n      <td>121500.0</td>\n      <td>513000.0</td>\n      <td>21865.5</td>\n      <td>...</td>\n      <td>0</td>\n      <td>0</td>\n      <td>0</td>\n      <td>0</td>\n      <td>0.0</td>\n      <td>0.0</td>\n      <td>0.0</td>\n      <td>0.0</td>\n      <td>0.0</td>\n      <td>0.0</td>\n    </tr>\n  </tbody>\n</table>\n<p>5 rows × 122 columns</p>\n</div>"
     },
     "execution_count": 3,
     "metadata": {},
     "output_type": "execute_result"
    }
   ],
   "source": [
    "df = raw_data.copy()\n",
    "df.head()"
   ]
  },
  {
   "cell_type": "code",
   "execution_count": 4,
   "metadata": {
    "ExecuteTime": {
     "end_time": "2025-10-26T02:43:42.736022Z",
     "start_time": "2025-10-26T02:43:42.292954Z"
    }
   },
   "outputs": [],
   "source": [
    "df = df.merge(previous_applications, on=\"SK_ID_CURR\", how=\"left\", suffixes=[\"_main\", \"_previous_app\"])\n",
    "df = df.merge(bureau, on=\"SK_ID_CURR\", how=\"left\", suffixes=[\"_main\", \"_bureau\"])"
   ]
  },
  {
   "cell_type": "markdown",
   "metadata": {},
   "source": [
    "# 1. Check the target column"
   ]
  },
  {
   "cell_type": "code",
   "execution_count": 5,
   "metadata": {
    "ExecuteTime": {
     "end_time": "2025-10-26T02:43:42.747957Z",
     "start_time": "2025-10-26T02:43:42.737089Z"
    }
   },
   "outputs": [
    {
     "data": {
      "text/plain": "TARGET\n0    282686\n1     24825\ndtype: int64"
     },
     "execution_count": 5,
     "metadata": {},
     "output_type": "execute_result"
    }
   ],
   "source": [
    "# 1. Check target value\n",
    "df.groupby(\"TARGET\").size()"
   ]
  },
  {
   "cell_type": "code",
   "execution_count": 6,
   "metadata": {
    "ExecuteTime": {
     "end_time": "2025-10-26T02:43:42.876656Z",
     "start_time": "2025-10-26T02:43:42.749036Z"
    }
   },
   "outputs": [],
   "source": [
    "df.drop(columns = [\"TARGET\", \"SK_ID_CURR\"], inplace=True)\n",
    "trans_values = {}\n",
    "col_transformers = []"
   ]
  },
  {
   "cell_type": "markdown",
   "metadata": {},
   "source": [
    "This is a very **imbalanced data**, with label 1 less than 10% of label 0.\n",
    "The way we usually handle imbalance data:\n",
    "\n",
    "a) Data level:\n",
    "Collect more data in minority class  \n",
    "Undersample: might remove important data  \n",
    "Oversample: might overfit  \n",
    "To mitigate:   \n",
    "Two-phase learning: train on resampled data, fine tune on original data  \n",
    "Dynamic sampling: oversample the low-performing class and undersample the high performing class during training.  \n",
    "\n",
    "b) Metric level: Check precision/recall, f1, AUC in ROC curve\n",
    "\n",
    "c) Algorithm level: Add stronger penalty on misclassifying the minority class in loss function"
   ]
  },
  {
   "cell_type": "markdown",
   "metadata": {},
   "source": [
    "# 2. Check predictors\n"
   ]
  },
  {
   "cell_type": "markdown",
   "metadata": {},
   "source": [
    "2.0 Check the dtypes of predictors  \n",
    "2.1 Check if all the numeric binary columns are in [0, 1]  \n",
    "2.2 Check outliers in non-binary numeric cols, and impute them with null, medium or mean"
   ]
  },
  {
   "cell_type": "code",
   "execution_count": 7,
   "metadata": {
    "ExecuteTime": {
     "end_time": "2025-10-26T02:43:42.882768Z",
     "start_time": "2025-10-26T02:43:42.877673Z"
    }
   },
   "outputs": [
    {
     "data": {
      "text/plain": "float64    129\nint64       39\nobject      16\nName: count, dtype: int64"
     },
     "execution_count": 7,
     "metadata": {},
     "output_type": "execute_result"
    }
   ],
   "source": [
    "# 2. Check the predictors\n",
    "df.dtypes.value_counts()"
   ]
  },
  {
   "cell_type": "code",
   "execution_count": 8,
   "metadata": {
    "ExecuteTime": {
     "end_time": "2025-10-26T02:43:43.095565Z",
     "start_time": "2025-10-26T02:43:42.883779Z"
    }
   },
   "outputs": [
    {
     "name": "stdout",
     "output_type": "stream",
     "text": [
      "168\n"
     ]
    }
   ],
   "source": [
    "num_cols = df.select_dtypes(include='number').columns.tolist()\n",
    "num_cols = [_ for _ in num_cols if _ not in [\"SK_ID_CURR\", \"TARGET\"]]\n",
    "print(len(num_cols))"
   ]
  },
  {
   "cell_type": "code",
   "execution_count": 9,
   "metadata": {
    "ExecuteTime": {
     "end_time": "2025-10-26T02:43:43.101063Z",
     "start_time": "2025-10-26T02:43:43.096603Z"
    }
   },
   "outputs": [
    {
     "name": "stdout",
     "output_type": "stream",
     "text": [
      "136\n",
      "32\n"
     ]
    }
   ],
   "source": [
    "num_cols_nonbinary = [x for x in num_cols if all(words not in x for words in [\"FLAG\", \"NOT\"])]\n",
    "print(len(num_cols_nonbinary))\n",
    "num_cols_binary = [_ for _ in num_cols if _ not in num_cols_nonbinary]\n",
    "print(len(num_cols_binary))"
   ]
  },
  {
   "cell_type": "code",
   "execution_count": 10,
   "metadata": {
    "ExecuteTime": {
     "end_time": "2025-10-26T02:43:43.229100Z",
     "start_time": "2025-10-26T02:43:43.101063Z"
    }
   },
   "outputs": [
    {
     "name": "stdout",
     "output_type": "stream",
     "text": [
      "Index([], dtype='object')\n"
     ]
    }
   ],
   "source": [
    "# 2.1 Check if all the numeric binary columns are either 0 or 1\n",
    "invalid_cols = df[num_cols_binary].columns[~df[num_cols_binary].isin([0,1]).all()]\n",
    "print(invalid_cols)\n",
    "# Looks good!"
   ]
  },
  {
   "cell_type": "code",
   "execution_count": 11,
   "metadata": {
    "scrolled": true,
    "ExecuteTime": {
     "end_time": "2025-10-26T02:43:43.567655Z",
     "start_time": "2025-10-26T02:43:43.230259Z"
    }
   },
   "outputs": [
    {
     "data": {
      "text/plain": "<Figure size 800x600 with 1 Axes>",
      "image/png": "[encoded data removed]"
     },
     "metadata": {},
     "output_type": "display_data"
    }
   ],
   "source": [
    "# 2.2 Check outliers on non-binary numeric cols\n",
    "\n",
    "# Plot boxplots for the specified columns\n",
    "plt.figure(figsize=(8, 6))\n",
    "df[[\"DAYS_EMPLOYED\"]].boxplot()\n",
    "plt.title(\"Boxplots of Non-Binary Numeric Columns\")\n",
    "plt.ylabel(\"Values\")\n",
    "plt.xticks(rotation=45)\n",
    "plt.show()"
   ]
  },
  {
   "cell_type": "markdown",
   "metadata": {},
   "source": [
    "**How to deal with outliers?**\n",
    "\n",
    "1. Remove the row\n",
    "2. Impute with mean/medium/null value"
   ]
  },
  {
   "cell_type": "code",
   "execution_count": 12,
   "metadata": {
    "ExecuteTime": {
     "end_time": "2025-10-26T02:43:43.571931Z",
     "start_time": "2025-10-26T02:43:43.568664Z"
    }
   },
   "outputs": [],
   "source": [
    "# Drop the row\n",
    "# index = df.loc[df['DAYS_EMPLOYED'].isna(), :].index\n",
    "# df.drop(index, axis=0, inplace=True)\n"
   ]
  },
  {
   "cell_type": "code",
   "execution_count": 13,
   "metadata": {
    "ExecuteTime": {
     "end_time": "2025-10-26T02:43:43.591426Z",
     "start_time": "2025-10-26T02:43:43.571931Z"
    }
   },
   "outputs": [
    {
     "data": {
      "text/plain": "count    307511.000000\nmean      63815.045904\nstd      141275.766519\nmin      -17912.000000\n25%       -2760.000000\n50%       -1213.000000\n75%        -289.000000\nmax      365243.000000\nName: DAYS_EMPLOYED, dtype: float64"
     },
     "execution_count": 13,
     "metadata": {},
     "output_type": "execute_result"
    }
   ],
   "source": [
    "df[\"DAYS_EMPLOYED\"].describe()"
   ]
  },
  {
   "cell_type": "code",
   "execution_count": 14,
   "metadata": {
    "ExecuteTime": {
     "end_time": "2025-10-26T02:43:43.602447Z",
     "start_time": "2025-10-26T02:43:43.593565Z"
    }
   },
   "outputs": [
    {
     "name": "stdout",
     "output_type": "stream",
     "text": [
      "DAYS_EMPLOYED_UPPER:  365243.0\n"
     ]
    }
   ],
   "source": [
    "# Impute with null value\n",
    "DAYS_EMPLOYED_UPPER = df['DAYS_EMPLOYED'].quantile(0.99)\n",
    "print(\"DAYS_EMPLOYED_UPPER: \", DAYS_EMPLOYED_UPPER)\n",
    "\n",
    "trans_values.update({'DAYS_EMPLOYED_UPPER': DAYS_EMPLOYED_UPPER})\n",
    "\n",
    "# df.loc[df['DAYS_EMPLOYED'] >= DAYS_EMPLOYED_UPPER, 'DAYS_EMPLOYED'] = np.nan\n",
    "# df.loc[df['DAYS_EMPLOYED'] > trans_values['DAYS_EMPLOYED_UPPER'], \"DAYS_EMPLOYED\"] = np.nan"
   ]
  },
  {
   "cell_type": "code",
   "execution_count": 15,
   "metadata": {
    "ExecuteTime": {
     "end_time": "2025-10-26T02:43:43.868600Z",
     "start_time": "2025-10-26T02:43:43.602447Z"
    }
   },
   "outputs": [
    {
     "data": {
      "text/plain": "<Figure size 800x600 with 1 Axes>",
      "image/png": "[encoded data removed]"
     },
     "metadata": {},
     "output_type": "display_data"
    }
   ],
   "source": [
    "# Plot boxplots for the specified columns\n",
    "plt.figure(figsize=(8, 6))\n",
    "df[[\"AMT_REQ_CREDIT_BUREAU_QRT\"]].boxplot()\n",
    "plt.title(\"Boxplots of Non-Binary Numeric Columns\")\n",
    "plt.ylabel(\"Values\")\n",
    "plt.xticks(rotation=45)\n",
    "plt.show()"
   ]
  },
  {
   "cell_type": "code",
   "execution_count": 16,
   "metadata": {
    "ExecuteTime": {
     "end_time": "2025-10-26T02:43:43.894026Z",
     "start_time": "2025-10-26T02:43:43.868600Z"
    }
   },
   "outputs": [
    {
     "data": {
      "text/plain": "count    265992.000000\nmean          0.265474\nstd           0.794056\nmin           0.000000\n25%           0.000000\n50%           0.000000\n75%           0.000000\nmax         261.000000\nName: AMT_REQ_CREDIT_BUREAU_QRT, dtype: float64"
     },
     "execution_count": 16,
     "metadata": {},
     "output_type": "execute_result"
    }
   ],
   "source": [
    "df['AMT_REQ_CREDIT_BUREAU_QRT'].describe()"
   ]
  },
  {
   "cell_type": "code",
   "execution_count": 17,
   "metadata": {
    "ExecuteTime": {
     "end_time": "2025-10-26T02:43:43.905728Z",
     "start_time": "2025-10-26T02:43:43.895066Z"
    }
   },
   "outputs": [
    {
     "name": "stdout",
     "output_type": "stream",
     "text": [
      "AMT_REQ_CREDIT_BUREAU_QRT_UPPER:   260\n",
      "AMT_REQ_CREDIT_BUREAU_QRT_MEDIAN:  0.0\n"
     ]
    }
   ],
   "source": [
    "# Impute with median\n",
    "\n",
    "AMT_REQ_CREDIT_BUREAU_QRT_UPPER = 260 # From the plot\n",
    "print(\"AMT_REQ_CREDIT_BUREAU_QRT_UPPER:  \", AMT_REQ_CREDIT_BUREAU_QRT_UPPER)\n",
    "\n",
    "AMT_REQ_CREDIT_BUREAU_QRT_MEDIAN = df['AMT_REQ_CREDIT_BUREAU_QRT'].median()\n",
    "print(\"AMT_REQ_CREDIT_BUREAU_QRT_MEDIAN: \", AMT_REQ_CREDIT_BUREAU_QRT_MEDIAN)\n",
    "\n",
    "\n",
    "trans_values.update({'AMT_REQ_CREDIT_BUREAU_QRT_MEDIAN': AMT_REQ_CREDIT_BUREAU_QRT_MEDIAN,\n",
    "                     'AMT_REQ_CREDIT_BUREAU_QRT_UPPER': AMT_REQ_CREDIT_BUREAU_QRT_UPPER\n",
    "                    }\n",
    "                   )\n",
    "\n",
    "# df.loc[df['AMT_REQ_CREDIT_BUREAU_QRT'] > AMT_REQ_CREDIT_BUREAU_QRT_UPPER,'AMT_REQ_CREDIT_BUREAU_QRT'] = df['AMT_REQ_CREDIT_BUREAU_QRT'].median()"
   ]
  },
  {
   "cell_type": "markdown",
   "metadata": {},
   "source": [
    "**Note!** In real-life ML practice, we always use the **training data only** for imputation or outlier detection. We can not foresee the stats of future unseen data in practice, and using test data would cause data leakage.  \n",
    "In a Kaggle competition, however, we use train+test stats as it generally improves leaderboard score, but it won't generalize well outside the leaderboard.  \n",
    "This notebook is for data scientist interview prep, so we always stick to real-life practice. The stats from training data are stored in a dictionary and will be applied to test data later.\n",
    "\n",
    "\n",
    "\n",
    "\n",
    "# 3. Missing values in predictors\n",
    "\n",
    "**Tree-based models**, like XGBoost, can handle missing values and no need to inpute.  \n",
    "**Distance-based models**, linear Regression, SVM, KNN, Neural networks need imputation.\n",
    "\n",
    "\n",
    "## 3.1 Impute Categorical Variables\n",
    "\n",
    "If missing values < 5%:  impute with the mode.  \n",
    "If missing values >= 5%:  impute with a new category in \"Unknown\" to indicate the value is missing\n"
   ]
  },
  {
   "cell_type": "code",
   "execution_count": 18,
   "metadata": {
    "ExecuteTime": {
     "end_time": "2025-10-26T02:43:44.107276Z",
     "start_time": "2025-10-26T02:43:43.906735Z"
    }
   },
   "outputs": [],
   "source": [
    "cat_cols = df.select_dtypes(include='object').columns.tolist()\n",
    "cat_cols_missing_pct = df[cat_cols].isnull().sum()/df.shape[0]"
   ]
  },
  {
   "cell_type": "code",
   "execution_count": 19,
   "metadata": {
    "ExecuteTime": {
     "end_time": "2025-10-26T02:43:44.136409Z",
     "start_time": "2025-10-26T02:43:44.108290Z"
    }
   },
   "outputs": [
    {
     "name": "stdout",
     "output_type": "stream",
     "text": [
      "There are 1 categorical columns with less than 5% missing vals: ['NAME_TYPE_SUITE']\n"
     ]
    }
   ],
   "source": [
    "# mising value percentage <= 5% -> most frequest\n",
    "missing_minor_cols = cat_cols_missing_pct[(cat_cols_missing_pct <= 0.05) & (cat_cols_missing_pct > 0)].index.to_list()\n",
    "df[missing_minor_cols].value_counts(dropna= False)\n",
    "\n",
    "print(\"There are {} categorical columns with less than 5% missing vals: {}\".format(len(missing_minor_cols), missing_minor_cols))\n",
    "\n",
    "\n"
   ]
  },
  {
   "cell_type": "code",
   "execution_count": 20,
   "metadata": {
    "ExecuteTime": {
     "end_time": "2025-10-26T02:43:44.141077Z",
     "start_time": "2025-10-26T02:43:44.137452Z"
    }
   },
   "outputs": [
    {
     "name": "stdout",
     "output_type": "stream",
     "text": [
      "There are 5 categorical columns with over 5% missing vals: ['OCCUPATION_TYPE', 'FONDKAPREMONT_MODE', 'HOUSETYPE_MODE', 'WALLSMATERIAL_MODE', 'EMERGENCYSTATE_MODE']\n"
     ]
    }
   ],
   "source": [
    "# mising value percentage > 5% -> \"Unknown\"\n",
    "missing_major_cols = cat_cols_missing_pct[cat_cols_missing_pct > 0.05].index.to_list()\n",
    "print(\"There are {} categorical columns with over 5% missing vals: {}\".format(len(missing_major_cols), missing_major_cols))"
   ]
  },
  {
   "cell_type": "markdown",
   "metadata": {},
   "source": [
    "## 3.2 Impute Numeric Variables\n",
    "\n",
    "\n",
    "If missing values < 5%:  impute with the median.  \n",
    "If missing values >= 5%:  impute with mean + missing flag column"
   ]
  },
  {
   "cell_type": "code",
   "execution_count": 21,
   "metadata": {
    "ExecuteTime": {
     "end_time": "2025-10-26T02:43:44.311072Z",
     "start_time": "2025-10-26T02:43:44.141077Z"
    }
   },
   "outputs": [],
   "source": [
    "num_cols_missing_pct = df[num_cols].isnull().sum()/df.shape[0]\n"
   ]
  },
  {
   "cell_type": "code",
   "execution_count": 22,
   "metadata": {
    "ExecuteTime": {
     "end_time": "2025-10-26T02:43:44.316669Z",
     "start_time": "2025-10-26T02:43:44.312127Z"
    }
   },
   "outputs": [
    {
     "name": "stdout",
     "output_type": "stream",
     "text": [
      "There are 52 numeric columns with less than 5% missing vals: ['CNT_CHILDREN', 'AMT_INCOME_TOTAL', 'AMT_CREDIT', 'AMT_ANNUITY', 'AMT_GOODS_PRICE', 'REGION_POPULATION_RELATIVE', 'DAYS_BIRTH', 'DAYS_EMPLOYED', 'DAYS_REGISTRATION', 'DAYS_ID_PUBLISH', 'FLAG_MOBIL', 'FLAG_EMP_PHONE', 'FLAG_WORK_PHONE', 'FLAG_CONT_MOBILE', 'FLAG_PHONE', 'FLAG_EMAIL', 'CNT_FAM_MEMBERS', 'REGION_RATING_CLIENT', 'REGION_RATING_CLIENT_W_CITY', 'HOUR_APPR_PROCESS_START', 'REG_REGION_NOT_LIVE_REGION', 'REG_REGION_NOT_WORK_REGION', 'LIVE_REGION_NOT_WORK_REGION', 'REG_CITY_NOT_LIVE_CITY', 'REG_CITY_NOT_WORK_CITY', 'LIVE_CITY_NOT_WORK_CITY', 'EXT_SOURCE_2', 'OBS_30_CNT_SOCIAL_CIRCLE', 'DEF_30_CNT_SOCIAL_CIRCLE', 'OBS_60_CNT_SOCIAL_CIRCLE', 'DEF_60_CNT_SOCIAL_CIRCLE', 'DAYS_LAST_PHONE_CHANGE', 'FLAG_DOCUMENT_2', 'FLAG_DOCUMENT_3', 'FLAG_DOCUMENT_4', 'FLAG_DOCUMENT_5', 'FLAG_DOCUMENT_6', 'FLAG_DOCUMENT_7', 'FLAG_DOCUMENT_8', 'FLAG_DOCUMENT_9', 'FLAG_DOCUMENT_10', 'FLAG_DOCUMENT_11', 'FLAG_DOCUMENT_12', 'FLAG_DOCUMENT_13', 'FLAG_DOCUMENT_14', 'FLAG_DOCUMENT_15', 'FLAG_DOCUMENT_16', 'FLAG_DOCUMENT_17', 'FLAG_DOCUMENT_18', 'FLAG_DOCUMENT_19', 'FLAG_DOCUMENT_20', 'FLAG_DOCUMENT_21']\n",
      "There are 116 numeric columns with over 5% missing vals: ['OWN_CAR_AGE', 'EXT_SOURCE_1', 'EXT_SOURCE_3', 'APARTMENTS_AVG', 'BASEMENTAREA_AVG', 'YEARS_BEGINEXPLUATATION_AVG', 'YEARS_BUILD_AVG', 'COMMONAREA_AVG', 'ELEVATORS_AVG', 'ENTRANCES_AVG', 'FLOORSMAX_AVG', 'FLOORSMIN_AVG', 'LANDAREA_AVG', 'LIVINGAPARTMENTS_AVG', 'LIVINGAREA_AVG', 'NONLIVINGAPARTMENTS_AVG', 'NONLIVINGAREA_AVG', 'APARTMENTS_MODE', 'BASEMENTAREA_MODE', 'YEARS_BEGINEXPLUATATION_MODE', 'YEARS_BUILD_MODE', 'COMMONAREA_MODE', 'ELEVATORS_MODE', 'ENTRANCES_MODE', 'FLOORSMAX_MODE', 'FLOORSMIN_MODE', 'LANDAREA_MODE', 'LIVINGAPARTMENTS_MODE', 'LIVINGAREA_MODE', 'NONLIVINGAPARTMENTS_MODE', 'NONLIVINGAREA_MODE', 'APARTMENTS_MEDI', 'BASEMENTAREA_MEDI', 'YEARS_BEGINEXPLUATATION_MEDI', 'YEARS_BUILD_MEDI', 'COMMONAREA_MEDI', 'ELEVATORS_MEDI', 'ENTRANCES_MEDI', 'FLOORSMAX_MEDI', 'FLOORSMIN_MEDI', 'LANDAREA_MEDI', 'LIVINGAPARTMENTS_MEDI', 'LIVINGAREA_MEDI', 'NONLIVINGAPARTMENTS_MEDI', 'NONLIVINGAREA_MEDI', 'TOTALAREA_MODE', 'AMT_REQ_CREDIT_BUREAU_HOUR', 'AMT_REQ_CREDIT_BUREAU_DAY', 'AMT_REQ_CREDIT_BUREAU_WEEK', 'AMT_REQ_CREDIT_BUREAU_MON', 'AMT_REQ_CREDIT_BUREAU_QRT', 'AMT_REQ_CREDIT_BUREAU_YEAR', 'AMT_ANNUITY_MEAN_APPROVED', 'AMT_ANNUITY_MEAN_CANCELED', 'AMT_ANNUITY_MEAN_REFUSED', 'AMT_ANNUITY_MEAN_UNUSED OFFER', 'AMT_ANNUITY_SUM_APPROVED', 'AMT_ANNUITY_SUM_CANCELED', 'AMT_ANNUITY_SUM_REFUSED', 'AMT_ANNUITY_SUM_UNUSED OFFER', 'AMT_APPLICATION_MEAN_APPROVED', 'AMT_APPLICATION_MEAN_CANCELED', 'AMT_APPLICATION_MEAN_REFUSED', 'AMT_APPLICATION_MEAN_UNUSED OFFER', 'AMT_APPLICATION_SUM_APPROVED', 'AMT_APPLICATION_SUM_CANCELED', 'AMT_APPLICATION_SUM_REFUSED', 'AMT_APPLICATION_SUM_UNUSED OFFER', 'NAME_CONTRACT_STATUS_COUNT_APPROVED', 'NAME_CONTRACT_STATUS_COUNT_CANCELED', 'NAME_CONTRACT_STATUS_COUNT_REFUSED', 'NAME_CONTRACT_STATUS_COUNT_UNUSED OFFER', 'AMT_ANNUITY_MEAN_ACTIVE', 'AMT_ANNUITY_MEAN_BAD DEBT', 'AMT_ANNUITY_MEAN_CLOSED', 'AMT_ANNUITY_MEAN_SOLD', 'AMT_ANNUITY_SUM_ACTIVE', 'AMT_ANNUITY_SUM_BAD DEBT', 'AMT_ANNUITY_SUM_CLOSED', 'AMT_ANNUITY_SUM_SOLD', 'AMT_CREDIT_MAX_OVERDUE_MAX_ACTIVE', 'AMT_CREDIT_MAX_OVERDUE_MAX_BAD DEBT', 'AMT_CREDIT_MAX_OVERDUE_MAX_CLOSED', 'AMT_CREDIT_MAX_OVERDUE_MAX_SOLD', 'AMT_CREDIT_SUM_MEAN_ACTIVE', 'AMT_CREDIT_SUM_MEAN_BAD DEBT', 'AMT_CREDIT_SUM_MEAN_CLOSED', 'AMT_CREDIT_SUM_MEAN_SOLD', 'AMT_CREDIT_SUM_OVERDUE_MAX_ACTIVE', 'AMT_CREDIT_SUM_OVERDUE_MAX_BAD DEBT', 'AMT_CREDIT_SUM_OVERDUE_MAX_CLOSED', 'AMT_CREDIT_SUM_OVERDUE_MAX_SOLD', 'AMT_CREDIT_SUM_OVERDUE_MEAN_ACTIVE', 'AMT_CREDIT_SUM_OVERDUE_MEAN_BAD DEBT', 'AMT_CREDIT_SUM_OVERDUE_MEAN_CLOSED', 'AMT_CREDIT_SUM_OVERDUE_MEAN_SOLD', 'AMT_CREDIT_SUM_OVERDUE_MIN_ACTIVE', 'AMT_CREDIT_SUM_OVERDUE_MIN_BAD DEBT', 'AMT_CREDIT_SUM_OVERDUE_MIN_CLOSED', 'AMT_CREDIT_SUM_OVERDUE_MIN_SOLD', 'AMT_CREDIT_SUM_SUM_ACTIVE', 'AMT_CREDIT_SUM_SUM_BAD DEBT', 'AMT_CREDIT_SUM_SUM_CLOSED', 'AMT_CREDIT_SUM_SUM_SOLD', 'DAYS_CREDIT_MAX_ACTIVE', 'DAYS_CREDIT_MAX_BAD DEBT', 'DAYS_CREDIT_MAX_CLOSED', 'DAYS_CREDIT_MAX_SOLD', 'DAYS_CREDIT_MEAN_ACTIVE', 'DAYS_CREDIT_MEAN_BAD DEBT', 'DAYS_CREDIT_MEAN_CLOSED', 'DAYS_CREDIT_MEAN_SOLD', 'DAYS_CREDIT_MIN_ACTIVE', 'DAYS_CREDIT_MIN_BAD DEBT', 'DAYS_CREDIT_MIN_CLOSED', 'DAYS_CREDIT_MIN_SOLD']\n"
     ]
    }
   ],
   "source": [
    "num_cols_missing_minor_cols = num_cols_missing_pct[num_cols_missing_pct <=0.05].index.to_list()\n",
    "print(\"There are {} numeric columns with less than 5% missing vals: {}\".format(len(num_cols_missing_minor_cols), num_cols_missing_minor_cols))\n",
    "\n",
    "\n",
    "\n",
    "# col_transformers.append(transform_minor_num_columns_pipe)\n",
    "\n",
    "num_cols_missing_major_cols = num_cols_missing_pct[num_cols_missing_pct > 0.05].index.to_list()\n",
    "print(\"There are {} numeric columns with over 5% missing vals: {}\".format(len(num_cols_missing_major_cols), num_cols_missing_major_cols))\n",
    "\n"
   ]
  },
  {
   "cell_type": "markdown",
   "metadata": {},
   "source": [
    "# 4. Feature Engineering\n",
    "\n",
    "## 4.1 One-hot vector\n",
    "\n",
    "In real pipeline, we use SimpleImputer to avoid dataleakage."
   ]
  },
  {
   "cell_type": "markdown",
   "metadata": {},
   "source": [
    "# 5. Modeling"
   ]
  },
  {
   "cell_type": "code",
   "execution_count": 23,
   "metadata": {
    "ExecuteTime": {
     "end_time": "2025-10-26T02:43:44.325947Z",
     "start_time": "2025-10-26T02:43:44.317726Z"
    }
   },
   "outputs": [],
   "source": [
    "from sklearn.model_selection import train_test_split, GridSearchCV, StratifiedKFold\n",
    "from sklearn.linear_model import LogisticRegression\n",
    "from sklearn.metrics import make_scorer, roc_auc_score, f1_score, confusion_matrix, precision_recall_curve\n",
    "from outlier_and_nan_imputer import OutlierAndNaNImputer\n",
    "\n"
   ]
  },
  {
   "cell_type": "code",
   "execution_count": 24,
   "metadata": {
    "ExecuteTime": {
     "end_time": "2025-10-26T02:43:44.429978Z",
     "start_time": "2025-10-26T02:43:44.325947Z"
    }
   },
   "outputs": [],
   "source": [
    "# Prepare features\n",
    "\n",
    "Y = raw_data[\"TARGET\"]\n",
    "X_cols = [_ for _ in df.columns if _ not in [\"TARGET\", \"SK_ID_CURR\"]]\n",
    "X = df[X_cols]\n"
   ]
  },
  {
   "cell_type": "markdown",
   "metadata": {},
   "source": [
    "DAYS_EMPLOYED and AMT_REQ_CREDIT_BUREAU_QRT need special treatment:\n",
    "\n",
    "DAYS_EMPLOYED:\n",
    "1. Identify values > 0.99 quantile as outliers, and impute with median.\n",
    "2. Impute missing values with mean.\n",
    "\n",
    "AMT_REQ_CREDIT_BUREAU_QRT:\n",
    "1. Identify values > 260 as outliers, and impute with median.\n",
    "2. Impute missing values with mean."
   ]
  },
  {
   "cell_type": "code",
   "execution_count": 25,
   "metadata": {
    "ExecuteTime": {
     "end_time": "2025-10-26T02:43:44.805875Z",
     "start_time": "2025-10-26T02:43:44.431030Z"
    }
   },
   "outputs": [],
   "source": [
    "days_emp_pipe = Pipeline([\n",
    "    (\"days_employed\", OutlierAndNaNImputer(q=0.99))\n",
    "])\n",
    "\n",
    "    \n",
    "amt_req_qtr_pipe = Pipeline([\n",
    "    (\"imp\", OutlierAndNaNImputer(upper=260))\n",
    "])\n",
    "\n",
    "\n",
    "\n",
    "\n",
    "num_minor_pipe = Pipeline([\n",
    "    (\"num_minor\", SimpleImputer(strategy = \"median\")),\n",
    "    (\"scale\", StandardScaler()),\n",
    "    (\"pca\", PCA(n_components=0.99))\n",
    "]\n",
    ")\n",
    "\n",
    "num_major_pipe = Pipeline([\n",
    "    (\"num_major\", SimpleImputer(strategy = \"mean\", add_indicator=True)),\n",
    "    (\"scale\", StandardScaler()),\n",
    "    (\"pca\", PCA(n_components=0.99))\n",
    "]\n",
    ")\n",
    "\n",
    "other_num_cols_pipe = Pipeline([\n",
    "    (\"scale\", StandardScaler()),\n",
    "    (\"pca\", PCA(n_components=0.99))\n",
    "]\n",
    ")\n",
    "\n",
    "\n",
    "\n",
    "cat_minor_pipe = Pipeline([\n",
    "    (\"cat_minor\", SimpleImputer(strategy=\"most_frequent\")),\n",
    "    (\"onehot\", OneHotEncoder(handle_unknown=\"ignore\", sparse_output=False)),\n",
    "]\n",
    ")\n",
    "\n",
    "\n",
    "cat_major_pipe = Pipeline([\n",
    "    (\"cat_major\", SimpleImputer(strategy=\"constant\", fill_value = \"Unknown\")),\n",
    "    (\"onehot\", OneHotEncoder(handle_unknown=\"ignore\", sparse_output=False)),\n",
    "]\n",
    ")\n",
    "\n",
    "\n",
    "other_cat_cols_pipline = Pipeline([\n",
    "    (\"onehot\", OneHotEncoder(handle_unknown=\"ignore\", sparse_output=False))\n",
    "]\n",
    ")\n",
    "\n",
    "\n",
    "# Other column transformers\n",
    "num_cols_missing_major_cols = [_ for _ in num_cols_missing_major_cols if _ not in (\"DAYS_EMPLOYED\", \"AMT_REQ_CREDIT_BUREAU_QRT\")]\n",
    "\n",
    "special_num_cols = set(num_cols_missing_minor_cols+ num_cols_missing_major_cols+ [\"DAYS_EMPLOYED\", \"AMT_REQ_CREDIT_BUREAU_QRT\"])\n",
    "other_num_cols = [_ for _ in num_cols if _ not in special_num_cols]\n",
    "\n",
    "other_cat_cols = [_ for _ in cat_cols if (_ not in missing_minor_cols) and (_ not in missing_major_cols)]\n",
    "\n",
    "\n",
    "\n",
    "col_transformers = [\n",
    "    (\"days_emp\", days_emp_pipe, [\"DAYS_EMPLOYED\"]),\n",
    "    (\"amt_req_qtr\", amt_req_qtr_pipe, [\"AMT_REQ_CREDIT_BUREAU_QRT\"]),\n",
    "    (\"num_minor\", num_minor_pipe, num_cols_missing_minor_cols),\n",
    "    (\"num_major\", num_major_pipe, num_cols_missing_major_cols),\n",
    "    (\"other_num\", other_num_cols_pipe, other_num_cols),\n",
    "    (\"cat_minor\", cat_minor_pipe, missing_minor_cols),\n",
    "    (\"cat_major\", cat_major_pipe, missing_major_cols),\n",
    "    (\"other_cat\", other_cat_cols_pipline, other_cat_cols)\n",
    "    \n",
    "]\n",
    "\n",
    "preprocessor = ColumnTransformer(transformers= col_transformers, remainder=\"passthrough\" )#.set_output(transform=\"pandas\") \n",
    "\n",
    "\n",
    "# Split train-validation first, before fitting the column transformer\n",
    "X_train, X_test, y_train, y_test = train_test_split(X, Y,test_size=0.2, random_state=0)"
   ]
  },
  {
   "cell_type": "code",
   "execution_count": 26,
   "metadata": {
    "ExecuteTime": {
     "end_time": "2025-10-26T02:43:44.810296Z",
     "start_time": "2025-10-26T02:43:44.807027Z"
    }
   },
   "outputs": [],
   "source": [
    "# # Skip the hyper param tuning\n",
    "# pipe = Pipeline(steps=[\n",
    "#     (\"preprocessor\", preprocessor),\n",
    "#     (\"clf\", LogisticRegression(\n",
    "#         solver=\"liblinear\",\n",
    "#         random_state=0,\n",
    "#         max_iter=1000,\n",
    "#         C=0.1,\n",
    "#         penalty=\"l1\",\n",
    "#         class_weight=\"balanced\"\n",
    "#     ))\n",
    "# ])\n",
    "# \n",
    "# # Fit on the entire training set\n",
    "# pipe.fit(X_train, y_train)\n",
    "# \n",
    "# \n",
    "# \n",
    "# loaded_model = pipe\n",
    "# y_pred = loaded_model.predict(X_test)\n",
    "# y_pred_prob = loaded_model.predict_proba(X_test)[:, 1]\n",
    "# \n",
    "# \n",
    "# # Print model performance\n",
    "# model_performance(y_test, y_pred, y_pred_prob)"
   ]
  },
  {
   "cell_type": "code",
   "execution_count": 27,
   "metadata": {
    "ExecuteTime": {
     "end_time": "2025-10-26T04:09:14.566667Z",
     "start_time": "2025-10-26T02:43:44.810296Z"
    }
   },
   "outputs": [
    {
     "name": "stdout",
     "output_type": "stream",
     "text": [
      "Fitting 3 folds for each of 10 candidates, totalling 30 fits\n"
     ]
    },
    {
     "name": "stderr",
     "output_type": "stream",
     "text": [
      "C:\\Users\\YXY6X3U\\github\\ml-ops-notes\\.venv\\Lib\\site-packages\\sklearn\\svm\\_base.py:1250: ConvergenceWarning: Liblinear failed to converge, increase the number of iterations.\n",
      "  warnings.warn(\n"
     ]
    },
    {
     "name": "stdout",
     "output_type": "stream",
     "text": [
      "Best params: {'clf__solver': 'liblinear', 'clf__penalty': 'l1', 'clf__class_weight': 'balanced', 'clf__C': 10}\n",
      "CV AUC: 0.7513649189024809\n",
      "✅ Model saved to model/lr_best_model.pkl\n",
      "✅ Metadata saved to model/lr_best_model_meta.json\n",
      "f1_score:  0.25964449274237367\n",
      "confusion matrix [[39082 17566]\n",
      " [ 1510  3345]]\n",
      "roc_auc_score:  0.754404448393323\n"
     ]
    }
   ],
   "source": [
    "### Hyperparam Tuning\n",
    "\n",
    "pipe = Pipeline(steps=[\n",
    "    (\"preprocessor\", preprocessor),\n",
    "    # (\"smote\", SMOTE(sampling_strategy=4/6, k_neighbors=3, random_state=0)),\n",
    "    (\"clf\", LogisticRegression(random_state=0))\n",
    "])\n",
    "\n",
    "\n",
    "param_grid = [\n",
    "    # 1) liblinear: L1/L2, good on smaller/medium feature sets\n",
    "    {\n",
    "        \"clf__solver\": [\"liblinear\"],\n",
    "        \"clf__penalty\": [\"l1\", \"l2\"],\n",
    "        \"clf__C\": [0.01, 0.03, 0.1, 0.3, 1, 3, 10],\n",
    "        \"clf__class_weight\": [None, \"balanced\"],\n",
    "        # optional: nudge convergence\n",
    "        # \"clf__tol\": [1e-4, 1e-3],\n",
    "    },\n",
    "\n",
    "    # 2) saga: adds elastic-net (often best with many correlated features)\n",
    "    {\n",
    "        \"clf__solver\": [\"saga\"],\n",
    "        \"clf__penalty\": [\"l1\", \"l2\", \"elasticnet\"],\n",
    "        \"clf__l1_ratio\": [0.15, 0.5, 0.85],   # only used when penalty=\"elasticnet\"\n",
    "        \"clf__C\": [0.01, 0.03, 0.1, 0.3, 1, 3, 10],\n",
    "        \"clf__class_weight\": [None, \"balanced\"],\n",
    "        \"clf__max_iter\": [2000],              # saga sometimes needs more iters\n",
    "        # optional:\n",
    "        # \"clf__tol\": [1e-4, 1e-3],\n",
    "    },\n",
    "]\n",
    "\n",
    "\n",
    "cv = StratifiedKFold(n_splits=3, shuffle=True, random_state=0)\n",
    "grid = RandomizedSearchCV(\n",
    "    pipe,\n",
    "    param_grid,\n",
    "    scoring=\"roc_auc\", \n",
    "    cv=cv,\n",
    "    n_jobs=-1,\n",
    "    verbose=10,\n",
    "    random_state=0,\n",
    "    refit=True\n",
    ")\n",
    "\n",
    "grid.fit(X_train, y_train)\n",
    "print(\"Best params:\", grid.best_params_)\n",
    "print(\"CV AUC:\", grid.best_score_)\n",
    "\n",
    "# Save the best model\n",
    "save_best_model(grid, \"model/lr_best_model.pkl\")\n",
    "\n",
    "\n",
    "# Load model\n",
    "loaded_model = joblib.load(\"model/lr_best_model.pkl\")\n",
    "y_pred = loaded_model.predict(X_test)\n",
    "y_pred_prob = loaded_model.predict_proba(X_test)[:, 1]\n",
    "\n",
    "# Print model performance\n",
    "model_performance(y_test, y_pred, y_pred_prob)"
   ]
  },
  {
   "cell_type": "markdown",
   "metadata": {},
   "source": [
    "The roc-auc score is fine but f1-score is low. One possible reason is the default threshold 0.5 didn't cutoff properly."
   ]
  },
  {
   "cell_type": "markdown",
   "metadata": {},
   "source": [
    "# Submit"
   ]
  },
  {
   "cell_type": "code",
   "execution_count": 31,
   "metadata": {
    "ExecuteTime": {
     "end_time": "2025-10-26T04:23:30.170644Z",
     "start_time": "2025-10-26T04:23:29.831799Z"
    }
   },
   "outputs": [],
   "source": [
    "test_data = pd.read_csv(\"data/application_test.csv\")\n"
   ]
  },
  {
   "cell_type": "code",
   "execution_count": 32,
   "metadata": {
    "ExecuteTime": {
     "end_time": "2025-10-26T04:23:30.993334Z",
     "start_time": "2025-10-26T04:23:30.829626Z"
    }
   },
   "outputs": [],
   "source": [
    "test_data = test_data.merge(previous_applications, on=\"SK_ID_CURR\", how=\"left\", suffixes=[\"_main\", \"_previous_app\"])\n",
    "test_data = test_data.merge(bureau, on=\"SK_ID_CURR\", how=\"left\", suffixes=[\"_main\", \"_bureau\"])"
   ]
  },
  {
   "cell_type": "code",
   "execution_count": 33,
   "metadata": {
    "ExecuteTime": {
     "end_time": "2025-10-26T04:23:32.489300Z",
     "start_time": "2025-10-26T04:23:31.647970Z"
    }
   },
   "outputs": [],
   "source": [
    "test_y_pred_prob = loaded_model.predict_proba(test_data)[:, 1]\n",
    "\n",
    "# test_y_pred = best_param.predict(test_df_imputed)\n",
    "# test_y_pred_prob = best_param.predict_proba(test_df_imputed)[:, 1]\n",
    "\n",
    "\n",
    "final = pd.DataFrame(test_data[[\"SK_ID_CURR\"]])\n",
    "final[\"TARGET\"] = test_y_pred_prob\n",
    "\n",
    "final.to_csv(\"submission_lr.csv\", index=False, header=True)"
   ]
  },
  {
   "cell_type": "markdown",
   "metadata": {},
   "source": [
    "This version got a 0.74 AUC score"
   ]
  },
  {
   "cell_type": "markdown",
   "metadata": {},
   "source": [
    "# Shapley Values"
   ]
  },
  {
   "cell_type": "code",
   "execution_count": 34,
   "metadata": {
    "ExecuteTime": {
     "end_time": "2025-10-26T04:24:19.971741Z",
     "start_time": "2025-10-26T04:23:37.349368Z"
    }
   },
   "outputs": [
    {
     "name": "stderr",
     "output_type": "stream",
     "text": [
      "C:\\Users\\YXY6X3U\\github\\ml-ops-notes\\.venv\\Lib\\site-packages\\shap\\explainers\\_linear.py:99: FutureWarning: The feature_perturbation option is now deprecated in favor of using the appropriate masker (maskers.Independent, maskers.Partition or maskers.Impute).\n",
      "  warnings.warn(wmsg, FutureWarning)\n"
     ]
    },
    {
     "data": {
      "text/plain": "<Figure size 800x950 with 2 Axes>",
      "image/png": "[encoded data removed]"
     },
     "metadata": {},
     "output_type": "display_data"
    },
    {
     "data": {
      "text/plain": "<Figure size 800x950 with 1 Axes>",
      "image/png": "[encoded data removed]"
     },
     "metadata": {},
     "output_type": "display_data"
    }
   ],
   "source": [
    "\n",
    "# 1) Split the pipeline\n",
    "pre = loaded_model.named_steps[\"preprocessor\"]\n",
    "clf = loaded_model.named_steps[\"clf\"]\n",
    "\n",
    "# 2) Transform X with the (already-fitted) preprocessor\n",
    "X_train_tr = pre.transform(X_train)\n",
    "\n",
    "# 3) Optional: build a DataFrame for nicer plots (feature names are tricky; see note below)\n",
    "# If you have a reliable way to get feature names, set columns=feat_names.\n",
    "X_train_tr_df = pd.DataFrame(X_train_tr)\n",
    "\n",
    "# 4) Explain the linear model on transformed features\n",
    "explainer = shap.LinearExplainer(clf, X_train_tr, feature_perturbation=\"interventional\")\n",
    "shap_values = explainer(X_train_tr)\n",
    "\n",
    "# 5) Plot\n",
    "shap.summary_plot(shap_values, X_train_tr_df)\n",
    "shap.summary_plot(shap_values, X_train_tr_df, plot_type=\"bar\")"
   ]
  },
  {
   "cell_type": "code",
   "execution_count": null,
   "metadata": {
    "ExecuteTime": {
     "end_time": "2025-10-26T04:09:17.807494Z",
     "start_time": "2025-10-26T04:09:17.807494Z"
    }
   },
   "outputs": [],
   "source": []
  }
 ],
 "metadata": {
  "availableInstances": [
   {
    "_defaultOrder": 0,
    "_isFastLaunch": true,
    "category": "General purpose",
    "gpuNum": 0,
    "hideHardwareSpecs": false,
    "memoryGiB": 4,
    "name": "ml.t3.medium",
    "vcpuNum": 2
   },
   {
    "_defaultOrder": 1,
    "_isFastLaunch": false,
    "category": "General purpose",
    "gpuNum": 0,
    "hideHardwareSpecs": false,
    "memoryGiB": 8,
    "name": "ml.t3.large",
    "vcpuNum": 2
   },
   {
    "_defaultOrder": 2,
    "_isFastLaunch": false,
    "category": "General purpose",
    "gpuNum": 0,
    "hideHardwareSpecs": false,
    "memoryGiB": 16,
    "name": "ml.t3.xlarge",
    "vcpuNum": 4
   },
   {
    "_defaultOrder": 3,
    "_isFastLaunch": false,
    "category": "General purpose",
    "gpuNum": 0,
    "hideHardwareSpecs": false,
    "memoryGiB": 32,
    "name": "ml.t3.2xlarge",
    "vcpuNum": 8
   },
   {
    "_defaultOrder": 4,
    "_isFastLaunch": true,
    "category": "General purpose",
    "gpuNum": 0,
    "hideHardwareSpecs": false,
    "memoryGiB": 8,
    "name": "ml.m5.large",
    "vcpuNum": 2
   },
   {
    "_defaultOrder": 5,
    "_isFastLaunch": false,
    "category": "General purpose",
    "gpuNum": 0,
    "hideHardwareSpecs": false,
    "memoryGiB": 16,
    "name": "ml.m5.xlarge",
    "vcpuNum": 4
   },
   {
    "_defaultOrder": 6,
    "_isFastLaunch": false,
    "category": "General purpose",
    "gpuNum": 0,
    "hideHardwareSpecs": false,
    "memoryGiB": 32,
    "name": "ml.m5.2xlarge",
    "vcpuNum": 8
   },
   {
    "_defaultOrder": 7,
    "_isFastLaunch": false,
    "category": "General purpose",
    "gpuNum": 0,
    "hideHardwareSpecs": false,
    "memoryGiB": 64,
    "name": "ml.m5.4xlarge",
    "vcpuNum": 16
   },
   {
    "_defaultOrder": 8,
    "_isFastLaunch": false,
    "category": "General purpose",
    "gpuNum": 0,
    "hideHardwareSpecs": false,
    "memoryGiB": 128,
    "name": "ml.m5.8xlarge",
    "vcpuNum": 32
   },
   {
    "_defaultOrder": 9,
    "_isFastLaunch": false,
    "category": "General purpose",
    "gpuNum": 0,
    "hideHardwareSpecs": false,
    "memoryGiB": 192,
    "name": "ml.m5.12xlarge",
    "vcpuNum": 48
   },
   {
    "_defaultOrder": 10,
    "_isFastLaunch": false,
    "category": "General purpose",
    "gpuNum": 0,
    "hideHardwareSpecs": false,
    "memoryGiB": 256,
    "name": "ml.m5.16xlarge",
    "vcpuNum": 64
   },
   {
    "_defaultOrder": 11,
    "_isFastLaunch": false,
    "category": "General purpose",
    "gpuNum": 0,
    "hideHardwareSpecs": false,
    "memoryGiB": 384,
    "name": "ml.m5.24xlarge",
    "vcpuNum": 96
   },
   {
    "_defaultOrder": 12,
    "_isFastLaunch": false,
    "category": "General purpose",
    "gpuNum": 0,
    "hideHardwareSpecs": false,
    "memoryGiB": 8,
    "name": "ml.m5d.large",
    "vcpuNum": 2
   },
   {
    "_defaultOrder": 13,
    "_isFastLaunch": false,
    "category": "General purpose",
    "gpuNum": 0,
    "hideHardwareSpecs": false,
    "memoryGiB": 16,
    "name": "ml.m5d.xlarge",
    "vcpuNum": 4
   },
   {
    "_defaultOrder": 14,
    "_isFastLaunch": false,
    "category": "General purpose",
    "gpuNum": 0,
    "hideHardwareSpecs": false,
    "memoryGiB": 32,
    "name": "ml.m5d.2xlarge",
    "vcpuNum": 8
   },
   {
    "_defaultOrder": 15,
    "_isFastLaunch": false,
    "category": "General purpose",
    "gpuNum": 0,
    "hideHardwareSpecs": false,
    "memoryGiB": 64,
    "name": "ml.m5d.4xlarge",
    "vcpuNum": 16
   },
   {
    "_defaultOrder": 16,
    "_isFastLaunch": false,
    "category": "General purpose",
    "gpuNum": 0,
    "hideHardwareSpecs": false,
    "memoryGiB": 128,
    "name": "ml.m5d.8xlarge",
    "vcpuNum": 32
   },
   {
    "_defaultOrder": 17,
    "_isFastLaunch": false,
    "category": "General purpose",
    "gpuNum": 0,
    "hideHardwareSpecs": false,
    "memoryGiB": 192,
    "name": "ml.m5d.12xlarge",
    "vcpuNum": 48
   },
   {
    "_defaultOrder": 18,
    "_isFastLaunch": false,
    "category": "General purpose",
    "gpuNum": 0,
    "hideHardwareSpecs": false,
    "memoryGiB": 256,
    "name": "ml.m5d.16xlarge",
    "vcpuNum": 64
   },
   {
    "_defaultOrder": 19,
    "_isFastLaunch": false,
    "category": "General purpose",
    "gpuNum": 0,
    "hideHardwareSpecs": false,
    "memoryGiB": 384,
    "name": "ml.m5d.24xlarge",
    "vcpuNum": 96
   },
   {
    "_defaultOrder": 20,
    "_isFastLaunch": false,
    "category": "General purpose",
    "gpuNum": 0,
    "hideHardwareSpecs": true,
    "memoryGiB": 0,
    "name": "ml.geospatial.interactive",
    "supportedImageNames": [
     "sagemaker-geospatial-v1-0"
    ],
    "vcpuNum": 0
   },
   {
    "_defaultOrder": 21,
    "_isFastLaunch": true,
    "category": "Compute optimized",
    "gpuNum": 0,
    "hideHardwareSpecs": false,
    "memoryGiB": 4,
    "name": "ml.c5.large",
    "vcpuNum": 2
   },
   {
    "_defaultOrder": 22,
    "_isFastLaunch": false,
    "category": "Compute optimized",
    "gpuNum": 0,
    "hideHardwareSpecs": false,
    "memoryGiB": 8,
    "name": "ml.c5.xlarge",
    "vcpuNum": 4
   },
   {
    "_defaultOrder": 23,
    "_isFastLaunch": false,
    "category": "Compute optimized",
    "gpuNum": 0,
    "hideHardwareSpecs": false,
    "memoryGiB": 16,
    "name": "ml.c5.2xlarge",
    "vcpuNum": 8
   },
   {
    "_defaultOrder": 24,
    "_isFastLaunch": false,
    "category": "Compute optimized",
    "gpuNum": 0,
    "hideHardwareSpecs": false,
    "memoryGiB": 32,
    "name": "ml.c5.4xlarge",
    "vcpuNum": 16
   },
   {
    "_defaultOrder": 25,
    "_isFastLaunch": false,
    "category": "Compute optimized",
    "gpuNum": 0,
    "hideHardwareSpecs": false,
    "memoryGiB": 72,
    "name": "ml.c5.9xlarge",
    "vcpuNum": 36
   },
   {
    "_defaultOrder": 26,
    "_isFastLaunch": false,
    "category": "Compute optimized",
    "gpuNum": 0,
    "hideHardwareSpecs": false,
    "memoryGiB": 96,
    "name": "ml.c5.12xlarge",
    "vcpuNum": 48
   },
   {
    "_defaultOrder": 27,
    "_isFastLaunch": false,
    "category": "Compute optimized",
    "gpuNum": 0,
    "hideHardwareSpecs": false,
    "memoryGiB": 144,
    "name": "ml.c5.18xlarge",
    "vcpuNum": 72
   },
   {
    "_defaultOrder": 28,
    "_isFastLaunch": false,
    "category": "Compute optimized",
    "gpuNum": 0,
    "hideHardwareSpecs": false,
    "memoryGiB": 192,
    "name": "ml.c5.24xlarge",
    "vcpuNum": 96
   },
   {
    "_defaultOrder": 29,
    "_isFastLaunch": true,
    "category": "Accelerated computing",
    "gpuNum": 1,
    "hideHardwareSpecs": false,
    "memoryGiB": 16,
    "name": "ml.g4dn.xlarge",
    "vcpuNum": 4
   },
   {
    "_defaultOrder": 30,
    "_isFastLaunch": false,
    "category": "Accelerated computing",
    "gpuNum": 1,
    "hideHardwareSpecs": false,
    "memoryGiB": 32,
    "name": "ml.g4dn.2xlarge",
    "vcpuNum": 8
   },
   {
    "_defaultOrder": 31,
    "_isFastLaunch": false,
    "category": "Accelerated computing",
    "gpuNum": 1,
    "hideHardwareSpecs": false,
    "memoryGiB": 64,
    "name": "ml.g4dn.4xlarge",
    "vcpuNum": 16
   },
   {
    "_defaultOrder": 32,
    "_isFastLaunch": false,
    "category": "Accelerated computing",
    "gpuNum": 1,
    "hideHardwareSpecs": false,
    "memoryGiB": 128,
    "name": "ml.g4dn.8xlarge",
    "vcpuNum": 32
   },
   {
    "_defaultOrder": 33,
    "_isFastLaunch": false,
    "category": "Accelerated computing",
    "gpuNum": 4,
    "hideHardwareSpecs": false,
    "memoryGiB": 192,
    "name": "ml.g4dn.12xlarge",
    "vcpuNum": 48
   },
   {
    "_defaultOrder": 34,
    "_isFastLaunch": false,
    "category": "Accelerated computing",
    "gpuNum": 1,
    "hideHardwareSpecs": false,
    "memoryGiB": 256,
    "name": "ml.g4dn.16xlarge",
    "vcpuNum": 64
   },
   {
    "_defaultOrder": 35,
    "_isFastLaunch": false,
    "category": "Accelerated computing",
    "gpuNum": 1,
    "hideHardwareSpecs": false,
    "memoryGiB": 61,
    "name": "ml.p3.2xlarge",
    "vcpuNum": 8
   },
   {
    "_defaultOrder": 36,
    "_isFastLaunch": false,
    "category": "Accelerated computing",
    "gpuNum": 4,
    "hideHardwareSpecs": false,
    "memoryGiB": 244,
    "name": "ml.p3.8xlarge",
    "vcpuNum": 32
   },
   {
    "_defaultOrder": 37,
    "_isFastLaunch": false,
    "category": "Accelerated computing",
    "gpuNum": 8,
    "hideHardwareSpecs": false,
    "memoryGiB": 488,
    "name": "ml.p3.16xlarge",
    "vcpuNum": 64
   },
   {
    "_defaultOrder": 38,
    "_isFastLaunch": false,
    "category": "Accelerated computing",
    "gpuNum": 8,
    "hideHardwareSpecs": false,
    "memoryGiB": 768,
    "name": "ml.p3dn.24xlarge",
    "vcpuNum": 96
   },
   {
    "_defaultOrder": 39,
    "_isFastLaunch": false,
    "category": "Memory Optimized",
    "gpuNum": 0,
    "hideHardwareSpecs": false,
    "memoryGiB": 16,
    "name": "ml.r5.large",
    "vcpuNum": 2
   },
   {
    "_defaultOrder": 40,
    "_isFastLaunch": false,
    "category": "Memory Optimized",
    "gpuNum": 0,
    "hideHardwareSpecs": false,
    "memoryGiB": 32,
    "name": "ml.r5.xlarge",
    "vcpuNum": 4
   },
   {
    "_defaultOrder": 41,
    "_isFastLaunch": false,
    "category": "Memory Optimized",
    "gpuNum": 0,
    "hideHardwareSpecs": false,
    "memoryGiB": 64,
    "name": "ml.r5.2xlarge",
    "vcpuNum": 8
   },
   {
    "_defaultOrder": 42,
    "_isFastLaunch": false,
    "category": "Memory Optimized",
    "gpuNum": 0,
    "hideHardwareSpecs": false,
    "memoryGiB": 128,
    "name": "ml.r5.4xlarge",
    "vcpuNum": 16
   },
   {
    "_defaultOrder": 43,
    "_isFastLaunch": false,
    "category": "Memory Optimized",
    "gpuNum": 0,
    "hideHardwareSpecs": false,
    "memoryGiB": 256,
    "name": "ml.r5.8xlarge",
    "vcpuNum": 32
   },
   {
    "_defaultOrder": 44,
    "_isFastLaunch": false,
    "category": "Memory Optimized",
    "gpuNum": 0,
    "hideHardwareSpecs": false,
    "memoryGiB": 384,
    "name": "ml.r5.12xlarge",
    "vcpuNum": 48
   },
   {
    "_defaultOrder": 45,
    "_isFastLaunch": false,
    "category": "Memory Optimized",
    "gpuNum": 0,
    "hideHardwareSpecs": false,
    "memoryGiB": 512,
    "name": "ml.r5.16xlarge",
    "vcpuNum": 64
   },
   {
    "_defaultOrder": 46,
    "_isFastLaunch": false,
    "category": "Memory Optimized",
    "gpuNum": 0,
    "hideHardwareSpecs": false,
    "memoryGiB": 768,
    "name": "ml.r5.24xlarge",
    "vcpuNum": 96
   },
   {
    "_defaultOrder": 47,
    "_isFastLaunch": false,
    "category": "Accelerated computing",
    "gpuNum": 1,
    "hideHardwareSpecs": false,
    "memoryGiB": 16,
    "name": "ml.g5.xlarge",
    "vcpuNum": 4
   },
   {
    "_defaultOrder": 48,
    "_isFastLaunch": false,
    "category": "Accelerated computing",
    "gpuNum": 1,
    "hideHardwareSpecs": false,
    "memoryGiB": 32,
    "name": "ml.g5.2xlarge",
    "vcpuNum": 8
   },
   {
    "_defaultOrder": 49,
    "_isFastLaunch": false,
    "category": "Accelerated computing",
    "gpuNum": 1,
    "hideHardwareSpecs": false,
    "memoryGiB": 64,
    "name": "ml.g5.4xlarge",
    "vcpuNum": 16
   },
   {
    "_defaultOrder": 50,
    "_isFastLaunch": false,
    "category": "Accelerated computing",
    "gpuNum": 1,
    "hideHardwareSpecs": false,
    "memoryGiB": 128,
    "name": "ml.g5.8xlarge",
    "vcpuNum": 32
   },
   {
    "_defaultOrder": 51,
    "_isFastLaunch": false,
    "category": "Accelerated computing",
    "gpuNum": 1,
    "hideHardwareSpecs": false,
    "memoryGiB": 256,
    "name": "ml.g5.16xlarge",
    "vcpuNum": 64
   },
   {
    "_defaultOrder": 52,
    "_isFastLaunch": false,
    "category": "Accelerated computing",
    "gpuNum": 4,
    "hideHardwareSpecs": false,
    "memoryGiB": 192,
    "name": "ml.g5.12xlarge",
    "vcpuNum": 48
   },
   {
    "_defaultOrder": 53,
    "_isFastLaunch": false,
    "category": "Accelerated computing",
    "gpuNum": 4,
    "hideHardwareSpecs": false,
    "memoryGiB": 384,
    "name": "ml.g5.24xlarge",
    "vcpuNum": 96
   },
   {
    "_defaultOrder": 54,
    "_isFastLaunch": false,
    "category": "Accelerated computing",
    "gpuNum": 8,
    "hideHardwareSpecs": false,
    "memoryGiB": 768,
    "name": "ml.g5.48xlarge",
    "vcpuNum": 192
   },
   {
    "_defaultOrder": 55,
    "_isFastLaunch": false,
    "category": "Accelerated computing",
    "gpuNum": 8,
    "hideHardwareSpecs": false,
    "memoryGiB": 1152,
    "name": "ml.p4d.24xlarge",
    "vcpuNum": 96
   },
   {
    "_defaultOrder": 56,
    "_isFastLaunch": false,
    "category": "Accelerated computing",
    "gpuNum": 8,
    "hideHardwareSpecs": false,
    "memoryGiB": 1152,
    "name": "ml.p4de.24xlarge",
    "vcpuNum": 96
   },
   {
    "_defaultOrder": 57,
    "_isFastLaunch": false,
    "category": "Accelerated computing",
    "gpuNum": 0,
    "hideHardwareSpecs": false,
    "memoryGiB": 32,
    "name": "ml.trn1.2xlarge",
    "vcpuNum": 8
   },
   {
    "_defaultOrder": 58,
    "_isFastLaunch": false,
    "category": "Accelerated computing",
    "gpuNum": 0,
    "hideHardwareSpecs": false,
    "memoryGiB": 512,
    "name": "ml.trn1.32xlarge",
    "vcpuNum": 128
   },
   {
    "_defaultOrder": 59,
    "_isFastLaunch": false,
    "category": "Accelerated computing",
    "gpuNum": 0,
    "hideHardwareSpecs": false,
    "memoryGiB": 512,
    "name": "ml.trn1n.32xlarge",
    "vcpuNum": 128
   }
  ],
  "instance_type": "ml.m5.2xlarge",
  "kernelspec": {
   "display_name": "Python 3 (ipykernel)",
   "language": "python",
   "name": "python3"
  },
  "language_info": {
   "codemirror_mode": {
    "name": "ipython",
    "version": 3
   },
   "file_extension": ".py",
   "mimetype": "text/x-python",
   "name": "python",
   "nbconvert_exporter": "python",
   "pygments_lexer": "ipython3",
   "version": "3.11.8"
  }
 },
 "nbformat": 4,
 "nbformat_minor": 4
}
