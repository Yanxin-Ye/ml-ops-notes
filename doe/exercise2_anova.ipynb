{
 "cells": [
  {
   "cell_type": "code",
   "execution_count": 1,
   "id": "5c24a5da",
   "metadata": {},
   "outputs": [],
   "source": [
    "import pandas as pd\n",
    "from scipy import stats"
   ]
  },
  {
   "cell_type": "markdown",
   "id": "9dd6e976",
   "metadata": {},
   "source": [
    "### Question 1\n",
    "I belong to a golf club in my neighborhood. I divide the year into three golf seasons: summer (June–September), winter (November–March), and shoulder (October, April, and May). I believe that I play my best golf during the summer (because I have more time and the course isn’t crowded) and shoulder (because the course isn’t crowded) seasons, and my worst golf is during the winter (because when all of the part-year residents show up, the course is crowded, play is slow, and I get frustrated). Data from the last year are shown in the following table."
   ]
  },
  {
   "cell_type": "code",
   "execution_count": 2,
   "id": "3ebc32b1",
   "metadata": {},
   "outputs": [],
   "source": [
    "group1 = [ 83, 85, 85, 87, 90, 88, 88, 84, 91, 90,]   # Summer]\n",
    "group2 = [ 91, 87, 84, 87, 85, 86, 83,]               # Shoulder]\n",
    "group3 = [ 94, 91, 87, 85, 87, 91, 92, 86,]            # Winter]\n"
   ]
  },
  {
   "cell_type": "markdown",
   "id": "6cc46ab8",
   "metadata": {},
   "source": [
    "Test whether season has an effect on my golf scores. What is the test statistic?"
   ]
  },
  {
   "cell_type": "code",
   "execution_count": 3,
   "id": "cda136e5",
   "metadata": {},
   "outputs": [
    {
     "name": "stdout",
     "output_type": "stream",
     "text": [
      "F-statistic: 2.1214422500338515\n",
      "P-value: 0.14372166166670017\n"
     ]
    }
   ],
   "source": [
    "# Perform one-way ANOVA\n",
    "f_statistic, p_value = stats.f_oneway(group1, group2, group3)\n",
    "\n",
    "print(f\"F-statistic: {f_statistic}\")\n",
    "print(f\"P-value: {p_value}\")\n"
   ]
  },
  {
   "cell_type": "markdown",
   "id": "02602a8e",
   "metadata": {},
   "source": [
    "Do the data indicate that my opinion is correct? Use α = 0.05."
   ]
  },
  {
   "cell_type": "code",
   "execution_count": 4,
   "id": "dc42d0d4",
   "metadata": {},
   "outputs": [
    {
     "name": "stdout",
     "output_type": "stream",
     "text": [
      "Fail to reject the null hypothesis: No significant differences found.\n"
     ]
    }
   ],
   "source": [
    "if p_value < 0.05:\n",
    "    print(\"Reject the null hypothesis: There are significant differences between group means.\")\n",
    "else:\n",
    "    print(\"Fail to reject the null hypothesis: No significant differences found.\")"
   ]
  },
  {
   "cell_type": "markdown",
   "id": "a75af50d",
   "metadata": {},
   "source": [
    "Analyze the residuals from this experiment and comment on model adequacy."
   ]
  },
  {
   "cell_type": "code",
   "execution_count": 5,
   "id": "a9258e2c",
   "metadata": {},
   "outputs": [],
   "source": [
    "# Data\n",
    "data = {\n",
    "    \"Season\": [\"Summer\"] * 10 + [\"Shoulder\"] * 7 + [\"Winter\"] * 8,\n",
    "    \"Observations\": [\n",
    "        83, 85, 85, 87, 90, 88, 88, 84, 91, 90,   # Summer\n",
    "        91, 87, 84, 87, 85, 86, 83,               # Shoulder\n",
    "        94, 91, 87, 85, 87, 91, 92, 86            # Winter\n",
    "    ]\n",
    "}\n",
    "df = pd.DataFrame(data)"
   ]
  },
  {
   "cell_type": "code",
   "execution_count": 6,
   "id": "f5d417ec",
   "metadata": {},
   "outputs": [],
   "source": [
    "group_mean = df.groupby(\"Season\")[\"Observations\"].transform(\"mean\")\n",
    "df[\"fitted\"] = group_mean\n",
    "df[\"error\"] = df[\"Observations\"] - group_mean"
   ]
  },
  {
   "cell_type": "code",
   "execution_count": 7,
   "id": "635b4303",
   "metadata": {},
   "outputs": [
    {
     "data": {
      "text/html": [
       "<div>\n",
       "<style scoped>\n",
       "    .dataframe tbody tr th:only-of-type {\n",
       "        vertical-align: middle;\n",
       "    }\n",
       "\n",
       "    .dataframe tbody tr th {\n",
       "        vertical-align: top;\n",
       "    }\n",
       "\n",
       "    .dataframe thead th {\n",
       "        text-align: right;\n",
       "    }\n",
       "</style>\n",
       "<table border=\"1\" class=\"dataframe\">\n",
       "  <thead>\n",
       "    <tr style=\"text-align: right;\">\n",
       "      <th></th>\n",
       "      <th>Season</th>\n",
       "      <th>Observations</th>\n",
       "      <th>fitted</th>\n",
       "      <th>error</th>\n",
       "    </tr>\n",
       "  </thead>\n",
       "  <tbody>\n",
       "    <tr>\n",
       "      <th>0</th>\n",
       "      <td>Summer</td>\n",
       "      <td>83</td>\n",
       "      <td>87.100000</td>\n",
       "      <td>-4.100000</td>\n",
       "    </tr>\n",
       "    <tr>\n",
       "      <th>1</th>\n",
       "      <td>Summer</td>\n",
       "      <td>85</td>\n",
       "      <td>87.100000</td>\n",
       "      <td>-2.100000</td>\n",
       "    </tr>\n",
       "    <tr>\n",
       "      <th>2</th>\n",
       "      <td>Summer</td>\n",
       "      <td>85</td>\n",
       "      <td>87.100000</td>\n",
       "      <td>-2.100000</td>\n",
       "    </tr>\n",
       "    <tr>\n",
       "      <th>3</th>\n",
       "      <td>Summer</td>\n",
       "      <td>87</td>\n",
       "      <td>87.100000</td>\n",
       "      <td>-0.100000</td>\n",
       "    </tr>\n",
       "    <tr>\n",
       "      <th>4</th>\n",
       "      <td>Summer</td>\n",
       "      <td>90</td>\n",
       "      <td>87.100000</td>\n",
       "      <td>2.900000</td>\n",
       "    </tr>\n",
       "    <tr>\n",
       "      <th>5</th>\n",
       "      <td>Summer</td>\n",
       "      <td>88</td>\n",
       "      <td>87.100000</td>\n",
       "      <td>0.900000</td>\n",
       "    </tr>\n",
       "    <tr>\n",
       "      <th>6</th>\n",
       "      <td>Summer</td>\n",
       "      <td>88</td>\n",
       "      <td>87.100000</td>\n",
       "      <td>0.900000</td>\n",
       "    </tr>\n",
       "    <tr>\n",
       "      <th>7</th>\n",
       "      <td>Summer</td>\n",
       "      <td>84</td>\n",
       "      <td>87.100000</td>\n",
       "      <td>-3.100000</td>\n",
       "    </tr>\n",
       "    <tr>\n",
       "      <th>8</th>\n",
       "      <td>Summer</td>\n",
       "      <td>91</td>\n",
       "      <td>87.100000</td>\n",
       "      <td>3.900000</td>\n",
       "    </tr>\n",
       "    <tr>\n",
       "      <th>9</th>\n",
       "      <td>Summer</td>\n",
       "      <td>90</td>\n",
       "      <td>87.100000</td>\n",
       "      <td>2.900000</td>\n",
       "    </tr>\n",
       "    <tr>\n",
       "      <th>10</th>\n",
       "      <td>Shoulder</td>\n",
       "      <td>91</td>\n",
       "      <td>86.142857</td>\n",
       "      <td>4.857143</td>\n",
       "    </tr>\n",
       "    <tr>\n",
       "      <th>11</th>\n",
       "      <td>Shoulder</td>\n",
       "      <td>87</td>\n",
       "      <td>86.142857</td>\n",
       "      <td>0.857143</td>\n",
       "    </tr>\n",
       "    <tr>\n",
       "      <th>12</th>\n",
       "      <td>Shoulder</td>\n",
       "      <td>84</td>\n",
       "      <td>86.142857</td>\n",
       "      <td>-2.142857</td>\n",
       "    </tr>\n",
       "    <tr>\n",
       "      <th>13</th>\n",
       "      <td>Shoulder</td>\n",
       "      <td>87</td>\n",
       "      <td>86.142857</td>\n",
       "      <td>0.857143</td>\n",
       "    </tr>\n",
       "    <tr>\n",
       "      <th>14</th>\n",
       "      <td>Shoulder</td>\n",
       "      <td>85</td>\n",
       "      <td>86.142857</td>\n",
       "      <td>-1.142857</td>\n",
       "    </tr>\n",
       "    <tr>\n",
       "      <th>15</th>\n",
       "      <td>Shoulder</td>\n",
       "      <td>86</td>\n",
       "      <td>86.142857</td>\n",
       "      <td>-0.142857</td>\n",
       "    </tr>\n",
       "    <tr>\n",
       "      <th>16</th>\n",
       "      <td>Shoulder</td>\n",
       "      <td>83</td>\n",
       "      <td>86.142857</td>\n",
       "      <td>-3.142857</td>\n",
       "    </tr>\n",
       "    <tr>\n",
       "      <th>17</th>\n",
       "      <td>Winter</td>\n",
       "      <td>94</td>\n",
       "      <td>89.125000</td>\n",
       "      <td>4.875000</td>\n",
       "    </tr>\n",
       "    <tr>\n",
       "      <th>18</th>\n",
       "      <td>Winter</td>\n",
       "      <td>91</td>\n",
       "      <td>89.125000</td>\n",
       "      <td>1.875000</td>\n",
       "    </tr>\n",
       "    <tr>\n",
       "      <th>19</th>\n",
       "      <td>Winter</td>\n",
       "      <td>87</td>\n",
       "      <td>89.125000</td>\n",
       "      <td>-2.125000</td>\n",
       "    </tr>\n",
       "    <tr>\n",
       "      <th>20</th>\n",
       "      <td>Winter</td>\n",
       "      <td>85</td>\n",
       "      <td>89.125000</td>\n",
       "      <td>-4.125000</td>\n",
       "    </tr>\n",
       "    <tr>\n",
       "      <th>21</th>\n",
       "      <td>Winter</td>\n",
       "      <td>87</td>\n",
       "      <td>89.125000</td>\n",
       "      <td>-2.125000</td>\n",
       "    </tr>\n",
       "    <tr>\n",
       "      <th>22</th>\n",
       "      <td>Winter</td>\n",
       "      <td>91</td>\n",
       "      <td>89.125000</td>\n",
       "      <td>1.875000</td>\n",
       "    </tr>\n",
       "    <tr>\n",
       "      <th>23</th>\n",
       "      <td>Winter</td>\n",
       "      <td>92</td>\n",
       "      <td>89.125000</td>\n",
       "      <td>2.875000</td>\n",
       "    </tr>\n",
       "    <tr>\n",
       "      <th>24</th>\n",
       "      <td>Winter</td>\n",
       "      <td>86</td>\n",
       "      <td>89.125000</td>\n",
       "      <td>-3.125000</td>\n",
       "    </tr>\n",
       "  </tbody>\n",
       "</table>\n",
       "</div>"
      ],
      "text/plain": [
       "      Season  Observations     fitted     error\n",
       "0     Summer            83  87.100000 -4.100000\n",
       "1     Summer            85  87.100000 -2.100000\n",
       "2     Summer            85  87.100000 -2.100000\n",
       "3     Summer            87  87.100000 -0.100000\n",
       "4     Summer            90  87.100000  2.900000\n",
       "5     Summer            88  87.100000  0.900000\n",
       "6     Summer            88  87.100000  0.900000\n",
       "7     Summer            84  87.100000 -3.100000\n",
       "8     Summer            91  87.100000  3.900000\n",
       "9     Summer            90  87.100000  2.900000\n",
       "10  Shoulder            91  86.142857  4.857143\n",
       "11  Shoulder            87  86.142857  0.857143\n",
       "12  Shoulder            84  86.142857 -2.142857\n",
       "13  Shoulder            87  86.142857  0.857143\n",
       "14  Shoulder            85  86.142857 -1.142857\n",
       "15  Shoulder            86  86.142857 -0.142857\n",
       "16  Shoulder            83  86.142857 -3.142857\n",
       "17    Winter            94  89.125000  4.875000\n",
       "18    Winter            91  89.125000  1.875000\n",
       "19    Winter            87  89.125000 -2.125000\n",
       "20    Winter            85  89.125000 -4.125000\n",
       "21    Winter            87  89.125000 -2.125000\n",
       "22    Winter            91  89.125000  1.875000\n",
       "23    Winter            92  89.125000  2.875000\n",
       "24    Winter            86  89.125000 -3.125000"
      ]
     },
     "execution_count": 7,
     "metadata": {},
     "output_type": "execute_result"
    }
   ],
   "source": [
    "df"
   ]
  },
  {
   "cell_type": "markdown",
   "id": "4a0e38d4",
   "metadata": {},
   "source": [
    "### 1. Residuals vs. Fitted values\n",
    "\n",
    "This checks if residuals are randomly scattered (no pattern = good).\n",
    "\n",
    "Check: constant variance assumption and independence assumption"
   ]
  },
  {
   "cell_type": "code",
   "execution_count": 8,
   "id": "159eb6ed",
   "metadata": {},
   "outputs": [
    {
     "data": {
      "image/png": "[encoded data removed]",
      "text/plain": [
       "<Figure size 640x480 with 1 Axes>"
      ]
     },
     "metadata": {},
     "output_type": "display_data"
    }
   ],
   "source": [
    "import matplotlib.pyplot as plt\n",
    "import seaborn as sns\n",
    "import scipy.stats as stats\n",
    "\n",
    "\n",
    "\n",
    "# Plot\n",
    "sns.scatterplot(x=\"fitted\", y=\"error\", hue=\"Season\", data=df, s=80)\n",
    "plt.axhline(0, color=\"red\", linestyle=\"--\")\n",
    "plt.title(\"Residuals vs. Fitted\")\n",
    "plt.show()\n"
   ]
  },
  {
   "cell_type": "code",
   "execution_count": 9,
   "id": "d75dac37",
   "metadata": {},
   "outputs": [
    {
     "data": {
      "image/png": "[encoded data removed]",
      "text/plain": [
       "<Figure size 640x480 with 1 Axes>"
      ]
     },
     "metadata": {},
     "output_type": "display_data"
    }
   ],
   "source": [
    "sns.boxplot(x=\"Season\", y=\"error\", data=df)\n",
    "plt.axhline(0, color=\"red\", linestyle=\"--\")\n",
    "plt.title(\"Residuals by Season\")\n",
    "plt.show()\n"
   ]
  },
  {
   "cell_type": "markdown",
   "id": "ea5d7d21",
   "metadata": {},
   "source": [
    "Check normality assumption"
   ]
  },
  {
   "cell_type": "code",
   "execution_count": 10,
   "id": "fd1e7a2d",
   "metadata": {},
   "outputs": [
    {
     "data": {
      "image/png": "[encoded data removed]",
      "text/plain": [
       "<Figure size 640x480 with 1 Axes>"
      ]
     },
     "metadata": {},
     "output_type": "display_data"
    }
   ],
   "source": [
    "stats.probplot(df[\"error\"], dist=\"norm\", plot=plt)\n",
    "plt.title(\"Q-Q Plot of Residuals\")\n",
    "plt.show()\n"
   ]
  },
  {
   "cell_type": "code",
   "execution_count": null,
   "id": "4b59545c",
   "metadata": {},
   "outputs": [],
   "source": []
  }
 ],
 "metadata": {
  "kernelspec": {
   "display_name": "Python 3 (ipykernel)",
   "language": "python",
   "name": "python3"
  },
  "language_info": {
   "codemirror_mode": {
    "name": "ipython",
    "version": 3
   },
   "file_extension": ".py",
   "mimetype": "text/x-python",
   "name": "python",
   "nbconvert_exporter": "python",
   "pygments_lexer": "ipython3",
   "version": "3.11.4"
  }
 },
 "nbformat": 4,
 "nbformat_minor": 5
}
